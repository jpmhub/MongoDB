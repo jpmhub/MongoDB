{
 "cells": [
  {
   "cell_type": "markdown",
   "id": "e5c5ad1f",
   "metadata": {},
   "source": [
    "Juan Pablo Márquez 2022"
   ]
  },
  {
   "cell_type": "markdown",
   "id": "31c1dec8",
   "metadata": {},
   "source": [
    "# Càrrega de dades mongodb\n",
    "\n",
    "* Documenta el procés amb un script mongosh.\n",
    "* A partir de les següents data sets de dades: https://www.kaggle.com/stefanoleone992/fifa-22-complete-player-dataset\n",
    "* Carrega les dades a un base de dades i en un col·lecció de jugadors.\n",
    "\n",
    "Para comenzar a trabajar sobre la base de datos de jugadores del fifa 22:\n",
    "1. Crear una base de datos a través de MongoDbCompass.\n",
    "2. Importar los datos de players22.csv a la DB.\n",
    "3. Una vez creada la DB con su colección y importados los datos de los jugadores dentro de ella, simplente accedemos a la consola de MongoDbCompass y ejecutamos el comando 'use fifa22'."
   ]
  },
  {
   "cell_type": "code",
   "execution_count": 2,
   "id": "77769a50",
   "metadata": {},
   "outputs": [
    {
     "data": {
      "text/plain": [
       "Database(MongoClient(host=['localhost:27017'], document_class=dict, tz_aware=False, connect=True), 'fifa22')"
      ]
     },
     "execution_count": 2,
     "metadata": {},
     "output_type": "execute_result"
    }
   ],
   "source": [
    "# Para comenzar a trabajar sobre la base de datos de jugadores del fifa 22:\n",
    "# 1. Crear una base de datos a través de MongoDbCompass. Será con la que trabajamos en este notebook.\n",
    "# 2. Importar los datos de players22.csv a la DB. En la columna wage_eur transformarla a 'Number' / int.\n",
    "# 3. Importar los paquetes necesarios para realizar las conexionces y consultas, entre otras cosas.\n",
    "\n",
    "import pymongo \n",
    "from pymongo import MongoClient\n",
    "import json\n",
    "\n",
    "# Una vez completados los pasos previos nos conectamos a la DB, yo la he nombrado fifa22\n",
    "\n",
    "client = MongoClient('localhost',27017)\n",
    "db = client[\"fifa22\"]\n",
    "db"
   ]
  },
  {
   "cell_type": "code",
   "execution_count": 3,
   "id": "26cc385f",
   "metadata": {},
   "outputs": [
    {
     "data": {
      "text/plain": [
       "['players']"
      ]
     },
     "execution_count": 3,
     "metadata": {},
     "output_type": "execute_result"
    }
   ],
   "source": [
    "# Comprobamos que la conexion a la DB es correcta y que tenga la coleccion 'players'. \n",
    "db.list_collection_names()"
   ]
  },
  {
   "cell_type": "markdown",
   "id": "abd724ff",
   "metadata": {},
   "source": [
    "# Consultar la col·lecció de jugadors. Consultes simples.\n",
    "\n",
    "1. Quins jugadors juguen al Mallorca? Mostra només el nom.\n",
    "\n",
    "    db.players.find({\"club_name\":\"RCD Mallorca\"},{\"long_name\":1})\n",
    "    \n",
    "2. Quins jugadors juguen a la primera divisió i a la segona a Espanya? Mostra només el nom.\n",
    "    \n",
    "    db.players.find({$or: [{\"league_name\":\"Spain Primera Division\"}, {\"league_name\":\"Spanish Segunda División\"}]},{\"long_name\":1})\n",
    "  \n",
    "3. Quins son els equips de primera divisió i de segona a Espanya? Mostra a la divisió que pertanyen.\n",
    "\n",
    "    db.players.aggregate([{$match: {\"league_name\": {$in: [\"Spain Primera Division\",\"Spanish Segunda División\"]}}},{$group:{\"_id\": {\"club_name\": \"$club_name\",\"league_name\": \"$league_name\"}}},{$sort: {\"club_name\": -1,\"_id\": 1}}])"
   ]
  },
  {
   "cell_type": "markdown",
   "id": "47db1472",
   "metadata": {},
   "source": [
    "# Consultar la col·lecció de jugadors. Consultes d’agregació.\n",
    "\n",
    "1. Quin és el valor màxim del camp “power_shot_power”?\n",
    "\n",
    "    db.players.aggregate([{ $group : { _id: \"power_shot_power\", max: { $max : \"$power_shot_power\" }}}])\n",
    "    \n",
    "2. Quin és el jugador amb el valor màxim el camp “power_shot_power”? Mostra el nom i l’equip al que pertany.\n",
    "    \n",
    "    db.players.aggregate([{$group:{_id: \"$long_name\",\"equipo\": {$first: \"$club_name\"},\"potenciaTiro\": { $max : \"$power_shot_power\" },}},{$sort: {\"potenciaTiro\" : -1, _id: 1}},{$limit: 1}])\n",
    "  \n",
    "3. Quin és el jugador amb el valor màxim el camp “power_shot_power” del RCD Mallorca i de la UD Ibiza? Mostra el nom i l’equip al que pertany.\n",
    "\n",
    "    db.players.aggregate([{$match: {\"club_name\": {$in : [\"RCD Mallorca\",\"UD Ibiza\"]}}},{$group: {\"equipo\": { $first : \"$club_name\"},\"potencia de tiro\": { $max : \"$power_shot_power\" },_id: \"$long_name\"}},{$sort: {\"potencia de tiro\" : -1, _id: 1}},{$limit: 2}])\n",
    "\n",
    "4. Equips que la suma del sous del seus jugadors és superior a 3000000.\n",
    "    \n",
    "    db.players.aggregate([{$group: {'_id': '$club_name','Sueldos': {$sum: '$wage_eur'}}}, {$match: {'Sueldos': {$gt: 3000000}}}, {$sort: {'Sueldos': -1}}])\n",
    "    \n",
    "5. Dels equips que la suma del sous del seus jugadors és superior a 3000000. Mostra els jugadors amb el sou més alt.\n",
    "    \n",
    "    db.players.aggregate([{'$group': {'_id': '$club_name','Total Sueldo Equipo': {'$sum': '$wage_eur'},'Jugador': {'$first': '$long_name'},'Sueldo': {'$max': '$wage_eur'}}}, {'$match': {'Total Sueldo Equipo': {'$gt': 3000000}}}, {'$sort': {'_id': -1}}])\n",
    "    \n",
    "6. Dels equips que la suma del sous del seus jugadors és superior a 3000000. Mostra els jugadors que el seu sou és superior a la mitjana del seu equip.\n",
    "    \n",
    "    db.players.aggregate({$group:{_id: '$club_name',sou: { $sum: '$wage_eur'},mitja: {$avg: '$wage_eur'},jugadors: {$push: {short_name:'$short_name', wage_eur:'$wage_eur'}}}},{$match:{sou: {$gt: 3000000}}},{$project:{\"jugadors\":{\"$filter\":{\"input\":\"$jugadors\",\"as\":\"jug\",\"cond\":{\"$gt\": [\"$$jug.wage_eur\", \"$mitja\"]}}},club: \"$club_name\",mitja: \"$mitja\"}})"
   ]
  },
  {
   "cell_type": "markdown",
   "id": "7571fa7c",
   "metadata": {},
   "source": [
    "# Modificar la col·lecció de jugadors.\n",
    "\n",
    "1. Afegeix un camp que sigui la suma dels camps \"power_shot_power\", \"power_jumping\", \"power_stamina\", \"power_strength\" i “power_long_shots\".\n",
    "\n",
    "    db.players.find().forEach( function(player){SumaPowers = parseFloat(player.power_jumping) + parseFloat(player.power_shot_power) + parseFloat(player.power_stamina) + parseFloat(player.power_strength) + parseFloat(player.power_long_shots);db.players.updateOne({_id: player._id},{$set:{'SumaPowers':SumaPowers}})})\n",
    "\n",
    "2. De la col·lecció jugador agafa els atributs: short_name, player_positions, value_eur, club_name, player_tags, i els 10 camps que creguis que estan relacionats amb el valor del jugador. Esborra la resta.\n",
    "    \n",
    "    var arr = db.players.find({},{short_name:1,player_positions:1,value_eur:1,club_name:1,player_tags:1,long_name:1,overall:1,league_name:1,wage_eur:1,age:1,pace:1,shooting:1,passing:1,dribbling:1,defending:1})\n",
    "    \n",
    "    db.players.deleteMany({})\n",
    "    \n",
    "    arr.forEach(function(player){db.players.insertOne(player)})\n",
    "    \n",
    "3. Esborra els judadors que el seu valor sigui inferior a 30000000.\n",
    "    \n",
    "    db.players.remove({value_eur : {$lt: '30000000'}})\n"
   ]
  },
  {
   "cell_type": "markdown",
   "id": "8268bcf1",
   "metadata": {},
   "source": [
    "# Utilitzar python per accedir a mongodb.\n",
    "\n",
    "1. Convertir el camp player_tag en un llista."
   ]
  },
  {
   "cell_type": "code",
   "execution_count": null,
   "id": "5776c16a",
   "metadata": {},
   "outputs": [],
   "source": [
    "# Convertir el camp player_tag en un llista.\n",
    "import pymongo\n",
    "import json\n",
    "\n",
    "client = MongoClient('localhost',27017)\n",
    "db = client[\"fifa22\"]\n",
    "\n",
    "lista = list(db.players.find())\n",
    "\n",
    "for player in lista:\n",
    "    if 'player_tags' in player:\n",
    "        tagList = player['player_tags']\n",
    "        db.players.update_one({'_id':player['_id']},{'$set':{'player_tags':tagList}})\n",
    "\n",
    "list(db.players.find().limit(1))"
   ]
  }
 ],
 "metadata": {
  "kernelspec": {
   "display_name": "Python 3.10.1 64-bit",
   "language": "python",
   "name": "python3"
  },
  "language_info": {
   "codemirror_mode": {
    "name": "ipython",
    "version": 3
   },
   "file_extension": ".py",
   "mimetype": "text/x-python",
   "name": "python",
   "nbconvert_exporter": "python",
   "pygments_lexer": "ipython3",
   "version": "3.10.1"
  },
  "vscode": {
   "interpreter": {
    "hash": "fb4569285eef3a3450cb62085a5b1e0da4bce0af555edc33dcf29baf3acc1368"
   }
  }
 },
 "nbformat": 4,
 "nbformat_minor": 5
}
