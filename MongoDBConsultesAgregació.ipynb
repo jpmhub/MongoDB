{
 "cells": [
  {
   "cell_type": "markdown",
   "id": "c6cbf13d",
   "metadata": {},
   "source": [
    "Juan Pablo Márquez 2022"
   ]
  },
  {
   "cell_type": "markdown",
   "id": "19c766aa",
   "metadata": {},
   "source": [
    "Tipus de dades que es poden emmagatzemar en una base de dades mongo db.\n",
    "\n",
    "https://docs.mongodb.com/manual/reference/bson-types/"
   ]
  },
  {
   "cell_type": "markdown",
   "id": "26c280e7",
   "metadata": {},
   "source": [
    "Mostra les Bases de Dades"
   ]
  },
  {
   "cell_type": "code",
   "execution_count": 107,
   "id": "d5d3c708",
   "metadata": {},
   "outputs": [
    {
     "data": {},
     "metadata": {},
     "output_type": "display_data"
    },
    {
     "data": {},
     "metadata": {},
     "output_type": "display_data"
    },
    {
     "data": {
      "text/plain": [
       "Hosteleria  0.004GB\r\n",
       "RRHH        0.000GB\r\n",
       "admin       0.000GB\r\n",
       "config      0.000GB\r\n",
       "curs_IA_BD  0.000GB\r\n",
       "local       0.000GB\r\n",
       "test        0.000GB"
      ]
     },
     "execution_count": 107,
     "metadata": {},
     "output_type": "execute_result"
    }
   ],
   "source": [
    "show dbs"
   ]
  },
  {
   "cell_type": "markdown",
   "id": "62f7e435",
   "metadata": {},
   "source": [
    "Utilitzar les bases de dades d'Hoteleria"
   ]
  },
  {
   "cell_type": "code",
   "execution_count": 108,
   "id": "2b967c0d",
   "metadata": {},
   "outputs": [
    {
     "data": {},
     "metadata": {},
     "output_type": "display_data"
    },
    {
     "data": {},
     "metadata": {},
     "output_type": "display_data"
    },
    {
     "data": {
      "text/plain": [
       "switched to db Hosteleria"
      ]
     },
     "execution_count": 108,
     "metadata": {},
     "output_type": "execute_result"
    }
   ],
   "source": [
    "use Hosteleria"
   ]
  },
  {
   "cell_type": "markdown",
   "id": "eb22565e",
   "metadata": {},
   "source": [
    "Mostrar les col·leccions de la base de dades d'Hoteleria"
   ]
  },
  {
   "cell_type": "code",
   "execution_count": 30,
   "id": "ebadfa08",
   "metadata": {},
   "outputs": [
    {
     "data": {},
     "metadata": {},
     "output_type": "display_data"
    },
    {
     "data": {},
     "metadata": {},
     "output_type": "display_data"
    },
    {
     "data": {
      "text/plain": [
       "restaurants\r\n",
       "restaurants30"
      ]
     },
     "execution_count": 30,
     "metadata": {},
     "output_type": "execute_result"
    }
   ],
   "source": [
    "show collections"
   ]
  },
  {
   "cell_type": "markdown",
   "id": "1b3f0d2e",
   "metadata": {},
   "source": [
    "## Consultes d'agreació\n",
    "\n",
    "https://docs.mongodb.com/manual/aggregation/"
   ]
  },
  {
   "cell_type": "markdown",
   "id": "f83cee40",
   "metadata": {},
   "source": [
    "Mostrar el valor màxime d'score"
   ]
  },
  {
   "cell_type": "code",
   "execution_count": 16,
   "id": "e1fbbe69",
   "metadata": {},
   "outputs": [
    {
     "data": {
      "text/html": [
       "<style>a.disclosure:link{text-decoration:none;}a.disclosure:visited{text-decoration:none;}.disclosure{color:#337AB7;font-size:150%;}.syntax{color:grey;}.string{color:#9A334F;}.number{color:#5C9632;}.boolean{color:#AA9739;}.key{color:#403075;}.keyword{color:#AA9739;}.object.syntax{color:#337AB7;}.array.syntax{color:#337AB7;}></style><div id=\"48aa98a8-244f-4622-b667-e53f2c3e2f5f\"></div>"
      ]
     },
     "metadata": {},
     "output_type": "display_data"
    },
    {
     "data": {
      "application/javascript": "require([\"https://rawgit.com/caldwell/renderjson/master/renderjson.js\"], function() {document.getElementById('48aa98a8-244f-4622-b667-e53f2c3e2f5f').appendChild(renderjson.set_show_to_level(2)({\"_id\": \"\", \"max_score\": [38, 10, 7, 13]}))});"
     },
     "metadata": {},
     "output_type": "display_data"
    },
    {
     "data": {
      "text/plain": [
       "{ \"_id\" : \"\", \"max_score\" : [ 38, 10, 7, 13 ] }"
      ]
     },
     "execution_count": 16,
     "metadata": {},
     "output_type": "execute_result"
    }
   ],
   "source": [
    "db.restaurants30.aggregate({$group : { _id : \"\", max_score : { $max:\"$grades.score\"} }})"
   ]
  },
  {
   "cell_type": "markdown",
   "id": "779b2428",
   "metadata": {},
   "source": [
    "Retorna el nombre de valoracions de cada restaurant\n",
    "\n",
    "https://docs.mongodb.com/v4.2/reference/operator/aggregation/size/"
   ]
  },
  {
   "cell_type": "code",
   "execution_count": 67,
   "id": "b026314d",
   "metadata": {},
   "outputs": [
    {
     "data": {
      "text/html": [
       "<style>a.disclosure:link{text-decoration:none;}a.disclosure:visited{text-decoration:none;}.disclosure{color:#337AB7;font-size:150%;}.syntax{color:grey;}.string{color:#9A334F;}.number{color:#5C9632;}.boolean{color:#AA9739;}.key{color:#403075;}.keyword{color:#AA9739;}.object.syntax{color:#337AB7;}.array.syntax{color:#337AB7;}></style><div id=\"8199333d-e7c8-4928-abf6-14bc1dbabe7f\"></div>"
      ]
     },
     "metadata": {},
     "output_type": "display_data"
    },
    {
     "data": {
      "application/javascript": "require([\"https://rawgit.com/caldwell/renderjson/master/renderjson.js\"], function() {document.getElementById('8199333d-e7c8-4928-abf6-14bc1dbabe7f').appendChild(renderjson.set_show_to_level(2)([{\"_id\": {\"$oid\": \"618109795e0862670e9cb829\"}, \"cuisine\": \"Delicatessen\", \"name\": \"Wilken'S Fine Food\", \"numberOfGrades\": 6}, {\"_id\": {\"$oid\": \"618109795e0862670e9cb82a\"}, \"cuisine\": \"American \", \"name\": \"C & C Catering Service\", \"numberOfGrades\": 4}, {\"_id\": {\"$oid\": \"618109795e0862670e9cb82b\"}, \"cuisine\": \"Ice Cream, Gelato, Yogurt, Ices\", \"name\": \"Carvel Ice Cream\", \"numberOfGrades\": 3}, {\"_id\": {\"$oid\": \"618109795e0862670e9cb82c\"}, \"cuisine\": \"Delicatessen\", \"name\": \"Nordic Delicacies\", \"numberOfGrades\": 3}, {\"_id\": {\"$oid\": \"618109795e0862670e9cb82d\"}, \"cuisine\": \"American \", \"name\": \"The Movable Feast\", \"numberOfGrades\": 4}, {\"_id\": {\"$oid\": \"618109795e0862670e9cb82e\"}, \"cuisine\": \"American \", \"name\": \"1 East 66Th Street Kitchen\", \"numberOfGrades\": 4}, {\"_id\": {\"$oid\": \"618109795e0862670e9cb82f\"}, \"cuisine\": \"American \", \"name\": \"Glorious Food\", \"numberOfGrades\": 5}, {\"_id\": {\"$oid\": \"618109795e0862670e9cb830\"}, \"cuisine\": \"Jewish/Kosher\", \"name\": \"Seuda Foods\", \"numberOfGrades\": 5}, {\"_id\": {\"$oid\": \"618109795e0862670e9cb831\"}, \"cuisine\": \"Delicatessen\", \"name\": \"Sal'S Deli\", \"numberOfGrades\": 4}, {\"_id\": {\"$oid\": \"618109795e0862670e9cb832\"}, \"cuisine\": \"Delicatessen\", \"name\": \"Steve Chu'S Deli & Grocery\", \"numberOfGrades\": 4}, {\"_id\": {\"$oid\": \"618109795e0862670e9cb833\"}, \"cuisine\": \"Delicatessen\", \"name\": \"Bully'S Deli\", \"numberOfGrades\": 4}, {\"_id\": {\"$oid\": \"618109795e0862670e9cb834\"}, \"cuisine\": \"American \", \"name\": \"P & S Deli Grocery\", \"numberOfGrades\": 4}, {\"_id\": {\"$oid\": \"618109795e0862670e9cb835\"}, \"cuisine\": \"Hamburgers\", \"name\": \"White Castle\", \"numberOfGrades\": 4}, {\"_id\": {\"$oid\": \"618109795e0862670e9cb836\"}, \"cuisine\": \"Chicken\", \"name\": \"Harriet'S Kitchen\", \"numberOfGrades\": 6}, {\"_id\": {\"$oid\": \"618109795e0862670e9cb837\"}, \"cuisine\": \"American \", \"name\": \"Angelika Film Center\", \"numberOfGrades\": 4}, {\"_id\": {\"$oid\": \"618109795e0862670e9cb838\"}, \"cuisine\": \"Turkish\", \"name\": \"The Country Cafe\", \"numberOfGrades\": 4}, {\"_id\": {\"$oid\": \"618109795e0862670e9cb839\"}, \"cuisine\": \"Chinese\", \"name\": \"Ho Mei Restaurant\", \"numberOfGrades\": 8}, {\"_id\": {\"$oid\": \"618109795e0862670e9cb83a\"}, \"cuisine\": \"Caribbean\", \"name\": \"Shashemene Int'L Restaura\", \"numberOfGrades\": 4}, {\"_id\": {\"$oid\": \"618109795e0862670e9cb83b\"}, \"cuisine\": \"American \", \"name\": \"Regina Caterers\", \"numberOfGrades\": 5}, {\"_id\": {\"$oid\": \"618109795e0862670e9cb83c\"}, \"cuisine\": \"Ice Cream, Gelato, Yogurt, Ices\", \"name\": \"Carvel Ice Cream\", \"numberOfGrades\": 5}]))});"
     },
     "metadata": {},
     "output_type": "display_data"
    },
    {
     "data": {
      "text/plain": [
       "{ \"_id\" : ObjectId(\"618109795e0862670e9cb829\"), \"cuisine\" : \"Delicatessen\", \"name\" : \"Wilken'S Fine Food\", \"numberOfGrades\" : 6 }\r\n",
       "{ \"_id\" : ObjectId(\"618109795e0862670e9cb82a\"), \"cuisine\" : \"American \", \"name\" : \"C & C Catering Service\", \"numberOfGrades\" : 4 }\r\n",
       "{ \"_id\" : ObjectId(\"618109795e0862670e9cb82b\"), \"cuisine\" : \"Ice Cream, Gelato, Yogurt, Ices\", \"name\" : \"Carvel Ice Cream\", \"numberOfGrades\" : 3 }\r\n",
       "{ \"_id\" : ObjectId(\"618109795e0862670e9cb82c\"), \"cuisine\" : \"Delicatessen\", \"name\" : \"Nordic Delicacies\", \"numberOfGrades\" : 3 }\r\n",
       "{ \"_id\" : ObjectId(\"618109795e0862670e9cb82d\"), \"cuisine\" : \"American \", \"name\" : \"The Movable Feast\", \"numberOfGrades\" : 4 }\r\n",
       "{ \"_id\" : ObjectId(\"618109795e0862670e9cb82e\"), \"cuisine\" : \"American \", \"name\" : \"1 East 66Th Street Kitchen\", \"numberOfGrades\" : 4 }\r\n",
       "{ \"_id\" : ObjectId(\"618109795e0862670e9cb82f\"), \"cuisine\" : \"American \", \"name\" : \"Glorious Food\", \"numberOfGrades\" : 5 }\r\n",
       "{ \"_id\" : ObjectId(\"618109795e0862670e9cb830\"), \"cuisine\" : \"Jewish/Kosher\", \"name\" : \"Seuda Foods\", \"numberOfGrades\" : 5 }\r\n",
       "{ \"_id\" : ObjectId(\"618109795e0862670e9cb831\"), \"cuisine\" : \"Delicatessen\", \"name\" : \"Sal'S Deli\", \"numberOfGrades\" : 4 }\r\n",
       "{ \"_id\" : ObjectId(\"618109795e0862670e9cb832\"), \"cuisine\" : \"Delicatessen\", \"name\" : \"Steve Chu'S Deli & Grocery\", \"numberOfGrades\" : 4 }\r\n",
       "{ \"_id\" : ObjectId(\"618109795e0862670e9cb833\"), \"cuisine\" : \"Delicatessen\", \"name\" : \"Bully'S Deli\", \"numberOfGrades\" : 4 }\r\n",
       "{ \"_id\" : ObjectId(\"618109795e0862670e9cb834\"), \"cuisine\" : \"American \", \"name\" : \"P & S Deli Grocery\", \"numberOfGrades\" : 4 }\r\n",
       "{ \"_id\" : ObjectId(\"618109795e0862670e9cb835\"), \"cuisine\" : \"Hamburgers\", \"name\" : \"White Castle\", \"numberOfGrades\" : 4 }\r\n",
       "{ \"_id\" : ObjectId(\"618109795e0862670e9cb836\"), \"cuisine\" : \"Chicken\", \"name\" : \"Harriet'S Kitchen\", \"numberOfGrades\" : 6 }\r\n",
       "{ \"_id\" : ObjectId(\"618109795e0862670e9cb837\"), \"cuisine\" : \"American \", \"name\" : \"Angelika Film Center\", \"numberOfGrades\" : 4 }\r\n",
       "{ \"_id\" : ObjectId(\"618109795e0862670e9cb838\"), \"cuisine\" : \"Turkish\", \"name\" : \"The Country Cafe\", \"numberOfGrades\" : 4 }\r\n",
       "{ \"_id\" : ObjectId(\"618109795e0862670e9cb839\"), \"cuisine\" : \"Chinese\", \"name\" : \"Ho Mei Restaurant\", \"numberOfGrades\" : 8 }\r\n",
       "{ \"_id\" : ObjectId(\"618109795e0862670e9cb83a\"), \"cuisine\" : \"Caribbean\", \"name\" : \"Shashemene Int'L Restaura\", \"numberOfGrades\" : 4 }\r\n",
       "{ \"_id\" : ObjectId(\"618109795e0862670e9cb83b\"), \"cuisine\" : \"American \", \"name\" : \"Regina Caterers\", \"numberOfGrades\" : 5 }\r\n",
       "{ \"_id\" : ObjectId(\"618109795e0862670e9cb83c\"), \"cuisine\" : \"Ice Cream, Gelato, Yogurt, Ices\", \"name\" : \"Carvel Ice Cream\", \"numberOfGrades\" : 5 }\r\n",
       "Type \"it\" for more"
      ]
     },
     "execution_count": 67,
     "metadata": {},
     "output_type": "execute_result"
    }
   ],
   "source": [
    "db.restaurants30.aggregate([\n",
    "   {\n",
    "      $project: {  \n",
    "         name: 1,\n",
    "         cuisine: 1,\n",
    "         numberOfGrades: { $cond: { if: { $isArray: \"$grades\" }, then: { $size: \"$grades\" }, else: \"NA\"} }\n",
    "      }\n",
    "   }\n",
    "] )\n"
   ]
  },
  {
   "cell_type": "markdown",
   "id": "057cdef1",
   "metadata": {},
   "source": [
    "## Aggregation Pipeline\n",
    "\n",
    "https://docs.mongodb.com/manual/core/aggregation-pipeline/"
   ]
  },
  {
   "cell_type": "markdown",
   "id": "3c3724cc",
   "metadata": {},
   "source": [
    "## Aggregation Pipeline Stages\n",
    "\n",
    "https://docs.mongodb.com/manual/reference/operator/aggregation-pipeline/"
   ]
  },
  {
   "cell_type": "markdown",
   "id": "1d200e3c",
   "metadata": {},
   "source": [
    "Nombre màxim de valoracions"
   ]
  },
  {
   "cell_type": "code",
   "execution_count": 68,
   "id": "93de2481",
   "metadata": {},
   "outputs": [
    {
     "data": {
      "text/html": [
       "<style>a.disclosure:link{text-decoration:none;}a.disclosure:visited{text-decoration:none;}.disclosure{color:#337AB7;font-size:150%;}.syntax{color:grey;}.string{color:#9A334F;}.number{color:#5C9632;}.boolean{color:#AA9739;}.key{color:#403075;}.keyword{color:#AA9739;}.object.syntax{color:#337AB7;}.array.syntax{color:#337AB7;}></style><div id=\"d8edd96c-ea9e-49da-bc49-744695a5d08b\"></div>"
      ]
     },
     "metadata": {},
     "output_type": "display_data"
    },
    {
     "data": {
      "application/javascript": "require([\"https://rawgit.com/caldwell/renderjson/master/renderjson.js\"], function() {document.getElementById('d8edd96c-ea9e-49da-bc49-744695a5d08b').appendChild(renderjson.set_show_to_level(2)({\"_id\": \"\", \"maxGrades\": 8}))});"
     },
     "metadata": {},
     "output_type": "display_data"
    },
    {
     "data": {
      "text/plain": [
       "{ \"_id\" : \"\", \"maxGrades\" : 8 }"
      ]
     },
     "execution_count": 68,
     "metadata": {},
     "output_type": "execute_result"
    }
   ],
   "source": [
    "db.restaurants30.aggregate([\n",
    "   {\n",
    "      $project: {  \n",
    "         name: 1,\n",
    "         cuisine: 1,\n",
    "         numberOfGrades: { $cond: { if: { $isArray: \"$grades\" }, then: { $size: \"$grades\" }, else: \"NA\"} }\n",
    "      }\n",
    "   },\n",
    "   {\n",
    "       $group:{ \"_id\" :\"\", \"maxGrades\" : { \"$max\":\"$numberOfGrades\"} }\n",
    "   }\n",
    "] )\n"
   ]
  },
  {
   "cell_type": "markdown",
   "id": "c95d5e2f",
   "metadata": {},
   "source": [
    "Nombre mínim de valoracions"
   ]
  },
  {
   "cell_type": "code",
   "execution_count": 69,
   "id": "0250c0b6",
   "metadata": {},
   "outputs": [
    {
     "data": {
      "text/html": [
       "<style>a.disclosure:link{text-decoration:none;}a.disclosure:visited{text-decoration:none;}.disclosure{color:#337AB7;font-size:150%;}.syntax{color:grey;}.string{color:#9A334F;}.number{color:#5C9632;}.boolean{color:#AA9739;}.key{color:#403075;}.keyword{color:#AA9739;}.object.syntax{color:#337AB7;}.array.syntax{color:#337AB7;}></style><div id=\"5d7a7623-c016-4829-ba3a-27c97bf1d829\"></div>"
      ]
     },
     "metadata": {},
     "output_type": "display_data"
    },
    {
     "data": {
      "application/javascript": "require([\"https://rawgit.com/caldwell/renderjson/master/renderjson.js\"], function() {document.getElementById('5d7a7623-c016-4829-ba3a-27c97bf1d829').appendChild(renderjson.set_show_to_level(2)({\"_id\": \"\", \"minGrades\": 3}))});"
     },
     "metadata": {},
     "output_type": "display_data"
    },
    {
     "data": {
      "text/plain": [
       "{ \"_id\" : \"\", \"minGrades\" : 3 }"
      ]
     },
     "execution_count": 69,
     "metadata": {},
     "output_type": "execute_result"
    }
   ],
   "source": [
    "db.restaurants30.aggregate([\n",
    "   {\n",
    "      $project: {  \n",
    "         name: 1,\n",
    "         cuisine: 1,\n",
    "         numberOfGrades: { $cond: { if: { $isArray: \"$grades\" }, then: { $size: \"$grades\" }, else: \"NA\"} }\n",
    "      }\n",
    "   },\n",
    "   {\n",
    "       $group:{ \"_id\" :\"\", \"minGrades\" : { \"$min\":\"$numberOfGrades\"} }\n",
    "   }\n",
    "] )"
   ]
  },
  {
   "cell_type": "markdown",
   "id": "e2181e42",
   "metadata": {},
   "source": [
    "Noms dels restaurant que han rebut més valoracions"
   ]
  },
  {
   "cell_type": "code",
   "execution_count": 70,
   "id": "4ff25d0a",
   "metadata": {},
   "outputs": [
    {
     "data": {
      "text/html": [
       "<style>a.disclosure:link{text-decoration:none;}a.disclosure:visited{text-decoration:none;}.disclosure{color:#337AB7;font-size:150%;}.syntax{color:grey;}.string{color:#9A334F;}.number{color:#5C9632;}.boolean{color:#AA9739;}.key{color:#403075;}.keyword{color:#AA9739;}.object.syntax{color:#337AB7;}.array.syntax{color:#337AB7;}></style><div id=\"cd6872a8-d3a2-4820-962f-bb4b2b5e8762\"></div>"
      ]
     },
     "metadata": {},
     "output_type": "display_data"
    },
    {
     "data": {
      "application/javascript": "require([\"https://rawgit.com/caldwell/renderjson/master/renderjson.js\"], function() {document.getElementById('cd6872a8-d3a2-4820-962f-bb4b2b5e8762').appendChild(renderjson.set_show_to_level(2)([{\"_id\": \"\", \"maxGrades\": 8, \"restaurant\": [{\"_id\": {\"$oid\": \"618109795e0862670e9cb829\"}, \"name_restaurant\": \"Wilken'S Fine Food\", \"numOfGrades\": 6}, {\"_id\": {\"$oid\": \"618109795e0862670e9cb82a\"}, \"name_restaurant\": \"C & C Catering Service\", \"numOfGrades\": 4}, {\"_id\": {\"$oid\": \"618109795e0862670e9cb82b\"}, \"name_restaurant\": \"Carvel Ice Cream\", \"numOfGrades\": 3}, {\"_id\": {\"$oid\": \"618109795e0862670e9cb82c\"}, \"name_restaurant\": \"Nordic Delicacies\", \"numOfGrades\": 3}, {\"_id\": {\"$oid\": \"618109795e0862670e9cb82d\"}, \"name_restaurant\": \"The Movable Feast\", \"numOfGrades\": 4}, {\"_id\": {\"$oid\": \"618109795e0862670e9cb82e\"}, \"name_restaurant\": \"1 East 66Th Street Kitchen\", \"numOfGrades\": 4}, {\"_id\": {\"$oid\": \"618109795e0862670e9cb82f\"}, \"name_restaurant\": \"Glorious Food\", \"numOfGrades\": 5}, {\"_id\": {\"$oid\": \"618109795e0862670e9cb830\"}, \"name_restaurant\": \"Seuda Foods\", \"numOfGrades\": 5}, {\"_id\": {\"$oid\": \"618109795e0862670e9cb831\"}, \"name_restaurant\": \"Sal'S Deli\", \"numOfGrades\": 4}, {\"_id\": {\"$oid\": \"618109795e0862670e9cb832\"}, \"name_restaurant\": \"Steve Chu'S Deli & Grocery\", \"numOfGrades\": 4}, {\"_id\": {\"$oid\": \"618109795e0862670e9cb833\"}, \"name_restaurant\": \"Bully'S Deli\", \"numOfGrades\": 4}, {\"_id\": {\"$oid\": \"618109795e0862670e9cb834\"}, \"name_restaurant\": \"P & S Deli Grocery\", \"numOfGrades\": 4}, {\"_id\": {\"$oid\": \"618109795e0862670e9cb835\"}, \"name_restaurant\": \"White Castle\", \"numOfGrades\": 4}, {\"_id\": {\"$oid\": \"618109795e0862670e9cb836\"}, \"name_restaurant\": \"Harriet'S Kitchen\", \"numOfGrades\": 6}, {\"_id\": {\"$oid\": \"618109795e0862670e9cb837\"}, \"name_restaurant\": \"Angelika Film Center\", \"numOfGrades\": 4}, {\"_id\": {\"$oid\": \"618109795e0862670e9cb838\"}, \"name_restaurant\": \"The Country Cafe\", \"numOfGrades\": 4}, {\"_id\": {\"$oid\": \"618109795e0862670e9cb839\"}, \"name_restaurant\": \"Ho Mei Restaurant\", \"numOfGrades\": 8}, {\"_id\": {\"$oid\": \"618109795e0862670e9cb83a\"}, \"name_restaurant\": \"Shashemene Int'L Restaura\", \"numOfGrades\": 4}, {\"_id\": {\"$oid\": \"618109795e0862670e9cb83b\"}, \"name_restaurant\": \"Regina Caterers\", \"numOfGrades\": 5}, {\"_id\": {\"$oid\": \"618109795e0862670e9cb83c\"}, \"name_restaurant\": \"Carvel Ice Cream\", \"numOfGrades\": 5}, {\"_id\": {\"$oid\": \"618109795e0862670e9cb83d\"}, \"name_restaurant\": \"May May Kitchen\", \"numOfGrades\": 5}, {\"_id\": {\"$oid\": \"618109795e0862670e9cb83e\"}, \"name_restaurant\": \"Taste The Tropics Ice Cream\", \"numOfGrades\": 4}, {\"_id\": {\"$oid\": \"618109795e0862670e9cb83f\"}, \"name_restaurant\": \"Riviera Caterer\", \"numOfGrades\": 4}, {\"_id\": {\"$oid\": \"618109795e0862670e9cb840\"}, \"name_restaurant\": \"Kosher Island\", \"numOfGrades\": 4}, {\"_id\": {\"$oid\": \"618109795e0862670e9cb841\"}, \"name_restaurant\": \"Tov Kosher Kitchen\", \"numOfGrades\": 4}, {\"_id\": {\"$oid\": \"618109795e0862670e9cb842\"}, \"name_restaurant\": \"Wild Asia\", \"numOfGrades\": 3}, {\"_id\": {\"$oid\": \"618109795e0862670e9cb843\"}, \"name_restaurant\": \"Wendy'S\", \"numOfGrades\": 4}, {\"_id\": {\"$oid\": \"618109795e0862670e9cb844\"}, \"name_restaurant\": \"Dj Reynolds Pub And Restaurant\", \"numOfGrades\": 4}, {\"_id\": {\"$oid\": \"618109795e0862670e9cb845\"}, \"name_restaurant\": \"Morris Park Bake Shop\", \"numOfGrades\": 5}, {\"_id\": {\"$oid\": \"618109795e0862670e9cb846\"}, \"name_restaurant\": \"Brunos On The Boulevard\", \"numOfGrades\": 4}]}]))});"
     },
     "metadata": {},
     "output_type": "display_data"
    },
    {
     "data": {
      "text/plain": [
       "{ \"_id\" : \"\", \"maxGrades\" : 8, \"restaurant\" : [ { \"_id\" : ObjectId(\"618109795e0862670e9cb829\"), \"name_restaurant\" : \"Wilken'S Fine Food\", \"numOfGrades\" : 6 }, { \"_id\" : ObjectId(\"618109795e0862670e9cb82a\"), \"name_restaurant\" : \"C & C Catering Service\", \"numOfGrades\" : 4 }, { \"_id\" : ObjectId(\"618109795e0862670e9cb82b\"), \"name_restaurant\" : \"Carvel Ice Cream\", \"numOfGrades\" : 3 }, { \"_id\" : ObjectId(\"618109795e0862670e9cb82c\"), \"name_restaurant\" : \"Nordic Delicacies\", \"numOfGrades\" : 3 }, { \"_id\" : ObjectId(\"618109795e0862670e9cb82d\"), \"name_restaurant\" : \"The Movable Feast\", \"numOfGrades\" : 4 }, { \"_id\" : ObjectId(\"618109795e0862670e9cb82e\"), \"name_restaurant\" : \"1 East 66Th Street Kitchen\", \"numOfGrades\" : 4 }, { \"_id\" : ObjectId(\"618109795e0862670e9cb82f\"), \"name_restaurant\" : \"Glorious Food\", \"numOfGrades\" : 5 }, { \"_id\" : ObjectId(\"618109795e0862670e9cb830\"), \"name_restaurant\" : \"Seuda Foods\", \"numOfGrades\" : 5 }, { \"_id\" : ObjectId(\"618109795e0862670e9cb831\"), \"name_restaurant\" : \"Sal'S Deli\", \"numOfGrades\" : 4 }, { \"_id\" : ObjectId(\"618109795e0862670e9cb832\"), \"name_restaurant\" : \"Steve Chu'S Deli & Grocery\", \"numOfGrades\" : 4 }, { \"_id\" : ObjectId(\"618109795e0862670e9cb833\"), \"name_restaurant\" : \"Bully'S Deli\", \"numOfGrades\" : 4 }, { \"_id\" : ObjectId(\"618109795e0862670e9cb834\"), \"name_restaurant\" : \"P & S Deli Grocery\", \"numOfGrades\" : 4 }, { \"_id\" : ObjectId(\"618109795e0862670e9cb835\"), \"name_restaurant\" : \"White Castle\", \"numOfGrades\" : 4 }, { \"_id\" : ObjectId(\"618109795e0862670e9cb836\"), \"name_restaurant\" : \"Harriet'S Kitchen\", \"numOfGrades\" : 6 }, { \"_id\" : ObjectId(\"618109795e0862670e9cb837\"), \"name_restaurant\" : \"Angelika Film Center\", \"numOfGrades\" : 4 }, { \"_id\" : ObjectId(\"618109795e0862670e9cb838\"), \"name_restaurant\" : \"The Country Cafe\", \"numOfGrades\" : 4 }, { \"_id\" : ObjectId(\"618109795e0862670e9cb839\"), \"name_restaurant\" : \"Ho Mei Restaurant\", \"numOfGrades\" : 8 }, { \"_id\" : ObjectId(\"618109795e0862670e9cb83a\"), \"name_restaurant\" : \"Shashemene Int'L Restaura\", \"numOfGrades\" : 4 }, { \"_id\" : ObjectId(\"618109795e0862670e9cb83b\"), \"name_restaurant\" : \"Regina Caterers\", \"numOfGrades\" : 5 }, { \"_id\" : ObjectId(\"618109795e0862670e9cb83c\"), \"name_restaurant\" : \"Carvel Ice Cream\", \"numOfGrades\" : 5 }, { \"_id\" : ObjectId(\"618109795e0862670e9cb83d\"), \"name_restaurant\" : \"May May Kitchen\", \"numOfGrades\" : 5 }, { \"_id\" : ObjectId(\"618109795e0862670e9cb83e\"), \"name_restaurant\" : \"Taste The Tropics Ice Cream\", \"numOfGrades\" : 4 }, { \"_id\" : ObjectId(\"618109795e0862670e9cb83f\"), \"name_restaurant\" : \"Riviera Caterer\", \"numOfGrades\" : 4 }, { \"_id\" : ObjectId(\"618109795e0862670e9cb840\"), \"name_restaurant\" : \"Kosher Island\", \"numOfGrades\" : 4 }, { \"_id\" : ObjectId(\"618109795e0862670e9cb841\"), \"name_restaurant\" : \"Tov Kosher Kitchen\", \"numOfGrades\" : 4 }, { \"_id\" : ObjectId(\"618109795e0862670e9cb842\"), \"name_restaurant\" : \"Wild Asia\", \"numOfGrades\" : 3 }, { \"_id\" : ObjectId(\"618109795e0862670e9cb843\"), \"name_restaurant\" : \"Wendy'S\", \"numOfGrades\" : 4 }, { \"_id\" : ObjectId(\"618109795e0862670e9cb844\"), \"name_restaurant\" : \"Dj Reynolds Pub And Restaurant\", \"numOfGrades\" : 4 }, { \"_id\" : ObjectId(\"618109795e0862670e9cb845\"), \"name_restaurant\" : \"Morris Park Bake Shop\", \"numOfGrades\" : 5 }, { \"_id\" : ObjectId(\"618109795e0862670e9cb846\"), \"name_restaurant\" : \"Brunos On The Boulevard\", \"numOfGrades\" : 4 } ] }"
      ]
     },
     "execution_count": 70,
     "metadata": {},
     "output_type": "execute_result"
    }
   ],
   "source": [
    "db.restaurants30.aggregate([\n",
    "   {\n",
    "      $project: {  \n",
    "         name: 1,\n",
    "         cuisine: 1,\n",
    "         numberOfGrades: { $cond: { if: { $isArray: \"$grades\" }, then: { $size: \"$grades\" }, else: \"NA\"} }\n",
    "      }\n",
    "   },\n",
    "   {\n",
    "       $group:{ \"_id\" :\"\", \n",
    "           \"maxGrades\" : { \"$max\":\"$numberOfGrades\"},\n",
    "           \"restaurant\":{\"$push\": {\"_id\":\"$_id\", \"name_restaurant\":\"$name\", \"numOfGrades\":\"$numberOfGrades\" }}\n",
    "       }\n",
    "   }\n",
    "\n",
    "   \n",
    "] )"
   ]
  },
  {
   "cell_type": "code",
   "execution_count": 71,
   "id": "77cbe86d",
   "metadata": {},
   "outputs": [
    {
     "data": {
      "text/html": [
       "<style>a.disclosure:link{text-decoration:none;}a.disclosure:visited{text-decoration:none;}.disclosure{color:#337AB7;font-size:150%;}.syntax{color:grey;}.string{color:#9A334F;}.number{color:#5C9632;}.boolean{color:#AA9739;}.key{color:#403075;}.keyword{color:#AA9739;}.object.syntax{color:#337AB7;}.array.syntax{color:#337AB7;}></style><div id=\"790d9bfd-9adf-4b63-9caa-448ef5896e57\"></div>"
      ]
     },
     "metadata": {},
     "output_type": "display_data"
    },
    {
     "data": {
      "application/javascript": "require([\"https://rawgit.com/caldwell/renderjson/master/renderjson.js\"], function() {document.getElementById('790d9bfd-9adf-4b63-9caa-448ef5896e57').appendChild(renderjson.set_show_to_level(2)([{\"_id\": \"\", \"fitrats\": [{\"_id\": {\"$oid\": \"618109795e0862670e9cb839\"}, \"name_restaurant\": \"Ho Mei Restaurant\", \"numOfGrades\": 8}]}]))});"
     },
     "metadata": {},
     "output_type": "display_data"
    },
    {
     "data": {
      "text/plain": [
       "{ \"_id\" : \"\", \"fitrats\" : [ { \"_id\" : ObjectId(\"618109795e0862670e9cb839\"), \"name_restaurant\" : \"Ho Mei Restaurant\", \"numOfGrades\" : 8 } ] }"
      ]
     },
     "execution_count": 71,
     "metadata": {},
     "output_type": "execute_result"
    }
   ],
   "source": [
    "db.restaurants30.aggregate([\n",
    "   {\n",
    "      $project: {  \n",
    "         name: 1,\n",
    "         cuisine: 1,\n",
    "         numberOfGrades: { $cond: { if: { $isArray: \"$grades\" }, then: { $size: \"$grades\" }, else: \"NA\"} }\n",
    "      }\n",
    "   },\n",
    "   {\n",
    "       $group:{ \"_id\" :\"\", \n",
    "           \"maxGrades\" : { \"$max\":\"$numberOfGrades\"},\n",
    "           \"restaurant\":{\"$push\": {\"_id\":\"$_id\", \"name_restaurant\":\"$name\", \"numOfGrades\":\"$numberOfGrades\" }}\n",
    "       }\n",
    "   },\n",
    "   {\n",
    "       $project:{\n",
    "           \"fitrats\":{\n",
    "               \"$filter\":{\n",
    "                   \"input\":\"$restaurant\",\n",
    "                    \"as\":\"res\",\n",
    "                    \"cond\":{\"$eq\": [\"$$res.numOfGrades\",\"$maxGrades\"]}\n",
    "                }\n",
    "            }\n",
    "        }\n",
    "    }\n",
    "] )"
   ]
  },
  {
   "cell_type": "markdown",
   "id": "c7b59cef",
   "metadata": {},
   "source": [
    "Noms dels restaurant que han rebut més valoracions segons el tipus de cuina"
   ]
  },
  {
   "cell_type": "code",
   "execution_count": 73,
   "id": "c07e7d93",
   "metadata": {},
   "outputs": [
    {
     "data": {
      "text/html": [
       "<style>a.disclosure:link{text-decoration:none;}a.disclosure:visited{text-decoration:none;}.disclosure{color:#337AB7;font-size:150%;}.syntax{color:grey;}.string{color:#9A334F;}.number{color:#5C9632;}.boolean{color:#AA9739;}.key{color:#403075;}.keyword{color:#AA9739;}.object.syntax{color:#337AB7;}.array.syntax{color:#337AB7;}></style><div id=\"25cde0b4-c4ce-440b-aade-7fd797649b2c\"></div>"
      ]
     },
     "metadata": {},
     "output_type": "display_data"
    },
    {
     "data": {
      "application/javascript": "require([\"https://rawgit.com/caldwell/renderjson/master/renderjson.js\"], function() {document.getElementById('25cde0b4-c4ce-440b-aade-7fd797649b2c').appendChild(renderjson.set_show_to_level(2)([{\"_id\": \"Caribbean\", \"fitrats\": [{\"_id\": {\"$oid\": \"618109795e0862670e9cb83a\"}, \"name_restaurant\": \"Shashemene Int'L Restaura\", \"numOfGrades\": 4}]}, {\"_id\": \"Irish\", \"fitrats\": [{\"_id\": {\"$oid\": \"618109795e0862670e9cb844\"}, \"name_restaurant\": \"Dj Reynolds Pub And Restaurant\", \"numOfGrades\": 4}]}, {\"_id\": \"Ice Cream, Gelato, Yogurt, Ices\", \"fitrats\": [{\"_id\": {\"$oid\": \"618109795e0862670e9cb83c\"}, \"name_restaurant\": \"Carvel Ice Cream\", \"numOfGrades\": 5}]}, {\"_id\": \"Chinese\", \"fitrats\": [{\"_id\": {\"$oid\": \"618109795e0862670e9cb839\"}, \"name_restaurant\": \"Ho Mei Restaurant\", \"numOfGrades\": 8}]}, {\"_id\": \"Jewish/Kosher\", \"fitrats\": [{\"_id\": {\"$oid\": \"618109795e0862670e9cb830\"}, \"name_restaurant\": \"Seuda Foods\", \"numOfGrades\": 5}]}, {\"_id\": \"Chicken\", \"fitrats\": [{\"_id\": {\"$oid\": \"618109795e0862670e9cb836\"}, \"name_restaurant\": \"Harriet'S Kitchen\", \"numOfGrades\": 6}]}, {\"_id\": \"Hamburgers\", \"fitrats\": [{\"_id\": {\"$oid\": \"618109795e0862670e9cb835\"}, \"name_restaurant\": \"White Castle\", \"numOfGrades\": 4}, {\"_id\": {\"$oid\": \"618109795e0862670e9cb843\"}, \"name_restaurant\": \"Wendy'S\", \"numOfGrades\": 4}]}, {\"_id\": \"Delicatessen\", \"fitrats\": [{\"_id\": {\"$oid\": \"618109795e0862670e9cb829\"}, \"name_restaurant\": \"Wilken'S Fine Food\", \"numOfGrades\": 6}]}, {\"_id\": \"American \", \"fitrats\": [{\"_id\": {\"$oid\": \"618109795e0862670e9cb82f\"}, \"name_restaurant\": \"Glorious Food\", \"numOfGrades\": 5}, {\"_id\": {\"$oid\": \"618109795e0862670e9cb83b\"}, \"name_restaurant\": \"Regina Caterers\", \"numOfGrades\": 5}]}, {\"_id\": \"Bakery\", \"fitrats\": [{\"_id\": {\"$oid\": \"618109795e0862670e9cb845\"}, \"name_restaurant\": \"Morris Park Bake Shop\", \"numOfGrades\": 5}]}, {\"_id\": \"Turkish\", \"fitrats\": [{\"_id\": {\"$oid\": \"618109795e0862670e9cb838\"}, \"name_restaurant\": \"The Country Cafe\", \"numOfGrades\": 4}]}]))});"
     },
     "metadata": {},
     "output_type": "display_data"
    },
    {
     "data": {
      "text/plain": [
       "{ \"_id\" : \"Caribbean\", \"fitrats\" : [ { \"_id\" : ObjectId(\"618109795e0862670e9cb83a\"), \"name_restaurant\" : \"Shashemene Int'L Restaura\", \"numOfGrades\" : 4 } ] }\r\n",
       "{ \"_id\" : \"Irish\", \"fitrats\" : [ { \"_id\" : ObjectId(\"618109795e0862670e9cb844\"), \"name_restaurant\" : \"Dj Reynolds Pub And Restaurant\", \"numOfGrades\" : 4 } ] }\r\n",
       "{ \"_id\" : \"Ice Cream, Gelato, Yogurt, Ices\", \"fitrats\" : [ { \"_id\" : ObjectId(\"618109795e0862670e9cb83c\"), \"name_restaurant\" : \"Carvel Ice Cream\", \"numOfGrades\" : 5 } ] }\r\n",
       "{ \"_id\" : \"Chinese\", \"fitrats\" : [ { \"_id\" : ObjectId(\"618109795e0862670e9cb839\"), \"name_restaurant\" : \"Ho Mei Restaurant\", \"numOfGrades\" : 8 } ] }\r\n",
       "{ \"_id\" : \"Jewish/Kosher\", \"fitrats\" : [ { \"_id\" : ObjectId(\"618109795e0862670e9cb830\"), \"name_restaurant\" : \"Seuda Foods\", \"numOfGrades\" : 5 } ] }\r\n",
       "{ \"_id\" : \"Chicken\", \"fitrats\" : [ { \"_id\" : ObjectId(\"618109795e0862670e9cb836\"), \"name_restaurant\" : \"Harriet'S Kitchen\", \"numOfGrades\" : 6 } ] }\r\n",
       "{ \"_id\" : \"Hamburgers\", \"fitrats\" : [ { \"_id\" : ObjectId(\"618109795e0862670e9cb835\"), \"name_restaurant\" : \"White Castle\", \"numOfGrades\" : 4 }, { \"_id\" : ObjectId(\"618109795e0862670e9cb843\"), \"name_restaurant\" : \"Wendy'S\", \"numOfGrades\" : 4 } ] }\r\n",
       "{ \"_id\" : \"Delicatessen\", \"fitrats\" : [ { \"_id\" : ObjectId(\"618109795e0862670e9cb829\"), \"name_restaurant\" : \"Wilken'S Fine Food\", \"numOfGrades\" : 6 } ] }\r\n",
       "{ \"_id\" : \"American \", \"fitrats\" : [ { \"_id\" : ObjectId(\"618109795e0862670e9cb82f\"), \"name_restaurant\" : \"Glorious Food\", \"numOfGrades\" : 5 }, { \"_id\" : ObjectId(\"618109795e0862670e9cb83b\"), \"name_restaurant\" : \"Regina Caterers\", \"numOfGrades\" : 5 } ] }\r\n",
       "{ \"_id\" : \"Bakery\", \"fitrats\" : [ { \"_id\" : ObjectId(\"618109795e0862670e9cb845\"), \"name_restaurant\" : \"Morris Park Bake Shop\", \"numOfGrades\" : 5 } ] }\r\n",
       "{ \"_id\" : \"Turkish\", \"fitrats\" : [ { \"_id\" : ObjectId(\"618109795e0862670e9cb838\"), \"name_restaurant\" : \"The Country Cafe\", \"numOfGrades\" : 4 } ] }"
      ]
     },
     "execution_count": 73,
     "metadata": {},
     "output_type": "execute_result"
    }
   ],
   "source": [
    "db.restaurants30.aggregate([\n",
    "   {\n",
    "      $project: {  \n",
    "         name: 1,\n",
    "         cuisine: 1,\n",
    "         numberOfGrades: { $cond: { if: { $isArray: \"$grades\" }, then: { $size: \"$grades\" }, else: \"NA\"} }\n",
    "      }\n",
    "   },\n",
    "   {\n",
    "       $group:{ \"_id\" :\"$cuisine\", \n",
    "           \"maxGrades\" : { \"$max\":\"$numberOfGrades\"},\n",
    "           \"restaurant\":{\"$push\": {\"_id\":\"$_id\", \"name_restaurant\":\"$name\", \"numOfGrades\":\"$numberOfGrades\" }}\n",
    "       }\n",
    "   },\n",
    "   {\n",
    "       $project:{\n",
    "           \"fitrats\":{\n",
    "               \"$filter\":{\n",
    "                   \"input\":\"$restaurant\",\n",
    "                    \"as\":\"res\",\n",
    "                    \"cond\":{\"$eq\": [\"$$res.numOfGrades\",\"$maxGrades\"]}\n",
    "                }\n",
    "            }\n",
    "        }\n",
    "    }\n",
    "] )"
   ]
  },
  {
   "cell_type": "markdown",
   "id": "a2b0f93e",
   "metadata": {},
   "source": [
    "Puntuació mitjana de cada restaurant."
   ]
  },
  {
   "cell_type": "code",
   "execution_count": 86,
   "id": "17bf4093",
   "metadata": {},
   "outputs": [
    {
     "data": {
      "text/html": [
       "<style>a.disclosure:link{text-decoration:none;}a.disclosure:visited{text-decoration:none;}.disclosure{color:#337AB7;font-size:150%;}.syntax{color:grey;}.string{color:#9A334F;}.number{color:#5C9632;}.boolean{color:#AA9739;}.key{color:#403075;}.keyword{color:#AA9739;}.object.syntax{color:#337AB7;}.array.syntax{color:#337AB7;}></style><div id=\"8e084fd4-2420-4692-87c9-dc3b06363bf6\"></div>"
      ]
     },
     "metadata": {},
     "output_type": "display_data"
    },
    {
     "data": {
      "application/javascript": "require([\"https://rawgit.com/caldwell/renderjson/master/renderjson.js\"], function() {document.getElementById('8e084fd4-2420-4692-87c9-dc3b06363bf6').appendChild(renderjson.set_show_to_level(2)([{\"_id\": {\"$oid\": \"618109795e0862670e9cb829\"}, \"cuisine\": \"Delicatessen\", \"name\": \"Wilken'S Fine Food\", \"avgScore\": 10}, {\"_id\": {\"$oid\": \"618109795e0862670e9cb82a\"}, \"cuisine\": \"American \", \"name\": \"C & C Catering Service\", \"avgScore\": 3.5}, {\"_id\": {\"$oid\": \"618109795e0862670e9cb82b\"}, \"cuisine\": \"Ice Cream, Gelato, Yogurt, Ices\", \"name\": \"Carvel Ice Cream\", \"avgScore\": 10.666666666666666}, {\"_id\": {\"$oid\": \"618109795e0862670e9cb82c\"}, \"cuisine\": \"Delicatessen\", \"name\": \"Nordic Delicacies\", \"avgScore\": 5.666666666666667}, {\"_id\": {\"$oid\": \"618109795e0862670e9cb82d\"}, \"cuisine\": \"American \", \"name\": \"The Movable Feast\", \"avgScore\": 9.25}, {\"_id\": {\"$oid\": \"618109795e0862670e9cb82e\"}, \"cuisine\": \"American \", \"name\": \"1 East 66Th Street Kitchen\", \"avgScore\": 3.25}, {\"_id\": {\"$oid\": \"618109795e0862670e9cb82f\"}, \"cuisine\": \"American \", \"name\": \"Glorious Food\", \"avgScore\": 12.2}, {\"_id\": {\"$oid\": \"618109795e0862670e9cb830\"}, \"cuisine\": \"Jewish/Kosher\", \"name\": \"Seuda Foods\", \"avgScore\": 11.8}, {\"_id\": {\"$oid\": \"618109795e0862670e9cb831\"}, \"cuisine\": \"Delicatessen\", \"name\": \"Sal'S Deli\", \"avgScore\": 9.5}, {\"_id\": {\"$oid\": \"618109795e0862670e9cb832\"}, \"cuisine\": \"Delicatessen\", \"name\": \"Steve Chu'S Deli & Grocery\", \"avgScore\": 7.5}, {\"_id\": {\"$oid\": \"618109795e0862670e9cb833\"}, \"cuisine\": \"Delicatessen\", \"name\": \"Bully'S Deli\", \"avgScore\": 9.25}, {\"_id\": {\"$oid\": \"618109795e0862670e9cb834\"}, \"cuisine\": \"American \", \"name\": \"P & S Deli Grocery\", \"avgScore\": 16.75}, {\"_id\": {\"$oid\": \"618109795e0862670e9cb835\"}, \"cuisine\": \"Hamburgers\", \"name\": \"White Castle\", \"avgScore\": 6.25}, {\"_id\": {\"$oid\": \"618109795e0862670e9cb836\"}, \"cuisine\": \"Chicken\", \"name\": \"Harriet'S Kitchen\", \"avgScore\": 10.666666666666666}, {\"_id\": {\"$oid\": \"618109795e0862670e9cb837\"}, \"cuisine\": \"American \", \"name\": \"Angelika Film Center\", \"avgScore\": 7.75}, {\"_id\": {\"$oid\": \"618109795e0862670e9cb838\"}, \"cuisine\": \"Turkish\", \"name\": \"The Country Cafe\", \"avgScore\": 10.5}, {\"_id\": {\"$oid\": \"618109795e0862670e9cb839\"}, \"cuisine\": \"Chinese\", \"name\": \"Ho Mei Restaurant\", \"avgScore\": 9.125}, {\"_id\": {\"$oid\": \"618109795e0862670e9cb83a\"}, \"cuisine\": \"Caribbean\", \"name\": \"Shashemene Int'L Restaura\", \"avgScore\": 8}, {\"_id\": {\"$oid\": \"618109795e0862670e9cb83b\"}, \"cuisine\": \"American \", \"name\": \"Regina Caterers\", \"avgScore\": 9.6}, {\"_id\": {\"$oid\": \"618109795e0862670e9cb83c\"}, \"cuisine\": \"Ice Cream, Gelato, Yogurt, Ices\", \"name\": \"Carvel Ice Cream\", \"avgScore\": 8.6}]))});"
     },
     "metadata": {},
     "output_type": "display_data"
    },
    {
     "data": {
      "text/plain": [
       "{ \"_id\" : ObjectId(\"618109795e0862670e9cb829\"), \"cuisine\" : \"Delicatessen\", \"name\" : \"Wilken'S Fine Food\", \"avgScore\" : 10 }\r\n",
       "{ \"_id\" : ObjectId(\"618109795e0862670e9cb82a\"), \"cuisine\" : \"American \", \"name\" : \"C & C Catering Service\", \"avgScore\" : 3.5 }\r\n",
       "{ \"_id\" : ObjectId(\"618109795e0862670e9cb82b\"), \"cuisine\" : \"Ice Cream, Gelato, Yogurt, Ices\", \"name\" : \"Carvel Ice Cream\", \"avgScore\" : 10.666666666666666 }\r\n",
       "{ \"_id\" : ObjectId(\"618109795e0862670e9cb82c\"), \"cuisine\" : \"Delicatessen\", \"name\" : \"Nordic Delicacies\", \"avgScore\" : 5.666666666666667 }\r\n",
       "{ \"_id\" : ObjectId(\"618109795e0862670e9cb82d\"), \"cuisine\" : \"American \", \"name\" : \"The Movable Feast\", \"avgScore\" : 9.25 }\r\n",
       "{ \"_id\" : ObjectId(\"618109795e0862670e9cb82e\"), \"cuisine\" : \"American \", \"name\" : \"1 East 66Th Street Kitchen\", \"avgScore\" : 3.25 }\r\n",
       "{ \"_id\" : ObjectId(\"618109795e0862670e9cb82f\"), \"cuisine\" : \"American \", \"name\" : \"Glorious Food\", \"avgScore\" : 12.2 }\r\n",
       "{ \"_id\" : ObjectId(\"618109795e0862670e9cb830\"), \"cuisine\" : \"Jewish/Kosher\", \"name\" : \"Seuda Foods\", \"avgScore\" : 11.8 }\r\n",
       "{ \"_id\" : ObjectId(\"618109795e0862670e9cb831\"), \"cuisine\" : \"Delicatessen\", \"name\" : \"Sal'S Deli\", \"avgScore\" : 9.5 }\r\n",
       "{ \"_id\" : ObjectId(\"618109795e0862670e9cb832\"), \"cuisine\" : \"Delicatessen\", \"name\" : \"Steve Chu'S Deli & Grocery\", \"avgScore\" : 7.5 }\r\n",
       "{ \"_id\" : ObjectId(\"618109795e0862670e9cb833\"), \"cuisine\" : \"Delicatessen\", \"name\" : \"Bully'S Deli\", \"avgScore\" : 9.25 }\r\n",
       "{ \"_id\" : ObjectId(\"618109795e0862670e9cb834\"), \"cuisine\" : \"American \", \"name\" : \"P & S Deli Grocery\", \"avgScore\" : 16.75 }\r\n",
       "{ \"_id\" : ObjectId(\"618109795e0862670e9cb835\"), \"cuisine\" : \"Hamburgers\", \"name\" : \"White Castle\", \"avgScore\" : 6.25 }\r\n",
       "{ \"_id\" : ObjectId(\"618109795e0862670e9cb836\"), \"cuisine\" : \"Chicken\", \"name\" : \"Harriet'S Kitchen\", \"avgScore\" : 10.666666666666666 }\r\n",
       "{ \"_id\" : ObjectId(\"618109795e0862670e9cb837\"), \"cuisine\" : \"American \", \"name\" : \"Angelika Film Center\", \"avgScore\" : 7.75 }\r\n",
       "{ \"_id\" : ObjectId(\"618109795e0862670e9cb838\"), \"cuisine\" : \"Turkish\", \"name\" : \"The Country Cafe\", \"avgScore\" : 10.5 }\r\n",
       "{ \"_id\" : ObjectId(\"618109795e0862670e9cb839\"), \"cuisine\" : \"Chinese\", \"name\" : \"Ho Mei Restaurant\", \"avgScore\" : 9.125 }\r\n",
       "{ \"_id\" : ObjectId(\"618109795e0862670e9cb83a\"), \"cuisine\" : \"Caribbean\", \"name\" : \"Shashemene Int'L Restaura\", \"avgScore\" : 8 }\r\n",
       "{ \"_id\" : ObjectId(\"618109795e0862670e9cb83b\"), \"cuisine\" : \"American \", \"name\" : \"Regina Caterers\", \"avgScore\" : 9.6 }\r\n",
       "{ \"_id\" : ObjectId(\"618109795e0862670e9cb83c\"), \"cuisine\" : \"Ice Cream, Gelato, Yogurt, Ices\", \"name\" : \"Carvel Ice Cream\", \"avgScore\" : 8.6 }\r\n",
       "Type \"it\" for more"
      ]
     },
     "execution_count": 86,
     "metadata": {},
     "output_type": "execute_result"
    }
   ],
   "source": [
    "db.restaurants30.aggregate([\n",
    "   {\n",
    "      $project: {  \n",
    "         name: 1,\n",
    "         cuisine: 1,\n",
    "         avgScore :  { \"$avg\": \"$grades.score\" }\n",
    "      }\n",
    "   }\n",
    "] )"
   ]
  },
  {
   "cell_type": "markdown",
   "id": "dc9598a6",
   "metadata": {},
   "source": [
    "Quina és la puntuació mitjana mes alta"
   ]
  },
  {
   "cell_type": "code",
   "execution_count": 87,
   "id": "63b9fd8e",
   "metadata": {},
   "outputs": [
    {
     "data": {
      "text/html": [
       "<style>a.disclosure:link{text-decoration:none;}a.disclosure:visited{text-decoration:none;}.disclosure{color:#337AB7;font-size:150%;}.syntax{color:grey;}.string{color:#9A334F;}.number{color:#5C9632;}.boolean{color:#AA9739;}.key{color:#403075;}.keyword{color:#AA9739;}.object.syntax{color:#337AB7;}.array.syntax{color:#337AB7;}></style><div id=\"0b555f74-dd38-452f-9e45-adaa04ec3102\"></div>"
      ]
     },
     "metadata": {},
     "output_type": "display_data"
    },
    {
     "data": {
      "application/javascript": "require([\"https://rawgit.com/caldwell/renderjson/master/renderjson.js\"], function() {document.getElementById('0b555f74-dd38-452f-9e45-adaa04ec3102').appendChild(renderjson.set_show_to_level(2)({\"_id\": \"\", \"maxScoreCuisine\": 27.6}))});"
     },
     "metadata": {},
     "output_type": "display_data"
    },
    {
     "data": {
      "text/plain": [
       "{ \"_id\" : \"\", \"maxScoreCuisine\" : 27.6 }"
      ]
     },
     "execution_count": 87,
     "metadata": {},
     "output_type": "execute_result"
    }
   ],
   "source": [
    "db.restaurants30.aggregate([\n",
    "   {\n",
    "      $project: {  \n",
    "         name: 1,\n",
    "         cuisine: 1,\n",
    "         avgScore :  { \"$avg\": \"$grades.score\" }\n",
    "      }\n",
    "   },\n",
    "   {\n",
    "       $group:{ \"_id\" :\"\", \n",
    "           \"maxAvgScore\" : { \"$max\":\"$avgScore\"},\n",
    "       }\n",
    "   }\n",
    "] )"
   ]
  },
  {
   "cell_type": "markdown",
   "id": "2644cb63",
   "metadata": {},
   "source": [
    "Quina és la puntuació mitjana per cada tipus de cuina"
   ]
  },
  {
   "cell_type": "code",
   "execution_count": 90,
   "id": "d4b3610b",
   "metadata": {},
   "outputs": [
    {
     "data": {
      "text/html": [
       "<style>a.disclosure:link{text-decoration:none;}a.disclosure:visited{text-decoration:none;}.disclosure{color:#337AB7;font-size:150%;}.syntax{color:grey;}.string{color:#9A334F;}.number{color:#5C9632;}.boolean{color:#AA9739;}.key{color:#403075;}.keyword{color:#AA9739;}.object.syntax{color:#337AB7;}.array.syntax{color:#337AB7;}></style><div id=\"83700448-0dda-41ef-b7ba-fe62212d1e12\"></div>"
      ]
     },
     "metadata": {},
     "output_type": "display_data"
    },
    {
     "data": {
      "application/javascript": "require([\"https://rawgit.com/caldwell/renderjson/master/renderjson.js\"], function() {document.getElementById('83700448-0dda-41ef-b7ba-fe62212d1e12').appendChild(renderjson.set_show_to_level(2)([{\"_id\": \"Irish\", \"avgScoreCuisine\": 9.25}, {\"_id\": \"Ice Cream, Gelato, Yogurt, Ices\", \"avgScoreCuisine\": 9.172222222222222}, {\"_id\": \"Jewish/Kosher\", \"avgScoreCuisine\": 13.35}, {\"_id\": \"Chicken\", \"avgScoreCuisine\": 10.666666666666666}, {\"_id\": \"Chinese\", \"avgScoreCuisine\": 18.3625}, {\"_id\": \"Hamburgers\", \"avgScoreCuisine\": 10}, {\"_id\": \"Delicatessen\", \"avgScoreCuisine\": 8.383333333333335}, {\"_id\": \"Bakery\", \"avgScoreCuisine\": 8.2}, {\"_id\": \"Turkish\", \"avgScoreCuisine\": 10.5}, {\"_id\": \"Caribbean\", \"avgScoreCuisine\": 8}, {\"_id\": \"American \", \"avgScoreCuisine\": 9.43}]))});"
     },
     "metadata": {},
     "output_type": "display_data"
    },
    {
     "data": {
      "text/plain": [
       "{ \"_id\" : \"Irish\", \"avgScoreCuisine\" : 9.25 }\r\n",
       "{ \"_id\" : \"Ice Cream, Gelato, Yogurt, Ices\", \"avgScoreCuisine\" : 9.172222222222222 }\r\n",
       "{ \"_id\" : \"Jewish/Kosher\", \"avgScoreCuisine\" : 13.35 }\r\n",
       "{ \"_id\" : \"Chicken\", \"avgScoreCuisine\" : 10.666666666666666 }\r\n",
       "{ \"_id\" : \"Chinese\", \"avgScoreCuisine\" : 18.3625 }\r\n",
       "{ \"_id\" : \"Hamburgers\", \"avgScoreCuisine\" : 10 }\r\n",
       "{ \"_id\" : \"Delicatessen\", \"avgScoreCuisine\" : 8.383333333333335 }\r\n",
       "{ \"_id\" : \"Bakery\", \"avgScoreCuisine\" : 8.2 }\r\n",
       "{ \"_id\" : \"Turkish\", \"avgScoreCuisine\" : 10.5 }\r\n",
       "{ \"_id\" : \"Caribbean\", \"avgScoreCuisine\" : 8 }\r\n",
       "{ \"_id\" : \"American \", \"avgScoreCuisine\" : 9.43 }"
      ]
     },
     "execution_count": 90,
     "metadata": {},
     "output_type": "execute_result"
    }
   ],
   "source": [
    "db.restaurants30.aggregate([\n",
    "   {\n",
    "      $project: {  \n",
    "         name: 1,\n",
    "         cuisine: 1,\n",
    "         avgScore :  { \"$avg\": \"$grades.score\" }\n",
    "      }\n",
    "   },\n",
    "   {\n",
    "       $group:{ \"_id\" :\"$cuisine\", \n",
    "           \"avgScoreCuisine\" : { \"$avg\":\"$avgScore\"},\n",
    "       }\n",
    "   }\n",
    "] )"
   ]
  },
  {
   "cell_type": "markdown",
   "id": "93a6d3dc",
   "metadata": {},
   "source": [
    "Nom dels restaurant amb puntuació mitjana mes alta segons el tipus de cuina"
   ]
  },
  {
   "cell_type": "code",
   "execution_count": 109,
   "id": "8c4eb8e3",
   "metadata": {},
   "outputs": [
    {
     "data": {
      "text/html": [
       "<style>a.disclosure:link{text-decoration:none;}a.disclosure:visited{text-decoration:none;}.disclosure{color:#337AB7;font-size:150%;}.syntax{color:grey;}.string{color:#9A334F;}.number{color:#5C9632;}.boolean{color:#AA9739;}.key{color:#403075;}.keyword{color:#AA9739;}.object.syntax{color:#337AB7;}.array.syntax{color:#337AB7;}></style><div id=\"1dc5318a-fe43-458e-bbed-563c9e1029d7\"></div>"
      ]
     },
     "metadata": {},
     "output_type": "display_data"
    },
    {
     "data": {
      "application/javascript": "require([\"https://rawgit.com/caldwell/renderjson/master/renderjson.js\"], function() {document.getElementById('1dc5318a-fe43-458e-bbed-563c9e1029d7').appendChild(renderjson.set_show_to_level(2)([{\"_id\": \"Jewish/Kosher\", \"maxAvgScoreCuisine\": 17.75, \"fitrats\": [{\"_id\": {\"$oid\": \"618109795e0862670e9cb841\"}, \"nameRestaurant\": \"Tov Kosher Kitchen\", \"typeCuisine\": \"Jewish/Kosher\", \"avgScoreRestaurant\": 17.75}]}, {\"_id\": \"Chicken\", \"maxAvgScoreCuisine\": 10.666666666666666, \"fitrats\": [{\"_id\": {\"$oid\": \"618109795e0862670e9cb836\"}, \"nameRestaurant\": \"Harriet'S Kitchen\", \"typeCuisine\": \"Chicken\", \"avgScoreRestaurant\": 10.666666666666666}]}, {\"_id\": \"Chinese\", \"maxAvgScoreCuisine\": 27.6, \"fitrats\": [{\"_id\": {\"$oid\": \"618109795e0862670e9cb83d\"}, \"nameRestaurant\": \"May May Kitchen\", \"typeCuisine\": \"Chinese\", \"avgScoreRestaurant\": 27.6}]}, {\"_id\": \"Irish\", \"maxAvgScoreCuisine\": 9.25, \"fitrats\": [{\"_id\": {\"$oid\": \"618109795e0862670e9cb844\"}, \"nameRestaurant\": \"Dj Reynolds Pub And Restaurant\", \"typeCuisine\": \"Irish\", \"avgScoreRestaurant\": 9.25}]}, {\"_id\": \"Ice Cream, Gelato, Yogurt, Ices\", \"maxAvgScoreCuisine\": 10.666666666666666, \"fitrats\": [{\"_id\": {\"$oid\": \"618109795e0862670e9cb82b\"}, \"nameRestaurant\": \"Carvel Ice Cream\", \"typeCuisine\": \"Ice Cream, Gelato, Yogurt, Ices\", \"avgScoreRestaurant\": 10.666666666666666}]}, {\"_id\": \"Turkish\", \"maxAvgScoreCuisine\": 10.5, \"fitrats\": [{\"_id\": {\"$oid\": \"618109795e0862670e9cb838\"}, \"nameRestaurant\": \"The Country Cafe\", \"typeCuisine\": \"Turkish\", \"avgScoreRestaurant\": 10.5}]}, {\"_id\": \"Caribbean\", \"maxAvgScoreCuisine\": 8, \"fitrats\": [{\"_id\": {\"$oid\": \"618109795e0862670e9cb83a\"}, \"nameRestaurant\": \"Shashemene Int'L Restaura\", \"typeCuisine\": \"Caribbean\", \"avgScoreRestaurant\": 8}]}, {\"_id\": \"American \", \"maxAvgScoreCuisine\": 17, \"fitrats\": [{\"_id\": {\"$oid\": \"618109795e0862670e9cb846\"}, \"nameRestaurant\": \"Brunos On The Boulevard\", \"typeCuisine\": \"American \", \"avgScoreRestaurant\": 17}]}, {\"_id\": \"Hamburgers\", \"maxAvgScoreCuisine\": 13.75, \"fitrats\": [{\"_id\": {\"$oid\": \"618109795e0862670e9cb843\"}, \"nameRestaurant\": \"Wendy'S\", \"typeCuisine\": \"Hamburgers\", \"avgScoreRestaurant\": 13.75}]}, {\"_id\": \"Delicatessen\", \"maxAvgScoreCuisine\": 10, \"fitrats\": [{\"_id\": {\"$oid\": \"618109795e0862670e9cb829\"}, \"nameRestaurant\": \"Wilken'S Fine Food\", \"typeCuisine\": \"Delicatessen\", \"avgScoreRestaurant\": 10}]}, {\"_id\": \"Bakery\", \"maxAvgScoreCuisine\": 8.2, \"fitrats\": [{\"_id\": {\"$oid\": \"618109795e0862670e9cb845\"}, \"nameRestaurant\": \"Morris Park Bake Shop\", \"typeCuisine\": \"Bakery\", \"avgScoreRestaurant\": 8.2}]}]))});"
     },
     "metadata": {},
     "output_type": "display_data"
    },
    {
     "data": {
      "text/plain": [
       "{ \"_id\" : \"Jewish/Kosher\", \"maxAvgScoreCuisine\" : 17.75, \"fitrats\" : [ { \"_id\" : ObjectId(\"618109795e0862670e9cb841\"), \"nameRestaurant\" : \"Tov Kosher Kitchen\", \"typeCuisine\" : \"Jewish/Kosher\", \"avgScoreRestaurant\" : 17.75 } ] }\r\n",
       "{ \"_id\" : \"Chicken\", \"maxAvgScoreCuisine\" : 10.666666666666666, \"fitrats\" : [ { \"_id\" : ObjectId(\"618109795e0862670e9cb836\"), \"nameRestaurant\" : \"Harriet'S Kitchen\", \"typeCuisine\" : \"Chicken\", \"avgScoreRestaurant\" : 10.666666666666666 } ] }\r\n",
       "{ \"_id\" : \"Chinese\", \"maxAvgScoreCuisine\" : 27.6, \"fitrats\" : [ { \"_id\" : ObjectId(\"618109795e0862670e9cb83d\"), \"nameRestaurant\" : \"May May Kitchen\", \"typeCuisine\" : \"Chinese\", \"avgScoreRestaurant\" : 27.6 } ] }\r\n",
       "{ \"_id\" : \"Irish\", \"maxAvgScoreCuisine\" : 9.25, \"fitrats\" : [ { \"_id\" : ObjectId(\"618109795e0862670e9cb844\"), \"nameRestaurant\" : \"Dj Reynolds Pub And Restaurant\", \"typeCuisine\" : \"Irish\", \"avgScoreRestaurant\" : 9.25 } ] }\r\n",
       "{ \"_id\" : \"Ice Cream, Gelato, Yogurt, Ices\", \"maxAvgScoreCuisine\" : 10.666666666666666, \"fitrats\" : [ { \"_id\" : ObjectId(\"618109795e0862670e9cb82b\"), \"nameRestaurant\" : \"Carvel Ice Cream\", \"typeCuisine\" : \"Ice Cream, Gelato, Yogurt, Ices\", \"avgScoreRestaurant\" : 10.666666666666666 } ] }\r\n",
       "{ \"_id\" : \"Turkish\", \"maxAvgScoreCuisine\" : 10.5, \"fitrats\" : [ { \"_id\" : ObjectId(\"618109795e0862670e9cb838\"), \"nameRestaurant\" : \"The Country Cafe\", \"typeCuisine\" : \"Turkish\", \"avgScoreRestaurant\" : 10.5 } ] }\r\n",
       "{ \"_id\" : \"Caribbean\", \"maxAvgScoreCuisine\" : 8, \"fitrats\" : [ { \"_id\" : ObjectId(\"618109795e0862670e9cb83a\"), \"nameRestaurant\" : \"Shashemene Int'L Restaura\", \"typeCuisine\" : \"Caribbean\", \"avgScoreRestaurant\" : 8 } ] }\r\n",
       "{ \"_id\" : \"American \", \"maxAvgScoreCuisine\" : 17, \"fitrats\" : [ { \"_id\" : ObjectId(\"618109795e0862670e9cb846\"), \"nameRestaurant\" : \"Brunos On The Boulevard\", \"typeCuisine\" : \"American \", \"avgScoreRestaurant\" : 17 } ] }\r\n",
       "{ \"_id\" : \"Hamburgers\", \"maxAvgScoreCuisine\" : 13.75, \"fitrats\" : [ { \"_id\" : ObjectId(\"618109795e0862670e9cb843\"), \"nameRestaurant\" : \"Wendy'S\", \"typeCuisine\" : \"Hamburgers\", \"avgScoreRestaurant\" : 13.75 } ] }\r\n",
       "{ \"_id\" : \"Delicatessen\", \"maxAvgScoreCuisine\" : 10, \"fitrats\" : [ { \"_id\" : ObjectId(\"618109795e0862670e9cb829\"), \"nameRestaurant\" : \"Wilken'S Fine Food\", \"typeCuisine\" : \"Delicatessen\", \"avgScoreRestaurant\" : 10 } ] }\r\n",
       "{ \"_id\" : \"Bakery\", \"maxAvgScoreCuisine\" : 8.2, \"fitrats\" : [ { \"_id\" : ObjectId(\"618109795e0862670e9cb845\"), \"nameRestaurant\" : \"Morris Park Bake Shop\", \"typeCuisine\" : \"Bakery\", \"avgScoreRestaurant\" : 8.2 } ] }"
      ]
     },
     "execution_count": 109,
     "metadata": {},
     "output_type": "execute_result"
    }
   ],
   "source": [
    "db.restaurants30.aggregate([\n",
    "   {\n",
    "      $project: {  \n",
    "         name: 1,\n",
    "         cuisine: 1,\n",
    "         avgScore :  { \"$avg\": \"$grades.score\" }\n",
    "      }\n",
    "   },\n",
    "   {\n",
    "       $group:{ \"_id\" :\"$cuisine\", \n",
    "           \"maxAvgScoreCuisine\" : { \"$max\":\"$avgScore\"},\n",
    "           \"restaurant\":{\"$push\": {\"_id\":\"$_id\", \n",
    "                           \"nameRestaurant\":\"$name\", \n",
    "                           \"typeCuisine\":\"$cuisine\", \n",
    "                           \"avgScoreRestaurant\":\"$avgScore\" }}\n",
    "       }\n",
    "   },\n",
    "   {\n",
    "       $project:{\"maxAvgScoreCuisine\":1,\n",
    "     \n",
    "           \"fitrats\":{\n",
    "               \"$filter\":{\n",
    "                   \"input\":\"$restaurant\",\n",
    "                    \"as\":\"res\",\n",
    "                    \"cond\":{\"$eq\": [\"$$res.avgScoreRestaurant\",\"$maxAvgScoreCuisine\"]}\n",
    "                }\n",
    "            }\n",
    "        }\n",
    "    }\n",
    "] )"
   ]
  },
  {
   "cell_type": "markdown",
   "id": "5ead935b",
   "metadata": {},
   "source": [
    "Afegeix un camp que sigui la mitja de les puntuacions"
   ]
  },
  {
   "cell_type": "code",
   "execution_count": 153,
   "id": "adb4bd07",
   "metadata": {},
   "outputs": [],
   "source": [
    "db.restaurants30.find().forEach( function(restaurant) \n",
    "        {\n",
    "            n= 0;\n",
    "            sumaScore = 0;\n",
    "            restaurant.grades.forEach(function(grade){\n",
    "                n = n+1;\n",
    "                sumaScore = sumaScore + grade.score;\n",
    "            });\n",
    "            restaurantAvg = sumaScore/n;\n",
    "            \n",
    "            db.restaurants30.update({_id:restaurant._id},{$set: {\"scoreAvg\": restaurantAvg}})})"
   ]
  },
  {
   "cell_type": "code",
   "execution_count": 155,
   "id": "b8fcdbb1",
   "metadata": {},
   "outputs": [
    {
     "data": {
      "text/html": [
       "<style>a.disclosure:link{text-decoration:none;}a.disclosure:visited{text-decoration:none;}.disclosure{color:#337AB7;font-size:150%;}.syntax{color:grey;}.string{color:#9A334F;}.number{color:#5C9632;}.boolean{color:#AA9739;}.key{color:#403075;}.keyword{color:#AA9739;}.object.syntax{color:#337AB7;}.array.syntax{color:#337AB7;}></style><div id=\"d2c0bf66-61af-4349-a23f-8f22743f212a\"></div>"
      ]
     },
     "metadata": {},
     "output_type": "display_data"
    },
    {
     "data": {
      "application/javascript": "require([\"https://rawgit.com/caldwell/renderjson/master/renderjson.js\"], function() {document.getElementById('d2c0bf66-61af-4349-a23f-8f22743f212a').appendChild(renderjson.set_show_to_level(2)([40.6199034, 40.61174889999999, 40.7386417, 40.6353674, 40.6580753, 40.7685235, 40.767461, 40.6064339, 40.78147, 40.7623288, 40.7309346, 40.7925587, 40.6940001, 40.786714, 40.72589, 40.70620539999999, 40.75356, 40.6522396, 40.628886, 40.6435254]))});"
     },
     "metadata": {},
     "output_type": "display_data"
    },
    {
     "data": {
      "text/plain": [
       "{\r\n",
       "\t\"_id\" : ObjectId(\"618109795e0862670e9cb829\"),\r\n",
       "\t\"address\" : {\r\n",
       "\t\t\"building\" : \"7114\",\r\n",
       "\t\t\"coord\" : [\r\n",
       "\t\t\t-73.9068506,\r\n",
       "\t\t\t40.6199034\r\n",
       "\t\t],\r\n",
       "\t\t\"street\" : \"Avenue U\",\r\n",
       "\t\t\"zipcode\" : \"11234\"\r\n",
       "\t},\r\n",
       "\t\"borough\" : \"Brooklyn\",\r\n",
       "\t\"cuisine\" : \"Delicatessen\",\r\n",
       "\t\"grades\" : [\r\n",
       "\t\t{\r\n",
       "\t\t\t\"date\" : ISODate(\"2014-05-29T00:00:00Z\"),\r\n",
       "\t\t\t\"grade\" : \"A\",\r\n",
       "\t\t\t\"score\" : 10\r\n",
       "\t\t},\r\n",
       "\t\t{\r\n",
       "\t\t\t\"date\" : ISODate(\"2014-01-14T00:00:00Z\"),\r\n",
       "\t\t\t\"grade\" : \"A\",\r\n",
       "\t\t\t\"score\" : 10\r\n",
       "\t\t},\r\n",
       "\t\t{\r\n",
       "\t\t\t\"date\" : ISODate(\"2013-08-03T00:00:00Z\"),\r\n",
       "\t\t\t\"grade\" : \"A\",\r\n",
       "\t\t\t\"score\" : 8\r\n",
       "\t\t},\r\n",
       "\t\t{\r\n",
       "\t\t\t\"date\" : ISODate(\"2012-07-18T00:00:00Z\"),\r\n",
       "\t\t\t\"grade\" : \"A\",\r\n",
       "\t\t\t\"score\" : 10\r\n",
       "\t\t},\r\n",
       "\t\t{\r\n",
       "\t\t\t\"date\" : ISODate(\"2012-03-09T00:00:00Z\"),\r\n",
       "\t\t\t\"grade\" : \"A\",\r\n",
       "\t\t\t\"score\" : 13\r\n",
       "\t\t},\r\n",
       "\t\t{\r\n",
       "\t\t\t\"date\" : ISODate(\"2011-10-14T00:00:00Z\"),\r\n",
       "\t\t\t\"grade\" : \"A\",\r\n",
       "\t\t\t\"score\" : 9\r\n",
       "\t\t}\r\n",
       "\t],\r\n",
       "\t\"name\" : \"Wilken'S Fine Food\",\r\n",
       "\t\"restaurant_id\" : \"40356483\",\r\n",
       "\t\"scoreAvg\" : 10\r\n",
       "}\r\n",
       "{\r\n",
       "\t\"_id\" : ObjectId(\"618109795e0862670e9cb82a\"),\r\n",
       "\t\"address\" : {\r\n",
       "\t\t\"building\" : \"7715\",\r\n",
       "\t\t\"coord\" : [\r\n",
       "\t\t\t-73.9973325,\r\n",
       "\t\t\t40.61174889999999\r\n",
       "\t\t],\r\n",
       "\t\t\"street\" : \"18 Avenue\",\r\n",
       "\t\t\"zipcode\" : \"11214\"\r\n",
       "\t},\r\n",
       "\t\"borough\" : \"Brooklyn\",\r\n",
       "\t\"cuisine\" : \"American \",\r\n",
       "\t\"grades\" : [\r\n",
       "\t\t{\r\n",
       "\t\t\t\"date\" : ISODate(\"2014-04-16T00:00:00Z\"),\r\n",
       "\t\t\t\"grade\" : \"A\",\r\n",
       "\t\t\t\"score\" : 5\r\n",
       "\t\t},\r\n",
       "\t\t{\r\n",
       "\t\t\t\"date\" : ISODate(\"2013-04-23T00:00:00Z\"),\r\n",
       "\t\t\t\"grade\" : \"A\",\r\n",
       "\t\t\t\"score\" : 2\r\n",
       "\t\t},\r\n",
       "\t\t{\r\n",
       "\t\t\t\"date\" : ISODate(\"2012-04-24T00:00:00Z\"),\r\n",
       "\t\t\t\"grade\" : \"A\",\r\n",
       "\t\t\t\"score\" : 5\r\n",
       "\t\t},\r\n",
       "\t\t{\r\n",
       "\t\t\t\"date\" : ISODate(\"2011-12-16T00:00:00Z\"),\r\n",
       "\t\t\t\"grade\" : \"A\",\r\n",
       "\t\t\t\"score\" : 2\r\n",
       "\t\t}\r\n",
       "\t],\r\n",
       "\t\"name\" : \"C & C Catering Service\",\r\n",
       "\t\"restaurant_id\" : \"40357437\",\r\n",
       "\t\"scoreAvg\" : 3.5\r\n",
       "}\r\n",
       "{\r\n",
       "\t\"_id\" : ObjectId(\"618109795e0862670e9cb82b\"),\r\n",
       "\t\"address\" : {\r\n",
       "\t\t\"building\" : \"265-15\",\r\n",
       "\t\t\"coord\" : [\r\n",
       "\t\t\t-73.7032601,\r\n",
       "\t\t\t40.7386417\r\n",
       "\t\t],\r\n",
       "\t\t\"street\" : \"Hillside Avenue\",\r\n",
       "\t\t\"zipcode\" : \"11004\"\r\n",
       "\t},\r\n",
       "\t\"borough\" : \"Queens\",\r\n",
       "\t\"cuisine\" : \"Ice Cream, Gelato, Yogurt, Ices\",\r\n",
       "\t\"grades\" : [\r\n",
       "\t\t{\r\n",
       "\t\t\t\"date\" : ISODate(\"2014-10-28T00:00:00Z\"),\r\n",
       "\t\t\t\"grade\" : \"A\",\r\n",
       "\t\t\t\"score\" : 9\r\n",
       "\t\t},\r\n",
       "\t\t{\r\n",
       "\t\t\t\"date\" : ISODate(\"2013-09-18T00:00:00Z\"),\r\n",
       "\t\t\t\"grade\" : \"A\",\r\n",
       "\t\t\t\"score\" : 10\r\n",
       "\t\t},\r\n",
       "\t\t{\r\n",
       "\t\t\t\"date\" : ISODate(\"2012-09-20T00:00:00Z\"),\r\n",
       "\t\t\t\"grade\" : \"A\",\r\n",
       "\t\t\t\"score\" : 13\r\n",
       "\t\t}\r\n",
       "\t],\r\n",
       "\t\"name\" : \"Carvel Ice Cream\",\r\n",
       "\t\"restaurant_id\" : \"40361322\",\r\n",
       "\t\"scoreAvg\" : 10.666666666666666\r\n",
       "}\r\n",
       "{\r\n",
       "\t\"_id\" : ObjectId(\"618109795e0862670e9cb82c\"),\r\n",
       "\t\"address\" : {\r\n",
       "\t\t\"building\" : \"6909\",\r\n",
       "\t\t\"coord\" : [\r\n",
       "\t\t\t-74.0259567,\r\n",
       "\t\t\t40.6353674\r\n",
       "\t\t],\r\n",
       "\t\t\"street\" : \"3 Avenue\",\r\n",
       "\t\t\"zipcode\" : \"11209\"\r\n",
       "\t},\r\n",
       "\t\"borough\" : \"Brooklyn\",\r\n",
       "\t\"cuisine\" : \"Delicatessen\",\r\n",
       "\t\"grades\" : [\r\n",
       "\t\t{\r\n",
       "\t\t\t\"date\" : ISODate(\"2014-08-21T00:00:00Z\"),\r\n",
       "\t\t\t\"grade\" : \"A\",\r\n",
       "\t\t\t\"score\" : 4\r\n",
       "\t\t},\r\n",
       "\t\t{\r\n",
       "\t\t\t\"date\" : ISODate(\"2014-03-05T00:00:00Z\"),\r\n",
       "\t\t\t\"grade\" : \"A\",\r\n",
       "\t\t\t\"score\" : 3\r\n",
       "\t\t},\r\n",
       "\t\t{\r\n",
       "\t\t\t\"date\" : ISODate(\"2013-01-10T00:00:00Z\"),\r\n",
       "\t\t\t\"grade\" : \"A\",\r\n",
       "\t\t\t\"score\" : 10\r\n",
       "\t\t}\r\n",
       "\t],\r\n",
       "\t\"name\" : \"Nordic Delicacies\",\r\n",
       "\t\"restaurant_id\" : \"40361390\",\r\n",
       "\t\"scoreAvg\" : 5.666666666666667\r\n",
       "}\r\n",
       "{\r\n",
       "\t\"_id\" : ObjectId(\"618109795e0862670e9cb82d\"),\r\n",
       "\t\"address\" : {\r\n",
       "\t\t\"building\" : \"284\",\r\n",
       "\t\t\"coord\" : [\r\n",
       "\t\t\t-73.9829239,\r\n",
       "\t\t\t40.6580753\r\n",
       "\t\t],\r\n",
       "\t\t\"street\" : \"Prospect Park West\",\r\n",
       "\t\t\"zipcode\" : \"11215\"\r\n",
       "\t},\r\n",
       "\t\"borough\" : \"Brooklyn\",\r\n",
       "\t\"cuisine\" : \"American \",\r\n",
       "\t\"grades\" : [\r\n",
       "\t\t{\r\n",
       "\t\t\t\"date\" : ISODate(\"2014-11-19T00:00:00Z\"),\r\n",
       "\t\t\t\"grade\" : \"A\",\r\n",
       "\t\t\t\"score\" : 11\r\n",
       "\t\t},\r\n",
       "\t\t{\r\n",
       "\t\t\t\"date\" : ISODate(\"2013-11-14T00:00:00Z\"),\r\n",
       "\t\t\t\"grade\" : \"A\",\r\n",
       "\t\t\t\"score\" : 2\r\n",
       "\t\t},\r\n",
       "\t\t{\r\n",
       "\t\t\t\"date\" : ISODate(\"2012-12-05T00:00:00Z\"),\r\n",
       "\t\t\t\"grade\" : \"A\",\r\n",
       "\t\t\t\"score\" : 13\r\n",
       "\t\t},\r\n",
       "\t\t{\r\n",
       "\t\t\t\"date\" : ISODate(\"2012-05-17T00:00:00Z\"),\r\n",
       "\t\t\t\"grade\" : \"A\",\r\n",
       "\t\t\t\"score\" : 11\r\n",
       "\t\t}\r\n",
       "\t],\r\n",
       "\t\"name\" : \"The Movable Feast\",\r\n",
       "\t\"restaurant_id\" : \"40361606\",\r\n",
       "\t\"scoreAvg\" : 9.25\r\n",
       "}\r\n",
       "{\r\n",
       "\t\"_id\" : ObjectId(\"618109795e0862670e9cb82e\"),\r\n",
       "\t\"address\" : {\r\n",
       "\t\t\"building\" : \"1\",\r\n",
       "\t\t\"coord\" : [\r\n",
       "\t\t\t-73.96926909999999,\r\n",
       "\t\t\t40.7685235\r\n",
       "\t\t],\r\n",
       "\t\t\"street\" : \"East   66 Street\",\r\n",
       "\t\t\"zipcode\" : \"10065\"\r\n",
       "\t},\r\n",
       "\t\"borough\" : \"Manhattan\",\r\n",
       "\t\"cuisine\" : \"American \",\r\n",
       "\t\"grades\" : [\r\n",
       "\t\t{\r\n",
       "\t\t\t\"date\" : ISODate(\"2014-05-07T00:00:00Z\"),\r\n",
       "\t\t\t\"grade\" : \"A\",\r\n",
       "\t\t\t\"score\" : 3\r\n",
       "\t\t},\r\n",
       "\t\t{\r\n",
       "\t\t\t\"date\" : ISODate(\"2013-05-03T00:00:00Z\"),\r\n",
       "\t\t\t\"grade\" : \"A\",\r\n",
       "\t\t\t\"score\" : 4\r\n",
       "\t\t},\r\n",
       "\t\t{\r\n",
       "\t\t\t\"date\" : ISODate(\"2012-04-30T00:00:00Z\"),\r\n",
       "\t\t\t\"grade\" : \"A\",\r\n",
       "\t\t\t\"score\" : 6\r\n",
       "\t\t},\r\n",
       "\t\t{\r\n",
       "\t\t\t\"date\" : ISODate(\"2011-12-27T00:00:00Z\"),\r\n",
       "\t\t\t\"grade\" : \"A\",\r\n",
       "\t\t\t\"score\" : 0\r\n",
       "\t\t}\r\n",
       "\t],\r\n",
       "\t\"name\" : \"1 East 66Th Street Kitchen\",\r\n",
       "\t\"restaurant_id\" : \"40359480\",\r\n",
       "\t\"scoreAvg\" : 3.25\r\n",
       "}\r\n",
       "{\r\n",
       "\t\"_id\" : ObjectId(\"618109795e0862670e9cb82f\"),\r\n",
       "\t\"address\" : {\r\n",
       "\t\t\"building\" : \"522\",\r\n",
       "\t\t\"coord\" : [\r\n",
       "\t\t\t-73.95171,\r\n",
       "\t\t\t40.767461\r\n",
       "\t\t],\r\n",
       "\t\t\"street\" : \"East   74 Street\",\r\n",
       "\t\t\"zipcode\" : \"10021\"\r\n",
       "\t},\r\n",
       "\t\"borough\" : \"Manhattan\",\r\n",
       "\t\"cuisine\" : \"American \",\r\n",
       "\t\"grades\" : [\r\n",
       "\t\t{\r\n",
       "\t\t\t\"date\" : ISODate(\"2014-09-02T00:00:00Z\"),\r\n",
       "\t\t\t\"grade\" : \"A\",\r\n",
       "\t\t\t\"score\" : 12\r\n",
       "\t\t},\r\n",
       "\t\t{\r\n",
       "\t\t\t\"date\" : ISODate(\"2013-12-19T00:00:00Z\"),\r\n",
       "\t\t\t\"grade\" : \"B\",\r\n",
       "\t\t\t\"score\" : 16\r\n",
       "\t\t},\r\n",
       "\t\t{\r\n",
       "\t\t\t\"date\" : ISODate(\"2013-05-28T00:00:00Z\"),\r\n",
       "\t\t\t\"grade\" : \"A\",\r\n",
       "\t\t\t\"score\" : 9\r\n",
       "\t\t},\r\n",
       "\t\t{\r\n",
       "\t\t\t\"date\" : ISODate(\"2012-12-07T00:00:00Z\"),\r\n",
       "\t\t\t\"grade\" : \"A\",\r\n",
       "\t\t\t\"score\" : 13\r\n",
       "\t\t},\r\n",
       "\t\t{\r\n",
       "\t\t\t\"date\" : ISODate(\"2012-03-29T00:00:00Z\"),\r\n",
       "\t\t\t\"grade\" : \"A\",\r\n",
       "\t\t\t\"score\" : 11\r\n",
       "\t\t}\r\n",
       "\t],\r\n",
       "\t\"name\" : \"Glorious Food\",\r\n",
       "\t\"restaurant_id\" : \"40361521\",\r\n",
       "\t\"scoreAvg\" : 12.2\r\n",
       "}\r\n",
       "{\r\n",
       "\t\"_id\" : ObjectId(\"618109795e0862670e9cb830\"),\r\n",
       "\t\"address\" : {\r\n",
       "\t\t\"building\" : \"705\",\r\n",
       "\t\t\"coord\" : [\r\n",
       "\t\t\t-73.9653967,\r\n",
       "\t\t\t40.6064339\r\n",
       "\t\t],\r\n",
       "\t\t\"street\" : \"Kings Highway\",\r\n",
       "\t\t\"zipcode\" : \"11223\"\r\n",
       "\t},\r\n",
       "\t\"borough\" : \"Brooklyn\",\r\n",
       "\t\"cuisine\" : \"Jewish/Kosher\",\r\n",
       "\t\"grades\" : [\r\n",
       "\t\t{\r\n",
       "\t\t\t\"date\" : ISODate(\"2014-11-10T00:00:00Z\"),\r\n",
       "\t\t\t\"grade\" : \"A\",\r\n",
       "\t\t\t\"score\" : 11\r\n",
       "\t\t},\r\n",
       "\t\t{\r\n",
       "\t\t\t\"date\" : ISODate(\"2013-10-10T00:00:00Z\"),\r\n",
       "\t\t\t\"grade\" : \"A\",\r\n",
       "\t\t\t\"score\" : 13\r\n",
       "\t\t},\r\n",
       "\t\t{\r\n",
       "\t\t\t\"date\" : ISODate(\"2012-10-04T00:00:00Z\"),\r\n",
       "\t\t\t\"grade\" : \"A\",\r\n",
       "\t\t\t\"score\" : 7\r\n",
       "\t\t},\r\n",
       "\t\t{\r\n",
       "\t\t\t\"date\" : ISODate(\"2012-05-21T00:00:00Z\"),\r\n",
       "\t\t\t\"grade\" : \"A\",\r\n",
       "\t\t\t\"score\" : 9\r\n",
       "\t\t},\r\n",
       "\t\t{\r\n",
       "\t\t\t\"date\" : ISODate(\"2011-12-30T00:00:00Z\"),\r\n",
       "\t\t\t\"grade\" : \"B\",\r\n",
       "\t\t\t\"score\" : 19\r\n",
       "\t\t}\r\n",
       "\t],\r\n",
       "\t\"name\" : \"Seuda Foods\",\r\n",
       "\t\"restaurant_id\" : \"40360045\",\r\n",
       "\t\"scoreAvg\" : 11.8\r\n",
       "}\r\n",
       "{\r\n",
       "\t\"_id\" : ObjectId(\"618109795e0862670e9cb831\"),\r\n",
       "\t\"address\" : {\r\n",
       "\t\t\"building\" : \"129-08\",\r\n",
       "\t\t\"coord\" : [\r\n",
       "\t\t\t-73.839297,\r\n",
       "\t\t\t40.78147\r\n",
       "\t\t],\r\n",
       "\t\t\"street\" : \"20 Avenue\",\r\n",
       "\t\t\"zipcode\" : \"11356\"\r\n",
       "\t},\r\n",
       "\t\"borough\" : \"Queens\",\r\n",
       "\t\"cuisine\" : \"Delicatessen\",\r\n",
       "\t\"grades\" : [\r\n",
       "\t\t{\r\n",
       "\t\t\t\"date\" : ISODate(\"2014-08-16T00:00:00Z\"),\r\n",
       "\t\t\t\"grade\" : \"A\",\r\n",
       "\t\t\t\"score\" : 12\r\n",
       "\t\t},\r\n",
       "\t\t{\r\n",
       "\t\t\t\"date\" : ISODate(\"2013-08-27T00:00:00Z\"),\r\n",
       "\t\t\t\"grade\" : \"A\",\r\n",
       "\t\t\t\"score\" : 9\r\n",
       "\t\t},\r\n",
       "\t\t{\r\n",
       "\t\t\t\"date\" : ISODate(\"2012-09-20T00:00:00Z\"),\r\n",
       "\t\t\t\"grade\" : \"A\",\r\n",
       "\t\t\t\"score\" : 7\r\n",
       "\t\t},\r\n",
       "\t\t{\r\n",
       "\t\t\t\"date\" : ISODate(\"2011-09-29T00:00:00Z\"),\r\n",
       "\t\t\t\"grade\" : \"A\",\r\n",
       "\t\t\t\"score\" : 10\r\n",
       "\t\t}\r\n",
       "\t],\r\n",
       "\t\"name\" : \"Sal'S Deli\",\r\n",
       "\t\"restaurant_id\" : \"40361618\",\r\n",
       "\t\"scoreAvg\" : 9.5\r\n",
       "}\r\n",
       "{\r\n",
       "\t\"_id\" : ObjectId(\"618109795e0862670e9cb832\"),\r\n",
       "\t\"address\" : {\r\n",
       "\t\t\"building\" : \"3406\",\r\n",
       "\t\t\"coord\" : [\r\n",
       "\t\t\t-73.94024739999999,\r\n",
       "\t\t\t40.7623288\r\n",
       "\t\t],\r\n",
       "\t\t\"street\" : \"10 Street\",\r\n",
       "\t\t\"zipcode\" : \"11106\"\r\n",
       "\t},\r\n",
       "\t\"borough\" : \"Queens\",\r\n",
       "\t\"cuisine\" : \"Delicatessen\",\r\n",
       "\t\"grades\" : [\r\n",
       "\t\t{\r\n",
       "\t\t\t\"date\" : ISODate(\"2014-03-19T00:00:00Z\"),\r\n",
       "\t\t\t\"grade\" : \"A\",\r\n",
       "\t\t\t\"score\" : 3\r\n",
       "\t\t},\r\n",
       "\t\t{\r\n",
       "\t\t\t\"date\" : ISODate(\"2013-03-13T00:00:00Z\"),\r\n",
       "\t\t\t\"grade\" : \"A\",\r\n",
       "\t\t\t\"score\" : 12\r\n",
       "\t\t},\r\n",
       "\t\t{\r\n",
       "\t\t\t\"date\" : ISODate(\"2012-03-27T00:00:00Z\"),\r\n",
       "\t\t\t\"grade\" : \"A\",\r\n",
       "\t\t\t\"score\" : 8\r\n",
       "\t\t},\r\n",
       "\t\t{\r\n",
       "\t\t\t\"date\" : ISODate(\"2011-04-05T00:00:00Z\"),\r\n",
       "\t\t\t\"grade\" : \"A\",\r\n",
       "\t\t\t\"score\" : 7\r\n",
       "\t\t}\r\n",
       "\t],\r\n",
       "\t\"name\" : \"Steve Chu'S Deli & Grocery\",\r\n",
       "\t\"restaurant_id\" : \"40361998\",\r\n",
       "\t\"scoreAvg\" : 7.5\r\n",
       "}\r\n",
       "{\r\n",
       "\t\"_id\" : ObjectId(\"618109795e0862670e9cb833\"),\r\n",
       "\t\"address\" : {\r\n",
       "\t\t\"building\" : \"759\",\r\n",
       "\t\t\"coord\" : [\r\n",
       "\t\t\t-73.9925306,\r\n",
       "\t\t\t40.7309346\r\n",
       "\t\t],\r\n",
       "\t\t\"street\" : \"Broadway\",\r\n",
       "\t\t\"zipcode\" : \"10003\"\r\n",
       "\t},\r\n",
       "\t\"borough\" : \"Manhattan\",\r\n",
       "\t\"cuisine\" : \"Delicatessen\",\r\n",
       "\t\"grades\" : [\r\n",
       "\t\t{\r\n",
       "\t\t\t\"date\" : ISODate(\"2014-01-21T00:00:00Z\"),\r\n",
       "\t\t\t\"grade\" : \"A\",\r\n",
       "\t\t\t\"score\" : 12\r\n",
       "\t\t},\r\n",
       "\t\t{\r\n",
       "\t\t\t\"date\" : ISODate(\"2013-01-04T00:00:00Z\"),\r\n",
       "\t\t\t\"grade\" : \"A\",\r\n",
       "\t\t\t\"score\" : 11\r\n",
       "\t\t},\r\n",
       "\t\t{\r\n",
       "\t\t\t\"date\" : ISODate(\"2012-06-07T00:00:00Z\"),\r\n",
       "\t\t\t\"grade\" : \"A\",\r\n",
       "\t\t\t\"score\" : 6\r\n",
       "\t\t},\r\n",
       "\t\t{\r\n",
       "\t\t\t\"date\" : ISODate(\"2012-01-17T00:00:00Z\"),\r\n",
       "\t\t\t\"grade\" : \"A\",\r\n",
       "\t\t\t\"score\" : 8\r\n",
       "\t\t}\r\n",
       "\t],\r\n",
       "\t\"name\" : \"Bully'S Deli\",\r\n",
       "\t\"restaurant_id\" : \"40361708\",\r\n",
       "\t\"scoreAvg\" : 9.25\r\n",
       "}\r\n",
       "{\r\n",
       "\t\"_id\" : ObjectId(\"618109795e0862670e9cb834\"),\r\n",
       "\t\"address\" : {\r\n",
       "\t\t\"building\" : \"730\",\r\n",
       "\t\t\"coord\" : [\r\n",
       "\t\t\t-73.96805719999999,\r\n",
       "\t\t\t40.7925587\r\n",
       "\t\t],\r\n",
       "\t\t\"street\" : \"Columbus Avenue\",\r\n",
       "\t\t\"zipcode\" : \"10025\"\r\n",
       "\t},\r\n",
       "\t\"borough\" : \"Manhattan\",\r\n",
       "\t\"cuisine\" : \"American \",\r\n",
       "\t\"grades\" : [\r\n",
       "\t\t{\r\n",
       "\t\t\t\"date\" : ISODate(\"2014-09-12T00:00:00Z\"),\r\n",
       "\t\t\t\"grade\" : \"B\",\r\n",
       "\t\t\t\"score\" : 26\r\n",
       "\t\t},\r\n",
       "\t\t{\r\n",
       "\t\t\t\"date\" : ISODate(\"2013-08-28T00:00:00Z\"),\r\n",
       "\t\t\t\"grade\" : \"A\",\r\n",
       "\t\t\t\"score\" : 9\r\n",
       "\t\t},\r\n",
       "\t\t{\r\n",
       "\t\t\t\"date\" : ISODate(\"2013-03-25T00:00:00Z\"),\r\n",
       "\t\t\t\"grade\" : \"B\",\r\n",
       "\t\t\t\"score\" : 20\r\n",
       "\t\t},\r\n",
       "\t\t{\r\n",
       "\t\t\t\"date\" : ISODate(\"2012-02-14T00:00:00Z\"),\r\n",
       "\t\t\t\"grade\" : \"A\",\r\n",
       "\t\t\t\"score\" : 12\r\n",
       "\t\t}\r\n",
       "\t],\r\n",
       "\t\"name\" : \"P & S Deli Grocery\",\r\n",
       "\t\"restaurant_id\" : \"40362264\",\r\n",
       "\t\"scoreAvg\" : 16.75\r\n",
       "}\r\n",
       "{\r\n",
       "\t\"_id\" : ObjectId(\"618109795e0862670e9cb835\"),\r\n",
       "\t\"address\" : {\r\n",
       "\t\t\"building\" : \"531\",\r\n",
       "\t\t\"coord\" : [\r\n",
       "\t\t\t-73.9634876,\r\n",
       "\t\t\t40.6940001\r\n",
       "\t\t],\r\n",
       "\t\t\"street\" : \"Myrtle Avenue\",\r\n",
       "\t\t\"zipcode\" : \"11205\"\r\n",
       "\t},\r\n",
       "\t\"borough\" : \"Brooklyn\",\r\n",
       "\t\"cuisine\" : \"Hamburgers\",\r\n",
       "\t\"grades\" : [\r\n",
       "\t\t{\r\n",
       "\t\t\t\"date\" : ISODate(\"2014-03-18T00:00:00Z\"),\r\n",
       "\t\t\t\"grade\" : \"A\",\r\n",
       "\t\t\t\"score\" : 8\r\n",
       "\t\t},\r\n",
       "\t\t{\r\n",
       "\t\t\t\"date\" : ISODate(\"2013-03-18T00:00:00Z\"),\r\n",
       "\t\t\t\"grade\" : \"A\",\r\n",
       "\t\t\t\"score\" : 8\r\n",
       "\t\t},\r\n",
       "\t\t{\r\n",
       "\t\t\t\"date\" : ISODate(\"2012-10-10T00:00:00Z\"),\r\n",
       "\t\t\t\"grade\" : \"A\",\r\n",
       "\t\t\t\"score\" : 7\r\n",
       "\t\t},\r\n",
       "\t\t{\r\n",
       "\t\t\t\"date\" : ISODate(\"2011-09-22T00:00:00Z\"),\r\n",
       "\t\t\t\"grade\" : \"A\",\r\n",
       "\t\t\t\"score\" : 2\r\n",
       "\t\t}\r\n",
       "\t],\r\n",
       "\t\"name\" : \"White Castle\",\r\n",
       "\t\"restaurant_id\" : \"40362344\",\r\n",
       "\t\"scoreAvg\" : 6.25\r\n",
       "}\r\n",
       "{\r\n",
       "\t\"_id\" : ObjectId(\"618109795e0862670e9cb836\"),\r\n",
       "\t\"address\" : {\r\n",
       "\t\t\"building\" : \"502\",\r\n",
       "\t\t\"coord\" : [\r\n",
       "\t\t\t-73.976112,\r\n",
       "\t\t\t40.786714\r\n",
       "\t\t],\r\n",
       "\t\t\"street\" : \"Amsterdam Avenue\",\r\n",
       "\t\t\"zipcode\" : \"10024\"\r\n",
       "\t},\r\n",
       "\t\"borough\" : \"Manhattan\",\r\n",
       "\t\"cuisine\" : \"Chicken\",\r\n",
       "\t\"grades\" : [\r\n",
       "\t\t{\r\n",
       "\t\t\t\"date\" : ISODate(\"2014-09-15T00:00:00Z\"),\r\n",
       "\t\t\t\"grade\" : \"A\",\r\n",
       "\t\t\t\"score\" : 10\r\n",
       "\t\t},\r\n",
       "\t\t{\r\n",
       "\t\t\t\"date\" : ISODate(\"2014-03-04T00:00:00Z\"),\r\n",
       "\t\t\t\"grade\" : \"A\",\r\n",
       "\t\t\t\"score\" : 13\r\n",
       "\t\t},\r\n",
       "\t\t{\r\n",
       "\t\t\t\"date\" : ISODate(\"2013-07-18T00:00:00Z\"),\r\n",
       "\t\t\t\"grade\" : \"A\",\r\n",
       "\t\t\t\"score\" : 13\r\n",
       "\t\t},\r\n",
       "\t\t{\r\n",
       "\t\t\t\"date\" : ISODate(\"2013-01-09T00:00:00Z\"),\r\n",
       "\t\t\t\"grade\" : \"A\",\r\n",
       "\t\t\t\"score\" : 11\r\n",
       "\t\t},\r\n",
       "\t\t{\r\n",
       "\t\t\t\"date\" : ISODate(\"2012-04-10T00:00:00Z\"),\r\n",
       "\t\t\t\"grade\" : \"A\",\r\n",
       "\t\t\t\"score\" : 10\r\n",
       "\t\t},\r\n",
       "\t\t{\r\n",
       "\t\t\t\"date\" : ISODate(\"2011-11-15T00:00:00Z\"),\r\n",
       "\t\t\t\"grade\" : \"A\",\r\n",
       "\t\t\t\"score\" : 7\r\n",
       "\t\t}\r\n",
       "\t],\r\n",
       "\t\"name\" : \"Harriet'S Kitchen\",\r\n",
       "\t\"restaurant_id\" : \"40362098\",\r\n",
       "\t\"scoreAvg\" : 10.666666666666666\r\n",
       "}\r\n",
       "{\r\n",
       "\t\"_id\" : ObjectId(\"618109795e0862670e9cb837\"),\r\n",
       "\t\"address\" : {\r\n",
       "\t\t\"building\" : \"18\",\r\n",
       "\t\t\"coord\" : [\r\n",
       "\t\t\t-73.996984,\r\n",
       "\t\t\t40.72589\r\n",
       "\t\t],\r\n",
       "\t\t\"street\" : \"West Houston Street\",\r\n",
       "\t\t\"zipcode\" : \"10012\"\r\n",
       "\t},\r\n",
       "\t\"borough\" : \"Manhattan\",\r\n",
       "\t\"cuisine\" : \"American \",\r\n",
       "\t\"grades\" : [\r\n",
       "\t\t{\r\n",
       "\t\t\t\"date\" : ISODate(\"2014-04-03T00:00:00Z\"),\r\n",
       "\t\t\t\"grade\" : \"A\",\r\n",
       "\t\t\t\"score\" : 9\r\n",
       "\t\t},\r\n",
       "\t\t{\r\n",
       "\t\t\t\"date\" : ISODate(\"2013-04-05T00:00:00Z\"),\r\n",
       "\t\t\t\"grade\" : \"A\",\r\n",
       "\t\t\t\"score\" : 4\r\n",
       "\t\t},\r\n",
       "\t\t{\r\n",
       "\t\t\t\"date\" : ISODate(\"2012-03-21T00:00:00Z\"),\r\n",
       "\t\t\t\"grade\" : \"A\",\r\n",
       "\t\t\t\"score\" : 13\r\n",
       "\t\t},\r\n",
       "\t\t{\r\n",
       "\t\t\t\"date\" : ISODate(\"2011-04-27T00:00:00Z\"),\r\n",
       "\t\t\t\"grade\" : \"A\",\r\n",
       "\t\t\t\"score\" : 5\r\n",
       "\t\t}\r\n",
       "\t],\r\n",
       "\t\"name\" : \"Angelika Film Center\",\r\n",
       "\t\"restaurant_id\" : \"40362274\",\r\n",
       "\t\"scoreAvg\" : 7.75\r\n",
       "}\r\n",
       "{\r\n",
       "\t\"_id\" : ObjectId(\"618109795e0862670e9cb838\"),\r\n",
       "\t\"address\" : {\r\n",
       "\t\t\"building\" : \"60\",\r\n",
       "\t\t\"coord\" : [\r\n",
       "\t\t\t-74.0085357,\r\n",
       "\t\t\t40.70620539999999\r\n",
       "\t\t],\r\n",
       "\t\t\"street\" : \"Wall Street\",\r\n",
       "\t\t\"zipcode\" : \"10005\"\r\n",
       "\t},\r\n",
       "\t\"borough\" : \"Manhattan\",\r\n",
       "\t\"cuisine\" : \"Turkish\",\r\n",
       "\t\"grades\" : [\r\n",
       "\t\t{\r\n",
       "\t\t\t\"date\" : ISODate(\"2014-09-26T00:00:00Z\"),\r\n",
       "\t\t\t\"grade\" : \"A\",\r\n",
       "\t\t\t\"score\" : 9\r\n",
       "\t\t},\r\n",
       "\t\t{\r\n",
       "\t\t\t\"date\" : ISODate(\"2013-09-18T00:00:00Z\"),\r\n",
       "\t\t\t\"grade\" : \"A\",\r\n",
       "\t\t\t\"score\" : 13\r\n",
       "\t\t},\r\n",
       "\t\t{\r\n",
       "\t\t\t\"date\" : ISODate(\"2012-09-21T00:00:00Z\"),\r\n",
       "\t\t\t\"grade\" : \"A\",\r\n",
       "\t\t\t\"score\" : 9\r\n",
       "\t\t},\r\n",
       "\t\t{\r\n",
       "\t\t\t\"date\" : ISODate(\"2012-05-09T00:00:00Z\"),\r\n",
       "\t\t\t\"grade\" : \"A\",\r\n",
       "\t\t\t\"score\" : 11\r\n",
       "\t\t}\r\n",
       "\t],\r\n",
       "\t\"name\" : \"The Country Cafe\",\r\n",
       "\t\"restaurant_id\" : \"40362715\",\r\n",
       "\t\"scoreAvg\" : 10.5\r\n",
       "}\r\n",
       "{\r\n",
       "\t\"_id\" : ObjectId(\"618109795e0862670e9cb839\"),\r\n",
       "\t\"address\" : {\r\n",
       "\t\t\"building\" : \"103-05\",\r\n",
       "\t\t\"coord\" : [\r\n",
       "\t\t\t-73.8642349,\r\n",
       "\t\t\t40.75356\r\n",
       "\t\t],\r\n",
       "\t\t\"street\" : \"37 Avenue\",\r\n",
       "\t\t\"zipcode\" : \"11368\"\r\n",
       "\t},\r\n",
       "\t\"borough\" : \"Queens\",\r\n",
       "\t\"cuisine\" : \"Chinese\",\r\n",
       "\t\"grades\" : [\r\n",
       "\t\t{\r\n",
       "\t\t\t\"date\" : ISODate(\"2014-04-21T00:00:00Z\"),\r\n",
       "\t\t\t\"grade\" : \"A\",\r\n",
       "\t\t\t\"score\" : 10\r\n",
       "\t\t},\r\n",
       "\t\t{\r\n",
       "\t\t\t\"date\" : ISODate(\"2013-11-12T00:00:00Z\"),\r\n",
       "\t\t\t\"grade\" : \"A\",\r\n",
       "\t\t\t\"score\" : 5\r\n",
       "\t\t},\r\n",
       "\t\t{\r\n",
       "\t\t\t\"date\" : ISODate(\"2013-06-04T00:00:00Z\"),\r\n",
       "\t\t\t\"grade\" : \"A\",\r\n",
       "\t\t\t\"score\" : 12\r\n",
       "\t\t},\r\n",
       "\t\t{\r\n",
       "\t\t\t\"date\" : ISODate(\"2012-11-14T00:00:00Z\"),\r\n",
       "\t\t\t\"grade\" : \"A\",\r\n",
       "\t\t\t\"score\" : 10\r\n",
       "\t\t},\r\n",
       "\t\t{\r\n",
       "\t\t\t\"date\" : ISODate(\"2012-10-11T00:00:00Z\"),\r\n",
       "\t\t\t\"grade\" : \"P\",\r\n",
       "\t\t\t\"score\" : 0\r\n",
       "\t\t},\r\n",
       "\t\t{\r\n",
       "\t\t\t\"date\" : ISODate(\"2012-05-24T00:00:00Z\"),\r\n",
       "\t\t\t\"grade\" : \"A\",\r\n",
       "\t\t\t\"score\" : 13\r\n",
       "\t\t},\r\n",
       "\t\t{\r\n",
       "\t\t\t\"date\" : ISODate(\"2011-12-08T00:00:00Z\"),\r\n",
       "\t\t\t\"grade\" : \"A\",\r\n",
       "\t\t\t\"score\" : 12\r\n",
       "\t\t},\r\n",
       "\t\t{\r\n",
       "\t\t\t\"date\" : ISODate(\"2011-07-20T00:00:00Z\"),\r\n",
       "\t\t\t\"grade\" : \"A\",\r\n",
       "\t\t\t\"score\" : 11\r\n",
       "\t\t}\r\n",
       "\t],\r\n",
       "\t\"name\" : \"Ho Mei Restaurant\",\r\n",
       "\t\"restaurant_id\" : \"40362432\",\r\n",
       "\t\"scoreAvg\" : 9.125\r\n",
       "}\r\n",
       "{\r\n",
       "\t\"_id\" : ObjectId(\"618109795e0862670e9cb83a\"),\r\n",
       "\t\"address\" : {\r\n",
       "\t\t\"building\" : \"195\",\r\n",
       "\t\t\"coord\" : [\r\n",
       "\t\t\t-73.9246028,\r\n",
       "\t\t\t40.6522396\r\n",
       "\t\t],\r\n",
       "\t\t\"street\" : \"East   56 Street\",\r\n",
       "\t\t\"zipcode\" : \"11203\"\r\n",
       "\t},\r\n",
       "\t\"borough\" : \"Brooklyn\",\r\n",
       "\t\"cuisine\" : \"Caribbean\",\r\n",
       "\t\"grades\" : [\r\n",
       "\t\t{\r\n",
       "\t\t\t\"date\" : ISODate(\"2014-05-13T00:00:00Z\"),\r\n",
       "\t\t\t\"grade\" : \"A\",\r\n",
       "\t\t\t\"score\" : 2\r\n",
       "\t\t},\r\n",
       "\t\t{\r\n",
       "\t\t\t\"date\" : ISODate(\"2013-05-08T00:00:00Z\"),\r\n",
       "\t\t\t\"grade\" : \"A\",\r\n",
       "\t\t\t\"score\" : 7\r\n",
       "\t\t},\r\n",
       "\t\t{\r\n",
       "\t\t\t\"date\" : ISODate(\"2012-09-22T00:00:00Z\"),\r\n",
       "\t\t\t\"grade\" : \"A\",\r\n",
       "\t\t\t\"score\" : 11\r\n",
       "\t\t},\r\n",
       "\t\t{\r\n",
       "\t\t\t\"date\" : ISODate(\"2011-06-06T00:00:00Z\"),\r\n",
       "\t\t\t\"grade\" : \"A\",\r\n",
       "\t\t\t\"score\" : 12\r\n",
       "\t\t}\r\n",
       "\t],\r\n",
       "\t\"name\" : \"Shashemene Int'L Restaura\",\r\n",
       "\t\"restaurant_id\" : \"40362869\",\r\n",
       "\t\"scoreAvg\" : 8\r\n",
       "}\r\n",
       "{\r\n",
       "\t\"_id\" : ObjectId(\"618109795e0862670e9cb83b\"),\r\n",
       "\t\"address\" : {\r\n",
       "\t\t\"building\" : \"6409\",\r\n",
       "\t\t\"coord\" : [\r\n",
       "\t\t\t-74.00528899999999,\r\n",
       "\t\t\t40.628886\r\n",
       "\t\t],\r\n",
       "\t\t\"street\" : \"11 Avenue\",\r\n",
       "\t\t\"zipcode\" : \"11219\"\r\n",
       "\t},\r\n",
       "\t\"borough\" : \"Brooklyn\",\r\n",
       "\t\"cuisine\" : \"American \",\r\n",
       "\t\"grades\" : [\r\n",
       "\t\t{\r\n",
       "\t\t\t\"date\" : ISODate(\"2014-07-18T00:00:00Z\"),\r\n",
       "\t\t\t\"grade\" : \"A\",\r\n",
       "\t\t\t\"score\" : 12\r\n",
       "\t\t},\r\n",
       "\t\t{\r\n",
       "\t\t\t\"date\" : ISODate(\"2013-07-30T00:00:00Z\"),\r\n",
       "\t\t\t\"grade\" : \"A\",\r\n",
       "\t\t\t\"score\" : 12\r\n",
       "\t\t},\r\n",
       "\t\t{\r\n",
       "\t\t\t\"date\" : ISODate(\"2013-02-13T00:00:00Z\"),\r\n",
       "\t\t\t\"grade\" : \"A\",\r\n",
       "\t\t\t\"score\" : 11\r\n",
       "\t\t},\r\n",
       "\t\t{\r\n",
       "\t\t\t\"date\" : ISODate(\"2012-08-16T00:00:00Z\"),\r\n",
       "\t\t\t\"grade\" : \"A\",\r\n",
       "\t\t\t\"score\" : 2\r\n",
       "\t\t},\r\n",
       "\t\t{\r\n",
       "\t\t\t\"date\" : ISODate(\"2011-08-17T00:00:00Z\"),\r\n",
       "\t\t\t\"grade\" : \"A\",\r\n",
       "\t\t\t\"score\" : 11\r\n",
       "\t\t}\r\n",
       "\t],\r\n",
       "\t\"name\" : \"Regina Caterers\",\r\n",
       "\t\"restaurant_id\" : \"40356649\",\r\n",
       "\t\"scoreAvg\" : 9.6\r\n",
       "}\r\n",
       "{\r\n",
       "\t\"_id\" : ObjectId(\"618109795e0862670e9cb83c\"),\r\n",
       "\t\"address\" : {\r\n",
       "\t\t\"building\" : \"203\",\r\n",
       "\t\t\"coord\" : [\r\n",
       "\t\t\t-73.97822040000001,\r\n",
       "\t\t\t40.6435254\r\n",
       "\t\t],\r\n",
       "\t\t\"street\" : \"Church Avenue\",\r\n",
       "\t\t\"zipcode\" : \"11218\"\r\n",
       "\t},\r\n",
       "\t\"borough\" : \"Brooklyn\",\r\n",
       "\t\"cuisine\" : \"Ice Cream, Gelato, Yogurt, Ices\",\r\n",
       "\t\"grades\" : [\r\n",
       "\t\t{\r\n",
       "\t\t\t\"date\" : ISODate(\"2014-02-10T00:00:00Z\"),\r\n",
       "\t\t\t\"grade\" : \"A\",\r\n",
       "\t\t\t\"score\" : 2\r\n",
       "\t\t},\r\n",
       "\t\t{\r\n",
       "\t\t\t\"date\" : ISODate(\"2013-01-02T00:00:00Z\"),\r\n",
       "\t\t\t\"grade\" : \"A\",\r\n",
       "\t\t\t\"score\" : 13\r\n",
       "\t\t},\r\n",
       "\t\t{\r\n",
       "\t\t\t\"date\" : ISODate(\"2012-01-09T00:00:00Z\"),\r\n",
       "\t\t\t\"grade\" : \"A\",\r\n",
       "\t\t\t\"score\" : 3\r\n",
       "\t\t},\r\n",
       "\t\t{\r\n",
       "\t\t\t\"date\" : ISODate(\"2011-11-07T00:00:00Z\"),\r\n",
       "\t\t\t\"grade\" : \"P\",\r\n",
       "\t\t\t\"score\" : 12\r\n",
       "\t\t},\r\n",
       "\t\t{\r\n",
       "\t\t\t\"date\" : ISODate(\"2011-07-21T00:00:00Z\"),\r\n",
       "\t\t\t\"grade\" : \"A\",\r\n",
       "\t\t\t\"score\" : 13\r\n",
       "\t\t}\r\n",
       "\t],\r\n",
       "\t\"name\" : \"Carvel Ice Cream\",\r\n",
       "\t\"restaurant_id\" : \"40360076\",\r\n",
       "\t\"scoreAvg\" : 8.6\r\n",
       "}\r\n",
       "Type \"it\" for more"
      ]
     },
     "execution_count": 155,
     "metadata": {},
     "output_type": "execute_result"
    }
   ],
   "source": [
    "db.restaurants30.find().pretty()\n"
   ]
  }
 ],
 "metadata": {
  "kernelspec": {
   "display_name": "IMongo",
   "language": "",
   "name": "imongo"
  },
  "language_info": {
   "codemirror_mode": "shell",
   "file_extension": ".js",
   "mimetype": "text/x-mongodb",
   "name": "javascript"
  }
 },
 "nbformat": 4,
 "nbformat_minor": 5
}
