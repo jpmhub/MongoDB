{
 "cells": [
  {
   "cell_type": "markdown",
   "id": "3af29f25",
   "metadata": {},
   "source": [
    "Juan Pablo Marquez 2022"
   ]
  },
  {
   "cell_type": "markdown",
   "id": "d055e2e9",
   "metadata": {},
   "source": [
    "## Consules bàsiques amb MongoDB"
   ]
  },
  {
   "cell_type": "markdown",
   "id": "10c33d68",
   "metadata": {},
   "source": [
    "Mostra les Bases de dades"
   ]
  },
  {
   "cell_type": "code",
   "execution_count": 6,
   "id": "1450e7f9",
   "metadata": {},
   "outputs": [
    {
     "data": {},
     "metadata": {},
     "output_type": "display_data"
    },
    {
     "data": {},
     "metadata": {},
     "output_type": "display_data"
    },
    {
     "data": {
      "text/plain": [
       "admin   0.000GB\r\n",
       "config  0.000GB\r\n",
       "local   0.000GB\r\n",
       "test    0.000GB"
      ]
     },
     "execution_count": 6,
     "metadata": {},
     "output_type": "execute_result"
    }
   ],
   "source": [
    "show dbs"
   ]
  },
  {
   "cell_type": "markdown",
   "id": "a7d39b48",
   "metadata": {},
   "source": [
    "Es connecta a un Base de dades test"
   ]
  },
  {
   "cell_type": "code",
   "execution_count": 2,
   "id": "558bbebd",
   "metadata": {},
   "outputs": [
    {
     "data": {},
     "metadata": {},
     "output_type": "display_data"
    },
    {
     "data": {},
     "metadata": {},
     "output_type": "display_data"
    },
    {
     "data": {
      "text/plain": [
       "switched to db test"
      ]
     },
     "execution_count": 2,
     "metadata": {},
     "output_type": "execute_result"
    }
   ],
   "source": [
    "use test"
   ]
  },
  {
   "cell_type": "markdown",
   "id": "6bc20add",
   "metadata": {},
   "source": [
    "Mostra les coleccions per una base de dades"
   ]
  },
  {
   "cell_type": "code",
   "execution_count": 3,
   "id": "14896bc1",
   "metadata": {},
   "outputs": [
    {
     "data": {},
     "metadata": {},
     "output_type": "display_data"
    },
    {
     "data": {},
     "metadata": {},
     "output_type": "display_data"
    },
    {
     "data": {
      "text/plain": [
       "fruits"
      ]
     },
     "execution_count": 3,
     "metadata": {},
     "output_type": "execute_result"
    }
   ],
   "source": [
    "show collections"
   ]
  },
  {
   "cell_type": "code",
   "execution_count": null,
   "id": "2349f26b",
   "metadata": {},
   "outputs": [],
   "source": [
    "Crea una base de dades use curs_IA_BD"
   ]
  },
  {
   "cell_type": "code",
   "execution_count": 1,
   "id": "30bf4dee",
   "metadata": {},
   "outputs": [
    {
     "data": {},
     "metadata": {},
     "output_type": "display_data"
    },
    {
     "data": {},
     "metadata": {},
     "output_type": "display_data"
    },
    {
     "data": {
      "text/plain": [
       "switched to db curs_IA_BD"
      ]
     },
     "execution_count": 1,
     "metadata": {},
     "output_type": "execute_result"
    }
   ],
   "source": [
    "use curs_IA_BD"
   ]
  },
  {
   "cell_type": "markdown",
   "id": "d24675c0",
   "metadata": {},
   "source": [
    "Mostra les bases de dades"
   ]
  },
  {
   "cell_type": "code",
   "execution_count": 7,
   "id": "7c384e63",
   "metadata": {},
   "outputs": [
    {
     "data": {},
     "metadata": {},
     "output_type": "display_data"
    },
    {
     "data": {},
     "metadata": {},
     "output_type": "display_data"
    },
    {
     "data": {
      "text/plain": [
       "admin   0.000GB\r\n",
       "config  0.000GB\r\n",
       "local   0.000GB\r\n",
       "test    0.000GB"
      ]
     },
     "execution_count": 7,
     "metadata": {},
     "output_type": "execute_result"
    }
   ],
   "source": [
    "show dbs"
   ]
  },
  {
   "cell_type": "markdown",
   "id": "f0b51697",
   "metadata": {},
   "source": [
    "Crea la col·lecció \"moduls\""
   ]
  },
  {
   "cell_type": "code",
   "execution_count": 8,
   "id": "963a58c7",
   "metadata": {},
   "outputs": [
    {
     "data": {
      "text/html": [
       "<style>a.disclosure:link{text-decoration:none;}a.disclosure:visited{text-decoration:none;}.disclosure{color:#337AB7;font-size:150%;}.syntax{color:grey;}.string{color:#9A334F;}.number{color:#5C9632;}.boolean{color:#AA9739;}.key{color:#403075;}.keyword{color:#AA9739;}.object.syntax{color:#337AB7;}.array.syntax{color:#337AB7;}></style><div id=\"3da0ae12-1524-4a4f-bc14-93b543966933\"></div>"
      ]
     },
     "metadata": {},
     "output_type": "display_data"
    },
    {
     "data": {
      "application/javascript": "require([\"https://rawgit.com/caldwell/renderjson/master/renderjson.js\"], function() {document.getElementById('3da0ae12-1524-4a4f-bc14-93b543966933').appendChild(renderjson.set_show_to_level(2)({\"ok\": 1}))});"
     },
     "metadata": {},
     "output_type": "display_data"
    },
    {
     "data": {
      "text/plain": [
       "{ \"ok\" : 1 }"
      ]
     },
     "execution_count": 8,
     "metadata": {},
     "output_type": "execute_result"
    }
   ],
   "source": [
    "db.createCollection(\"moduls\")"
   ]
  },
  {
   "cell_type": "code",
   "execution_count": null,
   "id": "6bf485fe",
   "metadata": {},
   "outputs": [],
   "source": [
    "Mostra les bases de dades"
   ]
  },
  {
   "cell_type": "code",
   "execution_count": 9,
   "id": "36849478",
   "metadata": {},
   "outputs": [
    {
     "data": {},
     "metadata": {},
     "output_type": "display_data"
    },
    {
     "data": {},
     "metadata": {},
     "output_type": "display_data"
    },
    {
     "data": {
      "text/plain": [
       "admin       0.000GB\r\n",
       "config      0.000GB\r\n",
       "curs_IA_BD  0.000GB\r\n",
       "local       0.000GB\r\n",
       "test        0.000GB"
      ]
     },
     "execution_count": 9,
     "metadata": {},
     "output_type": "execute_result"
    }
   ],
   "source": [
    "show dbs"
   ]
  },
  {
   "cell_type": "markdown",
   "id": "3421d9f2",
   "metadata": {},
   "source": [
    "Esborra la col·lecció \"moduls\""
   ]
  },
  {
   "cell_type": "code",
   "execution_count": 11,
   "id": "f0e3f79c",
   "metadata": {},
   "outputs": [
    {
     "data": {
      "text/html": [
       "<style>a.disclosure:link{text-decoration:none;}a.disclosure:visited{text-decoration:none;}.disclosure{color:#337AB7;font-size:150%;}.syntax{color:grey;}.string{color:#9A334F;}.number{color:#5C9632;}.boolean{color:#AA9739;}.key{color:#403075;}.keyword{color:#AA9739;}.object.syntax{color:#337AB7;}.array.syntax{color:#337AB7;}></style><div id=\"c2e426ac-91bc-496e-a351-206ea2cc1761\"></div>"
      ]
     },
     "metadata": {},
     "output_type": "display_data"
    },
    {
     "data": {
      "application/javascript": "require([\"https://rawgit.com/caldwell/renderjson/master/renderjson.js\"], function() {document.getElementById('c2e426ac-91bc-496e-a351-206ea2cc1761').appendChild(renderjson.set_show_to_level(2)(true))});"
     },
     "metadata": {},
     "output_type": "display_data"
    },
    {
     "data": {
      "text/plain": [
       "true"
      ]
     },
     "execution_count": 11,
     "metadata": {},
     "output_type": "execute_result"
    }
   ],
   "source": [
    "db.moduls.drop()"
   ]
  },
  {
   "cell_type": "markdown",
   "id": "e59569e0",
   "metadata": {},
   "source": [
    "Mostra les bases de dades"
   ]
  },
  {
   "cell_type": "code",
   "execution_count": 12,
   "id": "862212eb",
   "metadata": {},
   "outputs": [
    {
     "data": {},
     "metadata": {},
     "output_type": "display_data"
    },
    {
     "data": {},
     "metadata": {},
     "output_type": "display_data"
    },
    {
     "data": {
      "text/plain": [
       "admin   0.000GB\r\n",
       "config  0.000GB\r\n",
       "local   0.000GB\r\n",
       "test    0.000GB"
      ]
     },
     "execution_count": 12,
     "metadata": {},
     "output_type": "execute_result"
    }
   ],
   "source": [
    "show dbs"
   ]
  },
  {
   "cell_type": "markdown",
   "id": "b09f21ee",
   "metadata": {},
   "source": [
    "Mostra les coleccions per una base de dades"
   ]
  },
  {
   "cell_type": "code",
   "execution_count": null,
   "id": "76712ca0",
   "metadata": {},
   "outputs": [],
   "source": [
    "show collections"
   ]
  },
  {
   "cell_type": "markdown",
   "id": "d30ade33",
   "metadata": {},
   "source": [
    "Crea la col·lecció \"moduls\""
   ]
  },
  {
   "cell_type": "code",
   "execution_count": 14,
   "id": "58bc535f",
   "metadata": {},
   "outputs": [
    {
     "data": {
      "text/html": [
       "<style>a.disclosure:link{text-decoration:none;}a.disclosure:visited{text-decoration:none;}.disclosure{color:#337AB7;font-size:150%;}.syntax{color:grey;}.string{color:#9A334F;}.number{color:#5C9632;}.boolean{color:#AA9739;}.key{color:#403075;}.keyword{color:#AA9739;}.object.syntax{color:#337AB7;}.array.syntax{color:#337AB7;}></style><div id=\"cfbd7298-4abb-42bf-8076-936a55057aee\"></div>"
      ]
     },
     "metadata": {},
     "output_type": "display_data"
    },
    {
     "data": {
      "application/javascript": "require([\"https://rawgit.com/caldwell/renderjson/master/renderjson.js\"], function() {document.getElementById('cfbd7298-4abb-42bf-8076-936a55057aee').appendChild(renderjson.set_show_to_level(2)({\"ok\": 1}))});"
     },
     "metadata": {},
     "output_type": "display_data"
    },
    {
     "data": {
      "text/plain": [
       "{ \"ok\" : 1 }"
      ]
     },
     "execution_count": 14,
     "metadata": {},
     "output_type": "execute_result"
    }
   ],
   "source": [
    "db.createCollection(\"moduls\")"
   ]
  },
  {
   "cell_type": "markdown",
   "id": "b2b5066e",
   "metadata": {},
   "source": [
    "Mostra les coleccions per una base de dades"
   ]
  },
  {
   "cell_type": "code",
   "execution_count": 15,
   "id": "926d51c6",
   "metadata": {},
   "outputs": [
    {
     "data": {},
     "metadata": {},
     "output_type": "display_data"
    },
    {
     "data": {},
     "metadata": {},
     "output_type": "display_data"
    },
    {
     "data": {
      "text/plain": [
       "moduls"
      ]
     },
     "execution_count": 15,
     "metadata": {},
     "output_type": "execute_result"
    }
   ],
   "source": [
    "show collections"
   ]
  },
  {
   "cell_type": "markdown",
   "id": "c5d7e739",
   "metadata": {},
   "source": [
    "Esborra un base de dades"
   ]
  },
  {
   "cell_type": "code",
   "execution_count": 16,
   "id": "b21375f3",
   "metadata": {},
   "outputs": [
    {
     "data": {
      "text/html": [
       "<style>a.disclosure:link{text-decoration:none;}a.disclosure:visited{text-decoration:none;}.disclosure{color:#337AB7;font-size:150%;}.syntax{color:grey;}.string{color:#9A334F;}.number{color:#5C9632;}.boolean{color:#AA9739;}.key{color:#403075;}.keyword{color:#AA9739;}.object.syntax{color:#337AB7;}.array.syntax{color:#337AB7;}></style><div id=\"80571596-e34b-4227-a4e7-c9924f71d3ca\"></div>"
      ]
     },
     "metadata": {},
     "output_type": "display_data"
    },
    {
     "data": {
      "application/javascript": "require([\"https://rawgit.com/caldwell/renderjson/master/renderjson.js\"], function() {document.getElementById('80571596-e34b-4227-a4e7-c9924f71d3ca').appendChild(renderjson.set_show_to_level(2)({\"ok\": 1}))});"
     },
     "metadata": {},
     "output_type": "display_data"
    },
    {
     "data": {
      "text/plain": [
       "{ \"ok\" : 1 }"
      ]
     },
     "execution_count": 16,
     "metadata": {},
     "output_type": "execute_result"
    }
   ],
   "source": [
    "db.dropDatabase()"
   ]
  },
  {
   "cell_type": "markdown",
   "id": "9d9842c3",
   "metadata": {},
   "source": [
    "Mostra les coleccions per una base de dades"
   ]
  },
  {
   "cell_type": "code",
   "execution_count": 17,
   "id": "00e6fb41",
   "metadata": {},
   "outputs": [],
   "source": [
    "show collections"
   ]
  },
  {
   "cell_type": "markdown",
   "id": "80235bce",
   "metadata": {},
   "source": [
    "Mostra les bases de dades"
   ]
  },
  {
   "cell_type": "code",
   "execution_count": 18,
   "id": "58827520",
   "metadata": {},
   "outputs": [],
   "source": [
    "show dbs"
   ]
  },
  {
   "cell_type": "markdown",
   "id": "1da103f9",
   "metadata": {},
   "source": [
    "Crea una base de dades use curs_IA_BD"
   ]
  },
  {
   "cell_type": "code",
   "execution_count": 56,
   "id": "a7f6eb72",
   "metadata": {},
   "outputs": [
    {
     "data": {},
     "metadata": {},
     "output_type": "display_data"
    },
    {
     "data": {},
     "metadata": {},
     "output_type": "display_data"
    },
    {
     "data": {
      "text/plain": [
       "switched to db curs_IA_BD"
      ]
     },
     "execution_count": 56,
     "metadata": {},
     "output_type": "execute_result"
    }
   ],
   "source": [
    "use curs_IA_BD"
   ]
  },
  {
   "cell_type": "markdown",
   "id": "c7f0212b",
   "metadata": {},
   "source": [
    "Crea la col·lecció \"moduls\""
   ]
  },
  {
   "cell_type": "code",
   "execution_count": 20,
   "id": "181e8ad5",
   "metadata": {},
   "outputs": [
    {
     "data": {
      "text/html": [
       "<style>a.disclosure:link{text-decoration:none;}a.disclosure:visited{text-decoration:none;}.disclosure{color:#337AB7;font-size:150%;}.syntax{color:grey;}.string{color:#9A334F;}.number{color:#5C9632;}.boolean{color:#AA9739;}.key{color:#403075;}.keyword{color:#AA9739;}.object.syntax{color:#337AB7;}.array.syntax{color:#337AB7;}></style><div id=\"14c7f481-6f2c-43b9-bc55-ec621bccc026\"></div>"
      ]
     },
     "metadata": {},
     "output_type": "display_data"
    },
    {
     "data": {
      "application/javascript": "require([\"https://rawgit.com/caldwell/renderjson/master/renderjson.js\"], function() {document.getElementById('14c7f481-6f2c-43b9-bc55-ec621bccc026').appendChild(renderjson.set_show_to_level(2)({\"ok\": 1}))});"
     },
     "metadata": {},
     "output_type": "display_data"
    },
    {
     "data": {
      "text/plain": [
       "{ \"ok\" : 1 }"
      ]
     },
     "execution_count": 20,
     "metadata": {},
     "output_type": "execute_result"
    }
   ],
   "source": [
    "db.createCollection(\"moduls\")"
   ]
  },
  {
   "cell_type": "markdown",
   "id": "1d944be9",
   "metadata": {},
   "source": [
    "Mostra les bases de dades"
   ]
  },
  {
   "cell_type": "code",
   "execution_count": 21,
   "id": "aeeb544d",
   "metadata": {},
   "outputs": [
    {
     "data": {},
     "metadata": {},
     "output_type": "display_data"
    },
    {
     "data": {},
     "metadata": {},
     "output_type": "display_data"
    },
    {
     "data": {
      "text/plain": [
       "admin       0.000GB\r\n",
       "config      0.000GB\r\n",
       "curs_IA_BD  0.000GB\r\n",
       "local       0.000GB\r\n",
       "test        0.000GB"
      ]
     },
     "execution_count": 21,
     "metadata": {},
     "output_type": "execute_result"
    }
   ],
   "source": [
    "show dbs"
   ]
  },
  {
   "cell_type": "markdown",
   "id": "2b69d6e5",
   "metadata": {},
   "source": [
    "Mostra les coleccions per una base de dades"
   ]
  },
  {
   "cell_type": "code",
   "execution_count": 22,
   "id": "c0b5de36",
   "metadata": {},
   "outputs": [
    {
     "data": {},
     "metadata": {},
     "output_type": "display_data"
    },
    {
     "data": {},
     "metadata": {},
     "output_type": "display_data"
    },
    {
     "data": {
      "text/plain": [
       "moduls"
      ]
     },
     "execution_count": 22,
     "metadata": {},
     "output_type": "execute_result"
    }
   ],
   "source": [
    "show collections"
   ]
  },
  {
   "cell_type": "markdown",
   "id": "6010c0c4",
   "metadata": {},
   "source": [
    "Insereix un resgistre a la col·lecció \"moduls"
   ]
  },
  {
   "cell_type": "code",
   "execution_count": 23,
   "id": "8abd351e",
   "metadata": {},
   "outputs": [
    {
     "data": {},
     "metadata": {},
     "output_type": "display_data"
    },
    {
     "data": {},
     "metadata": {},
     "output_type": "display_data"
    },
    {
     "data": {
      "text/plain": [
       "WriteResult({ \"nInserted\" : 1 })"
      ]
     },
     "execution_count": 23,
     "metadata": {},
     "output_type": "execute_result"
    }
   ],
   "source": [
    "db.moduls.insertOne({\"nom\":\"BDA\",\"matriculats\":25,\"dificultat\":\"mitja\"})"
   ]
  },
  {
   "cell_type": "markdown",
   "id": "14aad30c",
   "metadata": {},
   "source": [
    "Insereix un document a la col·lecció \"moduls\""
   ]
  },
  {
   "cell_type": "code",
   "execution_count": 24,
   "id": "667ed773",
   "metadata": {},
   "outputs": [
    {
     "data": {},
     "metadata": {},
     "output_type": "display_data"
    },
    {
     "data": {},
     "metadata": {},
     "output_type": "display_data"
    },
    {
     "data": {
      "text/plain": [
       "{\r\n",
       "\t\"acknowledged\" : true,\r\n",
       "\t\"insertedId\" : ObjectId(\"617ac5da7600c0232472a340\")\r\n",
       "}"
      ]
     },
     "execution_count": 24,
     "metadata": {},
     "output_type": "execute_result"
    }
   ],
   "source": [
    "db.moduls.insertOne({\"nom\":\"PIA\",\"matriculats\":23,\"dificultat\":\"alta\"})"
   ]
  },
  {
   "cell_type": "markdown",
   "id": "8434e062",
   "metadata": {},
   "source": [
    "Visualtiza els documents de la col·lecció \"moduls\""
   ]
  },
  {
   "cell_type": "code",
   "execution_count": 25,
   "id": "49ed8694",
   "metadata": {},
   "outputs": [
    {
     "data": {
      "text/html": [
       "<style>a.disclosure:link{text-decoration:none;}a.disclosure:visited{text-decoration:none;}.disclosure{color:#337AB7;font-size:150%;}.syntax{color:grey;}.string{color:#9A334F;}.number{color:#5C9632;}.boolean{color:#AA9739;}.key{color:#403075;}.keyword{color:#AA9739;}.object.syntax{color:#337AB7;}.array.syntax{color:#337AB7;}></style><div id=\"18abe87a-3d45-459e-92c8-e02aec668527\"></div>"
      ]
     },
     "metadata": {},
     "output_type": "display_data"
    },
    {
     "data": {
      "application/javascript": "require([\"https://rawgit.com/caldwell/renderjson/master/renderjson.js\"], function() {document.getElementById('18abe87a-3d45-459e-92c8-e02aec668527').appendChild(renderjson.set_show_to_level(2)([{\"_id\": {\"$oid\": \"617ac5967600c0232472a33f\"}, \"nom\": \"BDA\", \"matriculats\": 25, \"dificultat\": \"mitja\"}, {\"_id\": {\"$oid\": \"617ac5da7600c0232472a340\"}, \"nom\": \"PIA\", \"matriculats\": 23, \"dificultat\": \"alta\"}]))});"
     },
     "metadata": {},
     "output_type": "display_data"
    },
    {
     "data": {
      "text/plain": [
       "{ \"_id\" : ObjectId(\"617ac5967600c0232472a33f\"), \"nom\" : \"BDA\", \"matriculats\" : 25, \"dificultat\" : \"mitja\" }\r\n",
       "{ \"_id\" : ObjectId(\"617ac5da7600c0232472a340\"), \"nom\" : \"PIA\", \"matriculats\" : 23, \"dificultat\" : \"alta\" }"
      ]
     },
     "execution_count": 25,
     "metadata": {},
     "output_type": "execute_result"
    }
   ],
   "source": [
    "db.moduls.find()"
   ]
  },
  {
   "cell_type": "markdown",
   "id": "b9368baa",
   "metadata": {},
   "source": [
    "Visualtiza els documents de la col·lecció \"moduls\" de forma més ordenada"
   ]
  },
  {
   "cell_type": "code",
   "execution_count": 26,
   "id": "2bc56283",
   "metadata": {},
   "outputs": [
    {
     "data": {},
     "metadata": {},
     "output_type": "display_data"
    },
    {
     "data": {},
     "metadata": {},
     "output_type": "display_data"
    },
    {
     "data": {
      "text/plain": [
       "{\r\n",
       "\t\"_id\" : ObjectId(\"617ac5967600c0232472a33f\"),\r\n",
       "\t\"nom\" : \"BDA\",\r\n",
       "\t\"matriculats\" : 25,\r\n",
       "\t\"dificultat\" : \"mitja\"\r\n",
       "}\r\n",
       "{\r\n",
       "\t\"_id\" : ObjectId(\"617ac5da7600c0232472a340\"),\r\n",
       "\t\"nom\" : \"PIA\",\r\n",
       "\t\"matriculats\" : 23,\r\n",
       "\t\"dificultat\" : \"alta\"\r\n",
       "}"
      ]
     },
     "execution_count": 26,
     "metadata": {},
     "output_type": "execute_result"
    }
   ],
   "source": [
    "db.moduls.find().pretty()"
   ]
  },
  {
   "cell_type": "markdown",
   "id": "04504991",
   "metadata": {},
   "source": [
    "Insereix molts de documents a la col·lecció \"moduls\""
   ]
  },
  {
   "cell_type": "code",
   "execution_count": 28,
   "id": "ce5d7c44",
   "metadata": {},
   "outputs": [
    {
     "data": {
      "text/html": [
       "<style>a.disclosure:link{text-decoration:none;}a.disclosure:visited{text-decoration:none;}.disclosure{color:#337AB7;font-size:150%;}.syntax{color:grey;}.string{color:#9A334F;}.number{color:#5C9632;}.boolean{color:#AA9739;}.key{color:#403075;}.keyword{color:#AA9739;}.object.syntax{color:#337AB7;}.array.syntax{color:#337AB7;}></style><div id=\"52399853-3afe-4c3d-b957-32e211a74cac\"></div>"
      ]
     },
     "metadata": {},
     "output_type": "display_data"
    },
    {
     "data": {
      "application/javascript": "require([\"https://rawgit.com/caldwell/renderjson/master/renderjson.js\"], function() {document.getElementById('52399853-3afe-4c3d-b957-32e211a74cac').appendChild(renderjson.set_show_to_level(2)([{\"$oid\": \"617ac7377600c0232472a343\"}]))});"
     },
     "metadata": {},
     "output_type": "display_data"
    },
    {
     "data": {
      "text/plain": [
       "{\r\n",
       "\t\"acknowledged\" : true,\r\n",
       "\t\"insertedIds\" : [\r\n",
       "\t\tObjectId(\"617ac7377600c0232472a341\"),\r\n",
       "\t\tObjectId(\"617ac7377600c0232472a342\"),\r\n",
       "\t\tObjectId(\"617ac7377600c0232472a343\")\r\n",
       "\t]\r\n",
       "}"
      ]
     },
     "execution_count": 28,
     "metadata": {},
     "output_type": "execute_result"
    }
   ],
   "source": [
    "db.moduls.insertMany([{\"nom\":\"SAA\",\"matriculats\":30,\"dificultat\":\"alta\"},{\"nom\":\"SBD\",\"matriculats\":30,\"dificultat\":\"mitja\"},{\"nom\":\"MIA\",\"matriculats\":30,\"dificultat\":\"alta\"}])"
   ]
  },
  {
   "cell_type": "markdown",
   "id": "7762eaa8",
   "metadata": {},
   "source": [
    "Esborra el document de col·lecció amb el nom \"BDA\""
   ]
  },
  {
   "cell_type": "code",
   "execution_count": 29,
   "id": "1b735fa7",
   "metadata": {},
   "outputs": [
    {
     "data": {
      "text/html": [
       "<style>a.disclosure:link{text-decoration:none;}a.disclosure:visited{text-decoration:none;}.disclosure{color:#337AB7;font-size:150%;}.syntax{color:grey;}.string{color:#9A334F;}.number{color:#5C9632;}.boolean{color:#AA9739;}.key{color:#403075;}.keyword{color:#AA9739;}.object.syntax{color:#337AB7;}.array.syntax{color:#337AB7;}></style><div id=\"236f4c09-4949-4144-8462-ed334ab36c4c\"></div>"
      ]
     },
     "metadata": {},
     "output_type": "display_data"
    },
    {
     "data": {
      "application/javascript": "require([\"https://rawgit.com/caldwell/renderjson/master/renderjson.js\"], function() {document.getElementById('236f4c09-4949-4144-8462-ed334ab36c4c').appendChild(renderjson.set_show_to_level(2)({\"acknowledged\": true, \"deletedCount\": 1}))});"
     },
     "metadata": {},
     "output_type": "display_data"
    },
    {
     "data": {
      "text/plain": [
       "{ \"acknowledged\" : true, \"deletedCount\" : 1 }"
      ]
     },
     "execution_count": 29,
     "metadata": {},
     "output_type": "execute_result"
    }
   ],
   "source": [
    "db.moduls.deleteOne({\"nom\":\"BDA\"})"
   ]
  },
  {
   "cell_type": "markdown",
   "id": "5a777816",
   "metadata": {},
   "source": [
    "Visualtiza els documents de la col·lecció \"moduls\""
   ]
  },
  {
   "cell_type": "code",
   "execution_count": 30,
   "id": "c2e1bd04",
   "metadata": {},
   "outputs": [
    {
     "data": {
      "text/html": [
       "<style>a.disclosure:link{text-decoration:none;}a.disclosure:visited{text-decoration:none;}.disclosure{color:#337AB7;font-size:150%;}.syntax{color:grey;}.string{color:#9A334F;}.number{color:#5C9632;}.boolean{color:#AA9739;}.key{color:#403075;}.keyword{color:#AA9739;}.object.syntax{color:#337AB7;}.array.syntax{color:#337AB7;}></style><div id=\"43f9adfb-b764-4b11-aed0-774432be66e8\"></div>"
      ]
     },
     "metadata": {},
     "output_type": "display_data"
    },
    {
     "data": {
      "application/javascript": "require([\"https://rawgit.com/caldwell/renderjson/master/renderjson.js\"], function() {document.getElementById('43f9adfb-b764-4b11-aed0-774432be66e8').appendChild(renderjson.set_show_to_level(2)([{\"_id\": {\"$oid\": \"617ac5da7600c0232472a340\"}, \"nom\": \"PIA\", \"matriculats\": 23, \"dificultat\": \"alta\"}, {\"_id\": {\"$oid\": \"617ac7377600c0232472a341\"}, \"nom\": \"SAA\", \"matriculats\": 30, \"dificultat\": \"alta\"}, {\"_id\": {\"$oid\": \"617ac7377600c0232472a342\"}, \"nom\": \"SBD\", \"matriculats\": 30, \"dificultat\": \"mitja\"}, {\"_id\": {\"$oid\": \"617ac7377600c0232472a343\"}, \"nom\": \"MIA\", \"matriculats\": 30, \"dificultat\": \"alta\"}]))});"
     },
     "metadata": {},
     "output_type": "display_data"
    },
    {
     "data": {
      "text/plain": [
       "{ \"_id\" : ObjectId(\"617ac5da7600c0232472a340\"), \"nom\" : \"PIA\", \"matriculats\" : 23, \"dificultat\" : \"alta\" }\r\n",
       "{ \"_id\" : ObjectId(\"617ac7377600c0232472a341\"), \"nom\" : \"SAA\", \"matriculats\" : 30, \"dificultat\" : \"alta\" }\r\n",
       "{ \"_id\" : ObjectId(\"617ac7377600c0232472a342\"), \"nom\" : \"SBD\", \"matriculats\" : 30, \"dificultat\" : \"mitja\" }\r\n",
       "{ \"_id\" : ObjectId(\"617ac7377600c0232472a343\"), \"nom\" : \"MIA\", \"matriculats\" : 30, \"dificultat\" : \"alta\" }"
      ]
     },
     "execution_count": 30,
     "metadata": {},
     "output_type": "execute_result"
    }
   ],
   "source": [
    "db.moduls.find()"
   ]
  },
  {
   "cell_type": "markdown",
   "id": "8749a757",
   "metadata": {},
   "source": [
    "Insereix un document a la col·lecció \"moduls\""
   ]
  },
  {
   "cell_type": "code",
   "execution_count": 31,
   "id": "7426f30f",
   "metadata": {},
   "outputs": [
    {
     "data": {},
     "metadata": {},
     "output_type": "display_data"
    },
    {
     "data": {},
     "metadata": {},
     "output_type": "display_data"
    },
    {
     "data": {
      "text/plain": [
       "WriteResult({ \"nInserted\" : 1 })"
      ]
     },
     "execution_count": 31,
     "metadata": {},
     "output_type": "execute_result"
    }
   ],
   "source": [
    "db.moduls.insert({\"nom\":\"BDA\",\"matriculats\":25,\"dificultat\":\"mitja\"})"
   ]
  },
  {
   "cell_type": "markdown",
   "id": "19137a32",
   "metadata": {},
   "source": [
    "Visualtiza els documents de la col·lecció \"moduls\""
   ]
  },
  {
   "cell_type": "code",
   "execution_count": 32,
   "id": "18b66b98",
   "metadata": {},
   "outputs": [
    {
     "data": {
      "text/html": [
       "<style>a.disclosure:link{text-decoration:none;}a.disclosure:visited{text-decoration:none;}.disclosure{color:#337AB7;font-size:150%;}.syntax{color:grey;}.string{color:#9A334F;}.number{color:#5C9632;}.boolean{color:#AA9739;}.key{color:#403075;}.keyword{color:#AA9739;}.object.syntax{color:#337AB7;}.array.syntax{color:#337AB7;}></style><div id=\"54e1177c-0a32-43ab-b627-9b61859e9b05\"></div>"
      ]
     },
     "metadata": {},
     "output_type": "display_data"
    },
    {
     "data": {
      "application/javascript": "require([\"https://rawgit.com/caldwell/renderjson/master/renderjson.js\"], function() {document.getElementById('54e1177c-0a32-43ab-b627-9b61859e9b05').appendChild(renderjson.set_show_to_level(2)([{\"_id\": {\"$oid\": \"617ac5da7600c0232472a340\"}, \"nom\": \"PIA\", \"matriculats\": 23, \"dificultat\": \"alta\"}, {\"_id\": {\"$oid\": \"617ac7377600c0232472a341\"}, \"nom\": \"SAA\", \"matriculats\": 30, \"dificultat\": \"alta\"}, {\"_id\": {\"$oid\": \"617ac7377600c0232472a342\"}, \"nom\": \"SBD\", \"matriculats\": 30, \"dificultat\": \"mitja\"}, {\"_id\": {\"$oid\": \"617ac7377600c0232472a343\"}, \"nom\": \"MIA\", \"matriculats\": 30, \"dificultat\": \"alta\"}, {\"_id\": {\"$oid\": \"617ac7a77600c0232472a344\"}, \"nom\": \"BDA\", \"matriculats\": 25, \"dificultat\": \"mitja\"}]))});"
     },
     "metadata": {},
     "output_type": "display_data"
    },
    {
     "data": {
      "text/plain": [
       "{ \"_id\" : ObjectId(\"617ac5da7600c0232472a340\"), \"nom\" : \"PIA\", \"matriculats\" : 23, \"dificultat\" : \"alta\" }\r\n",
       "{ \"_id\" : ObjectId(\"617ac7377600c0232472a341\"), \"nom\" : \"SAA\", \"matriculats\" : 30, \"dificultat\" : \"alta\" }\r\n",
       "{ \"_id\" : ObjectId(\"617ac7377600c0232472a342\"), \"nom\" : \"SBD\", \"matriculats\" : 30, \"dificultat\" : \"mitja\" }\r\n",
       "{ \"_id\" : ObjectId(\"617ac7377600c0232472a343\"), \"nom\" : \"MIA\", \"matriculats\" : 30, \"dificultat\" : \"alta\" }\r\n",
       "{ \"_id\" : ObjectId(\"617ac7a77600c0232472a344\"), \"nom\" : \"BDA\", \"matriculats\" : 25, \"dificultat\" : \"mitja\" }"
      ]
     },
     "execution_count": 32,
     "metadata": {},
     "output_type": "execute_result"
    }
   ],
   "source": [
    "db.moduls.find()"
   ]
  },
  {
   "cell_type": "markdown",
   "id": "847d330a",
   "metadata": {},
   "source": [
    "Visualitza el primer document de la co·lecció \"moduls\""
   ]
  },
  {
   "cell_type": "code",
   "execution_count": 33,
   "id": "df3012f8",
   "metadata": {
    "collapsed": true
   },
   "outputs": [
    {
     "data": {},
     "metadata": {},
     "output_type": "display_data"
    },
    {
     "data": {},
     "metadata": {},
     "output_type": "display_data"
    },
    {
     "data": {
      "text/plain": [
       "{\r\n",
       "\t\"_id\" : ObjectId(\"617ac5da7600c0232472a340\"),\r\n",
       "\t\"nom\" : \"PIA\",\r\n",
       "\t\"matriculats\" : 23,\r\n",
       "\t\"dificultat\" : \"alta\"\r\n",
       "}"
      ]
     },
     "execution_count": 33,
     "metadata": {},
     "output_type": "execute_result"
    }
   ],
   "source": [
    "db.moduls.findOne()"
   ]
  },
  {
   "cell_type": "markdown",
   "id": "a55fd881",
   "metadata": {},
   "source": [
    "Visualitza els mòduls de dificultat mitja."
   ]
  },
  {
   "cell_type": "code",
   "execution_count": 35,
   "id": "b1128817",
   "metadata": {},
   "outputs": [
    {
     "data": {
      "text/html": [
       "<style>a.disclosure:link{text-decoration:none;}a.disclosure:visited{text-decoration:none;}.disclosure{color:#337AB7;font-size:150%;}.syntax{color:grey;}.string{color:#9A334F;}.number{color:#5C9632;}.boolean{color:#AA9739;}.key{color:#403075;}.keyword{color:#AA9739;}.object.syntax{color:#337AB7;}.array.syntax{color:#337AB7;}></style><div id=\"f364f45e-8b74-40d7-ae79-083910c0949f\"></div>"
      ]
     },
     "metadata": {},
     "output_type": "display_data"
    },
    {
     "data": {
      "application/javascript": "require([\"https://rawgit.com/caldwell/renderjson/master/renderjson.js\"], function() {document.getElementById('f364f45e-8b74-40d7-ae79-083910c0949f').appendChild(renderjson.set_show_to_level(2)([{\"_id\": {\"$oid\": \"617ac7377600c0232472a342\"}, \"nom\": \"SBD\", \"matriculats\": 30, \"dificultat\": \"mitja\"}, {\"_id\": {\"$oid\": \"617ac7a77600c0232472a344\"}, \"nom\": \"BDA\", \"matriculats\": 25, \"dificultat\": \"mitja\"}]))});"
     },
     "metadata": {},
     "output_type": "display_data"
    },
    {
     "data": {
      "text/plain": [
       "{ \"_id\" : ObjectId(\"617ac7377600c0232472a342\"), \"nom\" : \"SBD\", \"matriculats\" : 30, \"dificultat\" : \"mitja\" }\r\n",
       "{ \"_id\" : ObjectId(\"617ac7a77600c0232472a344\"), \"nom\" : \"BDA\", \"matriculats\" : 25, \"dificultat\" : \"mitja\" }"
      ]
     },
     "execution_count": 35,
     "metadata": {},
     "output_type": "execute_result"
    }
   ],
   "source": [
    "db.moduls.find({\"dificultat\":\"mitja\"})"
   ]
  },
  {
   "cell_type": "markdown",
   "id": "d8d52d20",
   "metadata": {},
   "source": [
    "Visualitza el primer mòdul de dificultat mitja."
   ]
  },
  {
   "cell_type": "code",
   "execution_count": 36,
   "id": "8d6b4d1e",
   "metadata": {},
   "outputs": [
    {
     "data": {},
     "metadata": {},
     "output_type": "display_data"
    },
    {
     "data": {},
     "metadata": {},
     "output_type": "display_data"
    },
    {
     "data": {
      "text/plain": [
       "{\r\n",
       "\t\"_id\" : ObjectId(\"617ac7377600c0232472a342\"),\r\n",
       "\t\"nom\" : \"SBD\",\r\n",
       "\t\"matriculats\" : 30,\r\n",
       "\t\"dificultat\" : \"mitja\"\r\n",
       "}"
      ]
     },
     "execution_count": 36,
     "metadata": {},
     "output_type": "execute_result"
    }
   ],
   "source": [
    "db.moduls.findOne({\"dificultat\":\"mitja\"})"
   ]
  },
  {
   "cell_type": "markdown",
   "id": "3b6943d0",
   "metadata": {},
   "source": [
    "Mostra el nom dels mòdul de dificultat mitja."
   ]
  },
  {
   "cell_type": "code",
   "execution_count": 39,
   "id": "57312d7a",
   "metadata": {},
   "outputs": [
    {
     "data": {
      "text/html": [
       "<style>a.disclosure:link{text-decoration:none;}a.disclosure:visited{text-decoration:none;}.disclosure{color:#337AB7;font-size:150%;}.syntax{color:grey;}.string{color:#9A334F;}.number{color:#5C9632;}.boolean{color:#AA9739;}.key{color:#403075;}.keyword{color:#AA9739;}.object.syntax{color:#337AB7;}.array.syntax{color:#337AB7;}></style><div id=\"9fe2f3c2-7905-4449-a4b5-531b11d5151e\"></div>"
      ]
     },
     "metadata": {},
     "output_type": "display_data"
    },
    {
     "data": {
      "application/javascript": "require([\"https://rawgit.com/caldwell/renderjson/master/renderjson.js\"], function() {document.getElementById('9fe2f3c2-7905-4449-a4b5-531b11d5151e').appendChild(renderjson.set_show_to_level(2)([{\"_id\": {\"$oid\": \"617ac7377600c0232472a342\"}, \"nom\": \"SBD\"}, {\"_id\": {\"$oid\": \"617ac7a77600c0232472a344\"}, \"nom\": \"BDA\"}]))});"
     },
     "metadata": {},
     "output_type": "display_data"
    },
    {
     "data": {
      "text/plain": [
       "{ \"_id\" : ObjectId(\"617ac7377600c0232472a342\"), \"nom\" : \"SBD\" }\r\n",
       "{ \"_id\" : ObjectId(\"617ac7a77600c0232472a344\"), \"nom\" : \"BDA\" }"
      ]
     },
     "execution_count": 39,
     "metadata": {},
     "output_type": "execute_result"
    }
   ],
   "source": [
    "db.moduls.find({\"dificultat\":\"mitja\"},{\"nom\":1})"
   ]
  },
  {
   "cell_type": "markdown",
   "id": "d6119099",
   "metadata": {},
   "source": [
    "Mostra el nom dels moduls amb 30 o més matriculats"
   ]
  },
  {
   "cell_type": "code",
   "execution_count": 40,
   "id": "02170305",
   "metadata": {},
   "outputs": [
    {
     "data": {
      "text/html": [
       "<style>a.disclosure:link{text-decoration:none;}a.disclosure:visited{text-decoration:none;}.disclosure{color:#337AB7;font-size:150%;}.syntax{color:grey;}.string{color:#9A334F;}.number{color:#5C9632;}.boolean{color:#AA9739;}.key{color:#403075;}.keyword{color:#AA9739;}.object.syntax{color:#337AB7;}.array.syntax{color:#337AB7;}></style><div id=\"d368f119-e928-4e37-aca6-bd0f4c24635a\"></div>"
      ]
     },
     "metadata": {},
     "output_type": "display_data"
    },
    {
     "data": {
      "application/javascript": "require([\"https://rawgit.com/caldwell/renderjson/master/renderjson.js\"], function() {document.getElementById('d368f119-e928-4e37-aca6-bd0f4c24635a').appendChild(renderjson.set_show_to_level(2)([{\"_id\": {\"$oid\": \"617ac7377600c0232472a341\"}, \"nom\": \"SAA\"}, {\"_id\": {\"$oid\": \"617ac7377600c0232472a342\"}, \"nom\": \"SBD\"}, {\"_id\": {\"$oid\": \"617ac7377600c0232472a343\"}, \"nom\": \"MIA\"}]))});"
     },
     "metadata": {},
     "output_type": "display_data"
    },
    {
     "data": {
      "text/plain": [
       "{ \"_id\" : ObjectId(\"617ac7377600c0232472a341\"), \"nom\" : \"SAA\" }\r\n",
       "{ \"_id\" : ObjectId(\"617ac7377600c0232472a342\"), \"nom\" : \"SBD\" }\r\n",
       "{ \"_id\" : ObjectId(\"617ac7377600c0232472a343\"), \"nom\" : \"MIA\" }"
      ]
     },
     "execution_count": 40,
     "metadata": {},
     "output_type": "execute_result"
    }
   ],
   "source": [
    "db.moduls.find({\"matriculats\":{$gte:30}},{\"nom\":1})"
   ]
  },
  {
   "cell_type": "markdown",
   "id": "4d1802dd",
   "metadata": {},
   "source": [
    "Mostra el nom i el nombre de matriculats dels moduls amb 30 o més matriculats"
   ]
  },
  {
   "cell_type": "markdown",
   "id": "d48bfb5d",
   "metadata": {},
   "source": [
    "db.moduls.find({\"matriculats\":{$gte:30}},{\"nom\":1, \"matriculats\":2})"
   ]
  },
  {
   "cell_type": "markdown",
   "id": "1a157484",
   "metadata": {},
   "source": [
    "Mostra els moduls de dificultat alta i que el nombre de matriculats es de 30 o igual."
   ]
  },
  {
   "cell_type": "code",
   "execution_count": null,
   "id": "ca357b5d",
   "metadata": {},
   "outputs": [],
   "source": [
    "db.moduls.find({$and:[{\"dificultat\":\"alta\"},  {\"matriculats\":{$gte:30}}]},{\"nom\":1, \"matriculats\":2})"
   ]
  },
  {
   "cell_type": "markdown",
   "id": "8ddc7043",
   "metadata": {},
   "source": [
    "Mostra els moduls de dificultat alta i que el nombre de matriculats es de 30 o igual."
   ]
  },
  {
   "cell_type": "code",
   "execution_count": 59,
   "id": "0e8ba678",
   "metadata": {},
   "outputs": [
    {
     "data": {
      "text/html": [
       "<style>a.disclosure:link{text-decoration:none;}a.disclosure:visited{text-decoration:none;}.disclosure{color:#337AB7;font-size:150%;}.syntax{color:grey;}.string{color:#9A334F;}.number{color:#5C9632;}.boolean{color:#AA9739;}.key{color:#403075;}.keyword{color:#AA9739;}.object.syntax{color:#337AB7;}.array.syntax{color:#337AB7;}></style><div id=\"1d41c267-46ae-492b-a6f4-1d910cfdef66\"></div>"
      ]
     },
     "metadata": {},
     "output_type": "display_data"
    },
    {
     "data": {
      "application/javascript": "require([\"https://rawgit.com/caldwell/renderjson/master/renderjson.js\"], function() {document.getElementById('1d41c267-46ae-492b-a6f4-1d910cfdef66').appendChild(renderjson.set_show_to_level(2)([{\"_id\": {\"$oid\": \"617ac7377600c0232472a341\"}, \"nom\": \"SAA\", \"matriculats\": 30}, {\"_id\": {\"$oid\": \"617ac7377600c0232472a343\"}, \"nom\": \"MIA\", \"matriculats\": 30}]))});"
     },
     "metadata": {},
     "output_type": "display_data"
    },
    {
     "data": {
      "text/plain": [
       "{ \"_id\" : ObjectId(\"617ac7377600c0232472a341\"), \"nom\" : \"SAA\", \"matriculats\" : 30 }\r\n",
       "{ \"_id\" : ObjectId(\"617ac7377600c0232472a343\"), \"nom\" : \"MIA\", \"matriculats\" : 30 }"
      ]
     },
     "execution_count": 59,
     "metadata": {},
     "output_type": "execute_result"
    }
   ],
   "source": [
    "db.moduls.find({\"dificultat\":\"alta\",  \"matriculats\":{$gte:30}},{\"nom\":1, \"matriculats\":2})"
   ]
  },
  {
   "cell_type": "markdown",
   "id": "eede9659",
   "metadata": {},
   "source": [
    "Mostra els moduls que el seu nom conté les lletres BD"
   ]
  },
  {
   "cell_type": "code",
   "execution_count": 66,
   "id": "2f6f280f",
   "metadata": {},
   "outputs": [
    {
     "data": {
      "text/html": [
       "<style>a.disclosure:link{text-decoration:none;}a.disclosure:visited{text-decoration:none;}.disclosure{color:#337AB7;font-size:150%;}.syntax{color:grey;}.string{color:#9A334F;}.number{color:#5C9632;}.boolean{color:#AA9739;}.key{color:#403075;}.keyword{color:#AA9739;}.object.syntax{color:#337AB7;}.array.syntax{color:#337AB7;}></style><div id=\"0c91cee7-9bb8-4b20-99a3-52ed66d04275\"></div>"
      ]
     },
     "metadata": {},
     "output_type": "display_data"
    },
    {
     "data": {
      "application/javascript": "require([\"https://rawgit.com/caldwell/renderjson/master/renderjson.js\"], function() {document.getElementById('0c91cee7-9bb8-4b20-99a3-52ed66d04275').appendChild(renderjson.set_show_to_level(2)([{\"_id\": {\"$oid\": \"617ac7377600c0232472a342\"}, \"nom\": \"SBD\", \"matriculats\": 30}, {\"_id\": {\"$oid\": \"617ac7a77600c0232472a344\"}, \"nom\": \"BDA\", \"matriculats\": 25}]))});"
     },
     "metadata": {},
     "output_type": "display_data"
    },
    {
     "data": {
      "text/plain": [
       "{ \"_id\" : ObjectId(\"617ac7377600c0232472a342\"), \"nom\" : \"SBD\", \"matriculats\" : 30 }\r\n",
       "{ \"_id\" : ObjectId(\"617ac7a77600c0232472a344\"), \"nom\" : \"BDA\", \"matriculats\" : 25 }"
      ]
     },
     "execution_count": 66,
     "metadata": {},
     "output_type": "execute_result"
    }
   ],
   "source": [
    "db.moduls.find({\"nom\":{$regex:\".*BD*\"}},{\"nom\":1, \"matriculats\":1})"
   ]
  },
  {
   "cell_type": "markdown",
   "id": "f9b36aee",
   "metadata": {},
   "source": [
    "Mostra els moduls que el seu nom conté la lletra A"
   ]
  },
  {
   "cell_type": "code",
   "execution_count": 79,
   "id": "567cae84",
   "metadata": {},
   "outputs": [
    {
     "data": {
      "text/html": [
       "<style>a.disclosure:link{text-decoration:none;}a.disclosure:visited{text-decoration:none;}.disclosure{color:#337AB7;font-size:150%;}.syntax{color:grey;}.string{color:#9A334F;}.number{color:#5C9632;}.boolean{color:#AA9739;}.key{color:#403075;}.keyword{color:#AA9739;}.object.syntax{color:#337AB7;}.array.syntax{color:#337AB7;}></style><div id=\"ae2d836f-c3ed-46d5-8c4b-fa8e480091a9\"></div>"
      ]
     },
     "metadata": {},
     "output_type": "display_data"
    },
    {
     "data": {
      "application/javascript": "require([\"https://rawgit.com/caldwell/renderjson/master/renderjson.js\"], function() {document.getElementById('ae2d836f-c3ed-46d5-8c4b-fa8e480091a9').appendChild(renderjson.set_show_to_level(2)([{\"_id\": {\"$oid\": \"617ac5da7600c0232472a340\"}, \"nom\": \"PIA\", \"matriculats\": 23}, {\"_id\": {\"$oid\": \"617ac7377600c0232472a341\"}, \"nom\": \"SAA\", \"matriculats\": 30}, {\"_id\": {\"$oid\": \"617ac7377600c0232472a343\"}, \"nom\": \"MIA\", \"matriculats\": 30}, {\"_id\": {\"$oid\": \"617ac7a77600c0232472a344\"}, \"nom\": \"BDA\", \"matriculats\": 25}]))});"
     },
     "metadata": {},
     "output_type": "display_data"
    },
    {
     "data": {
      "text/plain": [
       "{ \"_id\" : ObjectId(\"617ac5da7600c0232472a340\"), \"nom\" : \"PIA\", \"matriculats\" : 23 }\r\n",
       "{ \"_id\" : ObjectId(\"617ac7377600c0232472a341\"), \"nom\" : \"SAA\", \"matriculats\" : 30 }\r\n",
       "{ \"_id\" : ObjectId(\"617ac7377600c0232472a343\"), \"nom\" : \"MIA\", \"matriculats\" : 30 }\r\n",
       "{ \"_id\" : ObjectId(\"617ac7a77600c0232472a344\"), \"nom\" : \"BDA\", \"matriculats\" : 25 }"
      ]
     },
     "execution_count": 79,
     "metadata": {},
     "output_type": "execute_result"
    }
   ],
   "source": [
    "db.moduls.find({\"nom\":{$regex:\".*A.*\"}},{\"nom\":1, \"matriculats\":1})"
   ]
  },
  {
   "cell_type": "markdown",
   "id": "9327d3a1",
   "metadata": {},
   "source": [
    "Conta els documents de la col·lecció \"moduls\""
   ]
  },
  {
   "cell_type": "code",
   "execution_count": 68,
   "id": "549c85cc",
   "metadata": {},
   "outputs": [
    {
     "data": {
      "text/html": [
       "<style>a.disclosure:link{text-decoration:none;}a.disclosure:visited{text-decoration:none;}.disclosure{color:#337AB7;font-size:150%;}.syntax{color:grey;}.string{color:#9A334F;}.number{color:#5C9632;}.boolean{color:#AA9739;}.key{color:#403075;}.keyword{color:#AA9739;}.object.syntax{color:#337AB7;}.array.syntax{color:#337AB7;}></style><div id=\"a174c970-bccb-478e-8c37-bc347a8a6889\"></div>"
      ]
     },
     "metadata": {},
     "output_type": "display_data"
    },
    {
     "data": {
      "application/javascript": "require([\"https://rawgit.com/caldwell/renderjson/master/renderjson.js\"], function() {document.getElementById('a174c970-bccb-478e-8c37-bc347a8a6889').appendChild(renderjson.set_show_to_level(2)(5))});"
     },
     "metadata": {},
     "output_type": "display_data"
    },
    {
     "data": {
      "text/plain": [
       "5"
      ]
     },
     "execution_count": 68,
     "metadata": {},
     "output_type": "execute_result"
    }
   ],
   "source": [
    "db.moduls.find().count()"
   ]
  },
  {
   "cell_type": "markdown",
   "id": "ae47ca95",
   "metadata": {},
   "source": [
    "Mostra el nom dels mòduls"
   ]
  },
  {
   "cell_type": "code",
   "execution_count": 80,
   "id": "bc2af58f",
   "metadata": {},
   "outputs": [
    {
     "data": {
      "text/html": [
       "<style>a.disclosure:link{text-decoration:none;}a.disclosure:visited{text-decoration:none;}.disclosure{color:#337AB7;font-size:150%;}.syntax{color:grey;}.string{color:#9A334F;}.number{color:#5C9632;}.boolean{color:#AA9739;}.key{color:#403075;}.keyword{color:#AA9739;}.object.syntax{color:#337AB7;}.array.syntax{color:#337AB7;}></style><div id=\"25cfcec8-9e6e-46b1-ba81-179c091bb972\"></div>"
      ]
     },
     "metadata": {},
     "output_type": "display_data"
    },
    {
     "data": {
      "application/javascript": "require([\"https://rawgit.com/caldwell/renderjson/master/renderjson.js\"], function() {document.getElementById('25cfcec8-9e6e-46b1-ba81-179c091bb972').appendChild(renderjson.set_show_to_level(2)([{\"_id\": {\"$oid\": \"617ac5da7600c0232472a340\"}, \"nom\": \"PIA\"}, {\"_id\": {\"$oid\": \"617ac7377600c0232472a341\"}, \"nom\": \"SAA\"}, {\"_id\": {\"$oid\": \"617ac7377600c0232472a342\"}, \"nom\": \"SBD\"}, {\"_id\": {\"$oid\": \"617ac7377600c0232472a343\"}, \"nom\": \"MIA\"}, {\"_id\": {\"$oid\": \"617ac7a77600c0232472a344\"}, \"nom\": \"BDA\"}]))});"
     },
     "metadata": {},
     "output_type": "display_data"
    },
    {
     "data": {
      "text/plain": [
       "{ \"_id\" : ObjectId(\"617ac5da7600c0232472a340\"), \"nom\" : \"PIA\" }\r\n",
       "{ \"_id\" : ObjectId(\"617ac7377600c0232472a341\"), \"nom\" : \"SAA\" }\r\n",
       "{ \"_id\" : ObjectId(\"617ac7377600c0232472a342\"), \"nom\" : \"SBD\" }\r\n",
       "{ \"_id\" : ObjectId(\"617ac7377600c0232472a343\"), \"nom\" : \"MIA\" }\r\n",
       "{ \"_id\" : ObjectId(\"617ac7a77600c0232472a344\"), \"nom\" : \"BDA\" }"
      ]
     },
     "execution_count": 80,
     "metadata": {},
     "output_type": "execute_result"
    }
   ],
   "source": [
    "db.moduls.find({},{\"nom\":1})"
   ]
  },
  {
   "cell_type": "markdown",
   "id": "5ad3b306",
   "metadata": {},
   "source": [
    "Mostra el nom dels mòduls ordenats per nom"
   ]
  },
  {
   "cell_type": "code",
   "execution_count": 81,
   "id": "dc9adba6",
   "metadata": {},
   "outputs": [
    {
     "data": {
      "text/html": [
       "<style>a.disclosure:link{text-decoration:none;}a.disclosure:visited{text-decoration:none;}.disclosure{color:#337AB7;font-size:150%;}.syntax{color:grey;}.string{color:#9A334F;}.number{color:#5C9632;}.boolean{color:#AA9739;}.key{color:#403075;}.keyword{color:#AA9739;}.object.syntax{color:#337AB7;}.array.syntax{color:#337AB7;}></style><div id=\"128de7b3-9923-43c5-9f7e-9a21d3400441\"></div>"
      ]
     },
     "metadata": {},
     "output_type": "display_data"
    },
    {
     "data": {
      "application/javascript": "require([\"https://rawgit.com/caldwell/renderjson/master/renderjson.js\"], function() {document.getElementById('128de7b3-9923-43c5-9f7e-9a21d3400441').appendChild(renderjson.set_show_to_level(2)([{\"_id\": {\"$oid\": \"617ac7a77600c0232472a344\"}, \"nom\": \"BDA\"}, {\"_id\": {\"$oid\": \"617ac7377600c0232472a343\"}, \"nom\": \"MIA\"}, {\"_id\": {\"$oid\": \"617ac5da7600c0232472a340\"}, \"nom\": \"PIA\"}, {\"_id\": {\"$oid\": \"617ac7377600c0232472a341\"}, \"nom\": \"SAA\"}, {\"_id\": {\"$oid\": \"617ac7377600c0232472a342\"}, \"nom\": \"SBD\"}]))});"
     },
     "metadata": {},
     "output_type": "display_data"
    },
    {
     "data": {
      "text/plain": [
       "{ \"_id\" : ObjectId(\"617ac7a77600c0232472a344\"), \"nom\" : \"BDA\" }\r\n",
       "{ \"_id\" : ObjectId(\"617ac7377600c0232472a343\"), \"nom\" : \"MIA\" }\r\n",
       "{ \"_id\" : ObjectId(\"617ac5da7600c0232472a340\"), \"nom\" : \"PIA\" }\r\n",
       "{ \"_id\" : ObjectId(\"617ac7377600c0232472a341\"), \"nom\" : \"SAA\" }\r\n",
       "{ \"_id\" : ObjectId(\"617ac7377600c0232472a342\"), \"nom\" : \"SBD\" }"
      ]
     },
     "execution_count": 81,
     "metadata": {},
     "output_type": "execute_result"
    }
   ],
   "source": [
    "db.moduls.find({},{\"nom\":1}).sort({\"nom\":1})"
   ]
  },
  {
   "cell_type": "markdown",
   "id": "efa9fb1a",
   "metadata": {},
   "source": [
    "Mostra el nom dels mòduls ordenats per nom, només els dos primers documents"
   ]
  },
  {
   "cell_type": "code",
   "execution_count": 82,
   "id": "2b360475",
   "metadata": {},
   "outputs": [
    {
     "data": {
      "text/html": [
       "<style>a.disclosure:link{text-decoration:none;}a.disclosure:visited{text-decoration:none;}.disclosure{color:#337AB7;font-size:150%;}.syntax{color:grey;}.string{color:#9A334F;}.number{color:#5C9632;}.boolean{color:#AA9739;}.key{color:#403075;}.keyword{color:#AA9739;}.object.syntax{color:#337AB7;}.array.syntax{color:#337AB7;}></style><div id=\"875a32c7-e2a0-45cc-a231-74cf74e8f9c5\"></div>"
      ]
     },
     "metadata": {},
     "output_type": "display_data"
    },
    {
     "data": {
      "application/javascript": "require([\"https://rawgit.com/caldwell/renderjson/master/renderjson.js\"], function() {document.getElementById('875a32c7-e2a0-45cc-a231-74cf74e8f9c5').appendChild(renderjson.set_show_to_level(2)([{\"_id\": {\"$oid\": \"617ac7a77600c0232472a344\"}, \"nom\": \"BDA\"}, {\"_id\": {\"$oid\": \"617ac7377600c0232472a343\"}, \"nom\": \"MIA\"}]))});"
     },
     "metadata": {},
     "output_type": "display_data"
    },
    {
     "data": {
      "text/plain": [
       "{ \"_id\" : ObjectId(\"617ac7a77600c0232472a344\"), \"nom\" : \"BDA\" }\r\n",
       "{ \"_id\" : ObjectId(\"617ac7377600c0232472a343\"), \"nom\" : \"MIA\" }"
      ]
     },
     "execution_count": 82,
     "metadata": {},
     "output_type": "execute_result"
    }
   ],
   "source": [
    "db.moduls.find({},{\"nom\":1}).sort({\"nom\":1}).limit(2)"
   ]
  },
  {
   "cell_type": "markdown",
   "id": "beed7586",
   "metadata": {},
   "source": [
    "Mostra el nom dels mòduls ordenats per nom, es bota el dos primers"
   ]
  },
  {
   "cell_type": "code",
   "execution_count": 83,
   "id": "668bae38",
   "metadata": {},
   "outputs": [
    {
     "data": {
      "text/html": [
       "<style>a.disclosure:link{text-decoration:none;}a.disclosure:visited{text-decoration:none;}.disclosure{color:#337AB7;font-size:150%;}.syntax{color:grey;}.string{color:#9A334F;}.number{color:#5C9632;}.boolean{color:#AA9739;}.key{color:#403075;}.keyword{color:#AA9739;}.object.syntax{color:#337AB7;}.array.syntax{color:#337AB7;}></style><div id=\"015b3c06-790f-40cd-954c-3b8811b811fd\"></div>"
      ]
     },
     "metadata": {},
     "output_type": "display_data"
    },
    {
     "data": {
      "application/javascript": "require([\"https://rawgit.com/caldwell/renderjson/master/renderjson.js\"], function() {document.getElementById('015b3c06-790f-40cd-954c-3b8811b811fd').appendChild(renderjson.set_show_to_level(2)([{\"_id\": {\"$oid\": \"617ac5da7600c0232472a340\"}, \"nom\": \"PIA\"}, {\"_id\": {\"$oid\": \"617ac7377600c0232472a341\"}, \"nom\": \"SAA\"}, {\"_id\": {\"$oid\": \"617ac7377600c0232472a342\"}, \"nom\": \"SBD\"}]))});"
     },
     "metadata": {},
     "output_type": "display_data"
    },
    {
     "data": {
      "text/plain": [
       "{ \"_id\" : ObjectId(\"617ac5da7600c0232472a340\"), \"nom\" : \"PIA\" }\r\n",
       "{ \"_id\" : ObjectId(\"617ac7377600c0232472a341\"), \"nom\" : \"SAA\" }\r\n",
       "{ \"_id\" : ObjectId(\"617ac7377600c0232472a342\"), \"nom\" : \"SBD\" }"
      ]
     },
     "execution_count": 83,
     "metadata": {},
     "output_type": "execute_result"
    }
   ],
   "source": [
    "db.moduls.find({},{\"nom\":1}).sort({\"nom\":1}).skip(2)"
   ]
  },
  {
   "cell_type": "markdown",
   "id": "393198a1",
   "metadata": {},
   "source": [
    "Copia el resultat de la cerca a la variable a en forma d'array"
   ]
  },
  {
   "cell_type": "code",
   "execution_count": 84,
   "id": "baf25d0c",
   "metadata": {},
   "outputs": [
    {
     "data": {},
     "metadata": {},
     "output_type": "display_data"
    },
    {
     "data": {},
     "metadata": {},
     "output_type": "display_data"
    },
    {
     "data": {
      "text/plain": [
       "[\r\n",
       "\t{\r\n",
       "\t\t\"_id\" : ObjectId(\"617ac5da7600c0232472a340\"),\r\n",
       "\t\t\"nom\" : \"PIA\"\r\n",
       "\t},\r\n",
       "\t{\r\n",
       "\t\t\"_id\" : ObjectId(\"617ac7377600c0232472a341\"),\r\n",
       "\t\t\"nom\" : \"SAA\"\r\n",
       "\t},\r\n",
       "\t{\r\n",
       "\t\t\"_id\" : ObjectId(\"617ac7377600c0232472a342\"),\r\n",
       "\t\t\"nom\" : \"SBD\"\r\n",
       "\t},\r\n",
       "\t{\r\n",
       "\t\t\"_id\" : ObjectId(\"617ac7377600c0232472a343\"),\r\n",
       "\t\t\"nom\" : \"MIA\"\r\n",
       "\t},\r\n",
       "\t{\r\n",
       "\t\t\"_id\" : ObjectId(\"617ac7a77600c0232472a344\"),\r\n",
       "\t\t\"nom\" : \"BDA\"\r\n",
       "\t}\r\n",
       "]"
      ]
     },
     "execution_count": 84,
     "metadata": {},
     "output_type": "execute_result"
    }
   ],
   "source": [
    "a=db.moduls.find({},{\"nom\":1}).toArray()"
   ]
  },
  {
   "cell_type": "markdown",
   "id": "7ab36ab3",
   "metadata": {},
   "source": [
    "Visualitza la variable a"
   ]
  },
  {
   "cell_type": "code",
   "execution_count": 85,
   "id": "d8b6cec1",
   "metadata": {},
   "outputs": [
    {
     "data": {},
     "metadata": {},
     "output_type": "display_data"
    },
    {
     "data": {},
     "metadata": {},
     "output_type": "display_data"
    },
    {
     "data": {
      "text/plain": [
       "[\r\n",
       "\t{\r\n",
       "\t\t\"_id\" : ObjectId(\"617ac5da7600c0232472a340\"),\r\n",
       "\t\t\"nom\" : \"PIA\"\r\n",
       "\t},\r\n",
       "\t{\r\n",
       "\t\t\"_id\" : ObjectId(\"617ac7377600c0232472a341\"),\r\n",
       "\t\t\"nom\" : \"SAA\"\r\n",
       "\t},\r\n",
       "\t{\r\n",
       "\t\t\"_id\" : ObjectId(\"617ac7377600c0232472a342\"),\r\n",
       "\t\t\"nom\" : \"SBD\"\r\n",
       "\t},\r\n",
       "\t{\r\n",
       "\t\t\"_id\" : ObjectId(\"617ac7377600c0232472a343\"),\r\n",
       "\t\t\"nom\" : \"MIA\"\r\n",
       "\t},\r\n",
       "\t{\r\n",
       "\t\t\"_id\" : ObjectId(\"617ac7a77600c0232472a344\"),\r\n",
       "\t\t\"nom\" : \"BDA\"\r\n",
       "\t}\r\n",
       "]"
      ]
     },
     "execution_count": 85,
     "metadata": {},
     "output_type": "execute_result"
    }
   ],
   "source": [
    "a"
   ]
  },
  {
   "cell_type": "markdown",
   "id": "8e4f5476",
   "metadata": {},
   "source": [
    "Crea la col·lecció \"copia_moduls\""
   ]
  },
  {
   "cell_type": "code",
   "execution_count": 5,
   "id": "ff52c223",
   "metadata": {
    "scrolled": true
   },
   "outputs": [
    {
     "data": {
      "text/html": [
       "<style>a.disclosure:link{text-decoration:none;}a.disclosure:visited{text-decoration:none;}.disclosure{color:#337AB7;font-size:150%;}.syntax{color:grey;}.string{color:#9A334F;}.number{color:#5C9632;}.boolean{color:#AA9739;}.key{color:#403075;}.keyword{color:#AA9739;}.object.syntax{color:#337AB7;}.array.syntax{color:#337AB7;}></style><div id=\"d294a2f8-ae7b-4dd1-8184-f74bc323fefc\"></div>"
      ]
     },
     "metadata": {},
     "output_type": "display_data"
    },
    {
     "data": {
      "application/javascript": "require([\"https://rawgit.com/caldwell/renderjson/master/renderjson.js\"], function() {document.getElementById('d294a2f8-ae7b-4dd1-8184-f74bc323fefc').appendChild(renderjson.set_show_to_level(2)({\"ok\": 1}))});"
     },
     "metadata": {},
     "output_type": "display_data"
    },
    {
     "data": {
      "text/plain": [
       "{ \"ok\" : 1 }"
      ]
     },
     "execution_count": 5,
     "metadata": {},
     "output_type": "execute_result"
    }
   ],
   "source": [
    "db.createCollection(\"copia_moduls\")"
   ]
  },
  {
   "cell_type": "markdown",
   "id": "74df69e0",
   "metadata": {},
   "source": [
    "Mostra les coleccions per una base de dades"
   ]
  },
  {
   "cell_type": "code",
   "execution_count": 6,
   "id": "b7010fe4",
   "metadata": {},
   "outputs": [
    {
     "data": {},
     "metadata": {},
     "output_type": "display_data"
    },
    {
     "data": {},
     "metadata": {},
     "output_type": "display_data"
    },
    {
     "data": {
      "text/plain": [
       "copia_moduls\r\n",
       "moduls"
      ]
     },
     "execution_count": 6,
     "metadata": {},
     "output_type": "execute_result"
    }
   ],
   "source": [
    "show collections"
   ]
  },
  {
   "cell_type": "markdown",
   "id": "f93707e0",
   "metadata": {},
   "source": [
    "Insereix els objectes de l'array a"
   ]
  },
  {
   "cell_type": "code",
   "execution_count": 88,
   "id": "5bd9f18a",
   "metadata": {},
   "outputs": [
    {
     "data": {
      "text/html": [
       "<style>a.disclosure:link{text-decoration:none;}a.disclosure:visited{text-decoration:none;}.disclosure{color:#337AB7;font-size:150%;}.syntax{color:grey;}.string{color:#9A334F;}.number{color:#5C9632;}.boolean{color:#AA9739;}.key{color:#403075;}.keyword{color:#AA9739;}.object.syntax{color:#337AB7;}.array.syntax{color:#337AB7;}></style><div id=\"e51b72cf-00ca-492f-a195-e03ff2e3b1be\"></div>"
      ]
     },
     "metadata": {},
     "output_type": "display_data"
    },
    {
     "data": {
      "application/javascript": "require([\"https://rawgit.com/caldwell/renderjson/master/renderjson.js\"], function() {document.getElementById('e51b72cf-00ca-492f-a195-e03ff2e3b1be').appendChild(renderjson.set_show_to_level(2)([{\"$oid\": \"617ac7a77600c0232472a344\"}]))});"
     },
     "metadata": {},
     "output_type": "display_data"
    },
    {
     "data": {
      "text/plain": [
       "{\r\n",
       "\t\"acknowledged\" : true,\r\n",
       "\t\"insertedIds\" : [\r\n",
       "\t\tObjectId(\"617ac5da7600c0232472a340\"),\r\n",
       "\t\tObjectId(\"617ac7377600c0232472a341\"),\r\n",
       "\t\tObjectId(\"617ac7377600c0232472a342\"),\r\n",
       "\t\tObjectId(\"617ac7377600c0232472a343\"),\r\n",
       "\t\tObjectId(\"617ac7a77600c0232472a344\")\r\n",
       "\t]\r\n",
       "}"
      ]
     },
     "execution_count": 88,
     "metadata": {},
     "output_type": "execute_result"
    }
   ],
   "source": [
    "db.copia_modul.insertMany(a)"
   ]
  },
  {
   "cell_type": "markdown",
   "id": "0ad19bc6",
   "metadata": {},
   "source": [
    "Mostra el documents de \"copia_modul\""
   ]
  },
  {
   "cell_type": "code",
   "execution_count": 89,
   "id": "c5ea2381",
   "metadata": {},
   "outputs": [
    {
     "data": {
      "text/html": [
       "<style>a.disclosure:link{text-decoration:none;}a.disclosure:visited{text-decoration:none;}.disclosure{color:#337AB7;font-size:150%;}.syntax{color:grey;}.string{color:#9A334F;}.number{color:#5C9632;}.boolean{color:#AA9739;}.key{color:#403075;}.keyword{color:#AA9739;}.object.syntax{color:#337AB7;}.array.syntax{color:#337AB7;}></style><div id=\"b3fdb23d-2eb6-4274-8a62-f9a0f15000ec\"></div>"
      ]
     },
     "metadata": {},
     "output_type": "display_data"
    },
    {
     "data": {
      "application/javascript": "require([\"https://rawgit.com/caldwell/renderjson/master/renderjson.js\"], function() {document.getElementById('b3fdb23d-2eb6-4274-8a62-f9a0f15000ec').appendChild(renderjson.set_show_to_level(2)([{\"_id\": {\"$oid\": \"617ac5da7600c0232472a340\"}, \"nom\": \"PIA\"}, {\"_id\": {\"$oid\": \"617ac7377600c0232472a341\"}, \"nom\": \"SAA\"}, {\"_id\": {\"$oid\": \"617ac7377600c0232472a342\"}, \"nom\": \"SBD\"}, {\"_id\": {\"$oid\": \"617ac7377600c0232472a343\"}, \"nom\": \"MIA\"}, {\"_id\": {\"$oid\": \"617ac7a77600c0232472a344\"}, \"nom\": \"BDA\"}]))});"
     },
     "metadata": {},
     "output_type": "display_data"
    },
    {
     "data": {
      "text/plain": [
       "{ \"_id\" : ObjectId(\"617ac5da7600c0232472a340\"), \"nom\" : \"PIA\" }\r\n",
       "{ \"_id\" : ObjectId(\"617ac7377600c0232472a341\"), \"nom\" : \"SAA\" }\r\n",
       "{ \"_id\" : ObjectId(\"617ac7377600c0232472a342\"), \"nom\" : \"SBD\" }\r\n",
       "{ \"_id\" : ObjectId(\"617ac7377600c0232472a343\"), \"nom\" : \"MIA\" }\r\n",
       "{ \"_id\" : ObjectId(\"617ac7a77600c0232472a344\"), \"nom\" : \"BDA\" }"
      ]
     },
     "execution_count": 89,
     "metadata": {},
     "output_type": "execute_result"
    }
   ],
   "source": [
    "db.copia_modul.find()"
   ]
  },
  {
   "cell_type": "markdown",
   "id": "14bc9ace",
   "metadata": {},
   "source": [
    "Esborra la col·lecció \"copia_mòdul\""
   ]
  },
  {
   "cell_type": "code",
   "execution_count": 4,
   "id": "449f36cb",
   "metadata": {},
   "outputs": [
    {
     "data": {
      "text/html": [
       "<style>a.disclosure:link{text-decoration:none;}a.disclosure:visited{text-decoration:none;}.disclosure{color:#337AB7;font-size:150%;}.syntax{color:grey;}.string{color:#9A334F;}.number{color:#5C9632;}.boolean{color:#AA9739;}.key{color:#403075;}.keyword{color:#AA9739;}.object.syntax{color:#337AB7;}.array.syntax{color:#337AB7;}></style><div id=\"3d1c15cf-a222-43e1-bf56-fdc200dba0eb\"></div>"
      ]
     },
     "metadata": {},
     "output_type": "display_data"
    },
    {
     "data": {
      "application/javascript": "require([\"https://rawgit.com/caldwell/renderjson/master/renderjson.js\"], function() {document.getElementById('3d1c15cf-a222-43e1-bf56-fdc200dba0eb').appendChild(renderjson.set_show_to_level(2)(true))});"
     },
     "metadata": {},
     "output_type": "display_data"
    },
    {
     "data": {
      "text/plain": [
       "true"
      ]
     },
     "execution_count": 4,
     "metadata": {},
     "output_type": "execute_result"
    }
   ],
   "source": [
    "db.copia_modul.drop()"
   ]
  },
  {
   "cell_type": "markdown",
   "id": "507976fb",
   "metadata": {},
   "source": []
  }
 ],
 "metadata": {
  "kernelspec": {
   "display_name": "IMongo",
   "language": "",
   "name": "imongo"
  },
  "language_info": {
   "codemirror_mode": "shell",
   "file_extension": ".js",
   "mimetype": "text/x-mongodb",
   "name": "javascript"
  }
 },
 "nbformat": 4,
 "nbformat_minor": 5
}
